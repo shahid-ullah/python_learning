{
 "cells": [
  {
   "cell_type": "code",
   "execution_count": 1,
   "id": "1ec7eb48-de0b-445d-8333-faa6ad79ecf6",
   "metadata": {},
   "outputs": [],
   "source": [
    "from IPython.core.interactiveshell import InteractiveShell\n",
    "InteractiveShell.ast_node_interactivity = \"all\""
   ]
  },
  {
   "cell_type": "code",
   "execution_count": 2,
   "id": "10e381a4-2349-4073-99c5-26b3e3bbce7e",
   "metadata": {},
   "outputs": [
    {
     "data": {
      "text/plain": [
       "'/home/shahid/projects/python_learning/notebooks'"
      ]
     },
     "execution_count": 2,
     "metadata": {},
     "output_type": "execute_result"
    }
   ],
   "source": [
    "import os\n",
    "\n",
    "os.getcwd()\n",
    "cwd = os.getcwd()"
   ]
  },
  {
   "cell_type": "code",
   "execution_count": 5,
   "id": "4623acbe-d180-4594-aa5b-09223632eeee",
   "metadata": {},
   "outputs": [
    {
     "data": {
      "text/plain": [
       "'/home/shahid/Desktop'"
      ]
     },
     "execution_count": 5,
     "metadata": {},
     "output_type": "execute_result"
    }
   ],
   "source": [
    "os.chdir('/home/shahid/Desktop')\n",
    "os.getcwd()"
   ]
  },
  {
   "cell_type": "code",
   "execution_count": 6,
   "id": "2e617240-08a0-45f2-a55d-d28c7895efd1",
   "metadata": {},
   "outputs": [
    {
     "data": {
      "text/plain": [
       "'/home/shahid/projects/python_learning/notebooks'"
      ]
     },
     "execution_count": 6,
     "metadata": {},
     "output_type": "execute_result"
    }
   ],
   "source": [
    "os.chdir(cwd)\n",
    "os.getcwd()"
   ]
  },
  {
   "cell_type": "code",
   "execution_count": 7,
   "id": "958b0401-c915-4322-9e8a-db2f54633787",
   "metadata": {},
   "outputs": [],
   "source": [
    "os.mkdir('new_folder')"
   ]
  },
  {
   "cell_type": "code",
   "execution_count": 8,
   "id": "91962e6e-3223-4fa4-82ab-296f810ec880",
   "metadata": {},
   "outputs": [],
   "source": [
    " os.makedirs('1/2/3/4/5')"
   ]
  },
  {
   "cell_type": "code",
   "execution_count": 11,
   "id": "ebb86d6d-fa7e-41a0-8b8a-46271803efcb",
   "metadata": {},
   "outputs": [],
   "source": [
    "!touch test.log"
   ]
  },
  {
   "cell_type": "code",
   "execution_count": 12,
   "id": "6abcef4a-8039-4548-a5ad-831f6f09b300",
   "metadata": {},
   "outputs": [],
   "source": [
    " os.remove('test.log')"
   ]
  },
  {
   "cell_type": "code",
   "execution_count": 13,
   "id": "ecc2ffd5-da6e-4953-b6fd-a468161066da",
   "metadata": {},
   "outputs": [
    {
     "ename": "FileNotFoundError",
     "evalue": "[Errno 2] No such file or directory: 'test'",
     "output_type": "error",
     "traceback": [
      "\u001b[0;31m---------------------------------------------------------------------------\u001b[0m",
      "\u001b[0;31mFileNotFoundError\u001b[0m                         Traceback (most recent call last)",
      "Input \u001b[0;32mIn [13]\u001b[0m, in \u001b[0;36m<cell line: 1>\u001b[0;34m()\u001b[0m\n\u001b[0;32m----> 1\u001b[0m \u001b[43mos\u001b[49m\u001b[38;5;241;43m.\u001b[39;49m\u001b[43mrmdir\u001b[49m\u001b[43m(\u001b[49m\u001b[38;5;124;43m'\u001b[39;49m\u001b[38;5;124;43mtest\u001b[39;49m\u001b[38;5;124;43m'\u001b[39;49m\u001b[43m)\u001b[49m\n",
      "\u001b[0;31mFileNotFoundError\u001b[0m: [Errno 2] No such file or directory: 'test'"
     ]
    }
   ],
   "source": [
    "os.rmdir('test')"
   ]
  },
  {
   "cell_type": "code",
   "execution_count": 14,
   "id": "6b203900-c884-412e-bc5b-a1f3ca0c08e2",
   "metadata": {},
   "outputs": [],
   "source": [
    "# os.rename('test.log', 'test.txt')"
   ]
  },
  {
   "cell_type": "markdown",
   "id": "ece188ff-2b98-4721-bc27-60e16b985bb9",
   "metadata": {},
   "source": [
    "## os.path"
   ]
  },
  {
   "cell_type": "code",
   "execution_count": 22,
   "id": "e37b45f9-8f10-449f-a538-7c93c4b8ed5e",
   "metadata": {},
   "outputs": [
    {
     "data": {
      "text/plain": [
       "'test.py'"
      ]
     },
     "execution_count": 22,
     "metadata": {},
     "output_type": "execute_result"
    }
   ],
   "source": [
    "os.path.basename('/home/shahid/Desktop/test.py')"
   ]
  },
  {
   "cell_type": "code",
   "execution_count": 23,
   "id": "dcc57933-d012-40a6-9e04-8e329e96ac8b",
   "metadata": {},
   "outputs": [
    {
     "data": {
      "text/plain": [
       "'/home/shahid/Desktop'"
      ]
     },
     "execution_count": 23,
     "metadata": {},
     "output_type": "execute_result"
    }
   ],
   "source": [
    "os.path.dirname('/home/shahid/Desktop/test.py')"
   ]
  },
  {
   "cell_type": "code",
   "execution_count": 24,
   "id": "1c263d91-7bb7-4c0d-af91-d687bee6de6a",
   "metadata": {},
   "outputs": [
    {
     "data": {
      "text/plain": [
       "False"
      ]
     },
     "execution_count": 24,
     "metadata": {},
     "output_type": "execute_result"
    }
   ],
   "source": [
    "os.path.exists('/home/shahid/Desktop/test.py')"
   ]
  },
  {
   "cell_type": "code",
   "execution_count": 27,
   "id": "5125069d-62db-4680-ab5f-15c14aa09bfb",
   "metadata": {},
   "outputs": [
    {
     "data": {
      "text/plain": [
       "True"
      ]
     },
     "execution_count": 27,
     "metadata": {},
     "output_type": "execute_result"
    }
   ],
   "source": [
    "os.path.isdir('/home/shahid/Desktop')"
   ]
  },
  {
   "cell_type": "code",
   "execution_count": 29,
   "id": "0810964e-6e55-419c-bed1-c2afb3d67827",
   "metadata": {},
   "outputs": [],
   "source": [
    "# os.path.isfile('/home/shahid/Desktop/test.py')"
   ]
  },
  {
   "cell_type": "code",
   "execution_count": 15,
   "id": "c146f36c-7cc4-43fe-abef-20ddbc2969bb",
   "metadata": {},
   "outputs": [
    {
     "data": {
      "text/plain": [
       "'/home/shahid/projects/python_learning/notebooks/test.py'"
      ]
     },
     "execution_count": 15,
     "metadata": {},
     "output_type": "execute_result"
    }
   ],
   "source": [
    "os.path.join(os.getcwd(), 'test.py')"
   ]
  },
  {
   "cell_type": "code",
   "execution_count": 31,
   "id": "5636f0ae-a5ec-4ee5-a92f-a5b87ed373d9",
   "metadata": {},
   "outputs": [
    {
     "data": {
      "text/plain": [
       "('/home/shahid/Desktop', 'test.py')"
      ]
     },
     "execution_count": 31,
     "metadata": {},
     "output_type": "execute_result"
    }
   ],
   "source": [
    "os.path.split('/home/shahid/Desktop/test.py')"
   ]
  },
  {
   "cell_type": "code",
   "execution_count": 33,
   "id": "de68baf9-5666-4819-ad92-d5ec14a8242f",
   "metadata": {},
   "outputs": [
    {
     "name": "stdout",
     "output_type": "stream",
     "text": [
      "5.15.0-46-generic\n"
     ]
    },
    {
     "data": {
      "text/plain": [
       "0"
      ]
     },
     "execution_count": 33,
     "metadata": {},
     "output_type": "execute_result"
    }
   ],
   "source": [
    "os.system('uname -r')"
   ]
  },
  {
   "cell_type": "code",
   "execution_count": 34,
   "id": "f513926d-3c5f-4263-b8aa-d539383ce9cf",
   "metadata": {},
   "outputs": [
    {
     "data": {
      "text/plain": [
       "['dict.ipynb',\n",
       " 'tuple.ipynb',\n",
       " '.ipynb_checkpoints',\n",
       " 'python_path.png',\n",
       " 'set.ipynb',\n",
       " 'os.ipynb',\n",
       " '1',\n",
       " 'function.ipynb',\n",
       " 'keeping time, scheduling tasks, and lunching programs.ipynb',\n",
       " 'language basics.ipynb',\n",
       " 'day 0202.ipynb',\n",
       " 'goodies.ipynb',\n",
       " 'list.ipynb',\n",
       " 'day0201.md',\n",
       " 'files.ipynb',\n",
       " 'toggle_cell.py',\n",
       " 'class.ipynb',\n",
       " 'day 01.ipynb',\n",
       " 'subprocess.ipynb',\n",
       " 'string.ipynb',\n",
       " 'new_folder']"
      ]
     },
     "execution_count": 34,
     "metadata": {},
     "output_type": "execute_result"
    }
   ],
   "source": [
    "os.listdir(os.getcwd())"
   ]
  },
  {
   "cell_type": "code",
   "execution_count": 17,
   "id": "56c6237f-607a-4c2d-9132-c620f1fa172d",
   "metadata": {},
   "outputs": [],
   "source": [
    "# !ls"
   ]
  },
  {
   "cell_type": "code",
   "execution_count": 42,
   "id": "2af40cf6-8af2-4f12-9c83-a5f7761c2dd3",
   "metadata": {},
   "outputs": [
    {
     "name": "stdout",
     "output_type": "stream",
     "text": [
      "['dict.ipynb', 'tuple.ipynb', 'python_path.png', 'set.ipynb', 'os.ipynb', 'function.ipynb', 'keeping time, scheduling tasks, and lunching programs.ipynb', 'language basics.ipynb', 'day 0202.ipynb', 'goodies.ipynb', 'list.ipynb', 'day0201.md', 'files.ipynb', 'toggle_cell.py', 'class.ipynb', 'day 01.ipynb', 'subprocess.ipynb', 'string.ipynb', 'day0201-checkpoint.md', 'tuple-checkpoint.ipynb', 'keeping time, scheduling tasks, and lunching programs-checkpoint.ipynb', 'dict-checkpoint.ipynb', 'goodies-checkpoint.ipynb', 'language basics-checkpoint.ipynb', 'class-checkpoint.ipynb', 'os-checkpoint.ipynb', 'files-checkpoint.ipynb', 'list-checkpoint.ipynb', 'string-checkpoint.ipynb', 'set-checkpoint.ipynb', 'function-checkpoint.ipynb', 'day 01-checkpoint.ipynb', 'subprocess-checkpoint.ipynb', 'day 0202-checkpoint.ipynb']\n"
     ]
    }
   ],
   "source": [
    "# for file in  os.walk(os.getcwd()):\n",
    "    # print(file)\n",
    "res = []\n",
    "for (dir_path, dir_names, file_names) in os.walk(os.getcwd()):\n",
    "    res.extend(file_names)\n",
    "print(res)"
   ]
  },
  {
   "cell_type": "code",
   "execution_count": 44,
   "id": "40db2493-d254-4217-a66f-e0f5bcdea06c",
   "metadata": {},
   "outputs": [
    {
     "name": "stdout",
     "output_type": "stream",
     "text": [
      "dict.ipynb\n",
      "tuple.ipynb\n",
      ".ipynb_checkpoints\n",
      "python_path.png\n",
      "set.ipynb\n",
      "os.ipynb\n",
      "1\n",
      "function.ipynb\n",
      "keeping time, scheduling tasks, and lunching programs.ipynb\n",
      "language basics.ipynb\n",
      "day 0202.ipynb\n",
      "goodies.ipynb\n",
      "list.ipynb\n",
      "day0201.md\n",
      "files.ipynb\n",
      "toggle_cell.py\n",
      "class.ipynb\n",
      "day 01.ipynb\n",
      "subprocess.ipynb\n",
      "string.ipynb\n",
      "new_folder\n"
     ]
    }
   ],
   "source": [
    "for path in os.scandir(os.getcwd()):\n",
    "    print(path.name)"
   ]
  }
 ],
 "metadata": {
  "kernelspec": {
   "display_name": "Python 3 (ipykernel)",
   "language": "python",
   "name": "python3"
  },
  "language_info": {
   "codemirror_mode": {
    "name": "ipython",
    "version": 3
   },
   "file_extension": ".py",
   "mimetype": "text/x-python",
   "name": "python",
   "nbconvert_exporter": "python",
   "pygments_lexer": "ipython3",
   "version": "3.8.10"
  }
 },
 "nbformat": 4,
 "nbformat_minor": 5
}
