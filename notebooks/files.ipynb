{
 "cells": [
  {
   "cell_type": "markdown",
   "id": "e843afc0-1a1c-43e2-bd00-661f1d96395a",
   "metadata": {},
   "source": [
    "- Persistence\n",
    "- Reading and Writing\n",
    "- Format Operator\n",
    "- Filenames and Paths\n",
    "- Catching Exceptions\n",
    "- Databases\n",
    "- Pickling\n",
    "- Pipes\n",
    "- Writing Modules\n",
    "- Exercises"
   ]
  }
 ],
 "metadata": {
  "kernelspec": {
   "display_name": "Python 3 (ipykernel)",
   "language": "python",
   "name": "python3"
  },
  "language_info": {
   "codemirror_mode": {
    "name": "ipython",
    "version": 3
   },
   "file_extension": ".py",
   "mimetype": "text/x-python",
   "name": "python",
   "nbconvert_exporter": "python",
   "pygments_lexer": "ipython3",
   "version": "3.8.10"
  }
 },
 "nbformat": 4,
 "nbformat_minor": 5
}
