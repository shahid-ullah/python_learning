{
 "cells": [
  {
   "cell_type": "markdown",
   "id": "09371d45-7513-4011-93d2-69498119d380",
   "metadata": {},
   "source": [
    "## Day 01:\n",
    "- Environment setup\n",
    "    - Python installation\n",
    "    - Virtualenv installation (venv/pipenv,poetry, conda,virtualwrapper, ...,)\n",
    "    - Pip installation (pip vs pip3)\n",
    "    - Jupyter-lab installation (jupyer-notebook)\n",
    "    - Vscode \n",
    "        - black\n",
    "        - isort\n"
   ]
  },
  {
   "cell_type": "markdown",
   "id": "13214d6b-37ea-4b7c-b6d2-df94726de1f9",
   "metadata": {},
   "source": [
    "### Python/Python Interpreter Installation\n",
    "## Windows users\n",
    "- Download python interpreter from python official site.\n",
    "- [python download page](https://www.python.org/downloads/windows/)\n",
    "- make sure add python to path checked\n",
    "![python path](../data/python_path.png)\n",
    "\n"
   ]
  },
  {
   "cell_type": "markdown",
   "id": "5556f8c0-a53f-493e-aa5b-5533c4919db7",
   "metadata": {},
   "source": [
    "## __chcking venv installation__\n",
    "### windows users\n",
    "1. open command prompt (type cmd in search bar) \n",
    "2. type __python__ and enter (the python interpreter will display)\n",
    "\n",
    "```pycon\n",
    ">>> import venv\n",
    "```\n",
    "\n",
    "if no error occurs then venv already installed.\n",
    "\n",
    "\n",
    "### Linux users\n",
    "1. type __python__ in command prompt (python interpreter will display)\n",
    "2. __import venv__ in python interpreter\n",
    "\n",
    "if venv is not installed, install virtualenv instead\n",
    "\n",
    "```bash\n",
    "$ python -m pip install --user virtualenv\n",
    "$ source ~/.profile\n",
    "```\n",
    "\n"
   ]
  },
  {
   "cell_type": "markdown",
   "id": "52adbac2-1191-4f51-ab87-bea2e7a23b0d",
   "metadata": {},
   "source": [
    "### Pip installtion\n",
    "\n",
    "windows user already have pip installed\n",
    "linux users, if not installed\n",
    "\n",
    "```sh\n",
    "$ sudo apt install python3-pip\n",
    "```"
   ]
  },
  {
   "cell_type": "markdown",
   "id": "43aa015f-7677-4cd9-9b6d-6747cbcafc03",
   "metadata": {},
   "source": [
    "###  Install/Uninstall packages using pip\n",
    "```sh\n",
    "$ pip install package_name\n",
    "$ pip uninstall package_name\n",
    "```"
   ]
  },
  {
   "cell_type": "markdown",
   "id": "462e2325-8c7c-4fed-be1c-818f9311c066",
   "metadata": {},
   "source": [
    "## Vscode setup\n",
    "- [Download vscode from official site](https://code.visualstudio.com/)\n",
    "- open vscode \n",
    "- install python extension (by microsoft)\n",
    "- open settings file with ctrl+,\n",
    "- paste the bellow code\n",
    "\n",
    "```json\n",
    "  \"editor.formatOnSave\": false,\n",
    "  \"python.formatting.provider\": \"black\",\n",
    "  \"python.formatting.blackArgs\": [\"--skip-string-normalization\", \"--line-length\", \"120\"],\n",
    "  \"python.sortImports.args\": [\"--profile\", \"black\"],\n",
    "```\n"
   ]
  },
  {
   "cell_type": "markdown",
   "id": "55dc0b3e-83fc-491c-85de-a092907be62b",
   "metadata": {},
   "source": [
    "##  __Virtual Environment setup__\n",
    "\n",
    "1. create a folder as you like anywhere.\n",
    "2. open command prompt in that folder.\n",
    "3. for windows users type __python -m venv .venv__ and enter\n",
    "4. Active virtual environment [check your shell command here](https://docs.python.org/3/library/venv.html)\n"
   ]
  },
  {
   "cell_type": "markdown",
   "id": "1ef4f501-1d30-406c-a9a8-ddd72ce19200",
   "metadata": {},
   "source": [
    "## Tools Introduction\n",
    "\n",
    "- What these tools does?\n",
    "- Why we need these tools?\n",
    "- pip vs pip3"
   ]
  }
 ],
 "metadata": {
  "kernelspec": {
   "display_name": "Python 3 (ipykernel)",
   "language": "python",
   "name": "python3"
  },
  "language_info": {
   "codemirror_mode": {
    "name": "ipython",
    "version": 3
   },
   "file_extension": ".py",
   "mimetype": "text/x-python",
   "name": "python",
   "nbconvert_exporter": "python",
   "pygments_lexer": "ipython3",
   "version": "3.8.10"
  }
 },
 "nbformat": 4,
 "nbformat_minor": 5
}
