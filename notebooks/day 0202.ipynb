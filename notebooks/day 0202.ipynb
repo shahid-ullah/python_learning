{
 "cells": [
  {
   "cell_type": "code",
   "execution_count": null,
   "id": "699c7cda-b709-4849-ad20-61afa5d383f1",
   "metadata": {},
   "outputs": [],
   "source": []
  },
  {
   "cell_type": "markdown",
   "id": "507a051d-966d-4b1c-ba51-4f31470e995e",
   "metadata": {},
   "source": [
    "## Contents\n",
    "- python introduction\n",
    "- python use cases\n",
    "- python __command line__ / interpreter introduction\n",
    "- variable, keyword, data type, data input\n",
    "- data type conversation\n",
    "- operator\n",
    "- comment\n",
    "- Data structures in python\n",
    "- flow control / Branching\n",
    "- helpful functions\n",
    "    - type, dir, help\n",
    "    \n",
    "- [jupyter Notebook keybindings](https://towardsdatascience.com/jypyter-notebook-shortcuts-bf0101a98330)"
   ]
  },
  {
   "cell_type": "markdown",
   "id": "f6a41bda-ac7e-42c7-9ac0-22ab057bfbdc",
   "metadata": {},
   "source": [
    "## What is python?\n",
    "## How python language came out?\n",
    "- Python is an interpreted, object-oriented, high-level programming language with dynamic semantics\n",
    "- Python is a general-purpose programming language"
   ]
  },
  {
   "cell_type": "code",
   "execution_count": null,
   "id": "8224434a-cc42-4ff9-abbe-f6a671c7b039",
   "metadata": {},
   "outputs": [],
   "source": []
  },
  {
   "cell_type": "markdown",
   "id": "d2bf61ae-1e24-4b38-bd58-5821540dc2e5",
   "metadata": {},
   "source": [
    "spam = 0\n",
    "# if spam == 10:\n",
    "#     print('eggs')\n",
    "    \n",
    "#     if spam > 5:\n",
    "#         print('bacon')\n",
    "#     else:\n",
    "#         print('ham')\n",
    "#     print('spam')\n",
    "    \n",
    "# print('spam')### python use cases\n",
    "- Web Development\n",
    "- Data Science and Data Visualization\n",
    "- Machine Learning and Artificial Intelligence\n",
    "- Game Development\n",
    "- Desktop application\n",
    "- Web Scraping Applications\n",
    "- Audio and Video Applications\n",
    "- image processing\n",
    "- Language Development / Natural Language processing (corpus analysis)\n",
    "- ... \n",
    "\n",
    "### checkout these resources\n",
    "- [Awesome python](https://github.com/vinta/awesome-python)\n",
    "- [Awesome machine learning](https://github.com/josephmisiti/awesome-machine-learning)\n",
    "- [Awesome Django](https://github.com/wsvincent/awesome-django)"
   ]
  },
  {
   "cell_type": "code",
   "execution_count": null,
   "id": "88eba318-6304-42be-b821-74badbad3218",
   "metadata": {},
   "outputs": [],
   "source": []
  },
  {
   "cell_type": "markdown",
   "id": "7e4ad3fe-5b72-4981-a04f-0d8af0f20f4e",
   "metadata": {},
   "source": [
    "### python command line / python Interpreter\n",
    "```sh\n",
    "❯ python\n",
    "Python 3.8.10 (default, Jun 22 2022, 20:18:18)\n",
    "[GCC 9.4.0] on linux\n",
    "Type \"help\", \"copyright\", \"credits\" or \"license\" for more information.\n",
    ">>>\n",
    "\n",
    "```"
   ]
  },
  {
   "cell_type": "markdown",
   "id": "e0dc60da-b1f3-46b7-b772-8475612f3f57",
   "metadata": {},
   "source": [
    "```sh\n",
    ">>> print(\"Hello world\")\n",
    "Hello world\n",
    ">>> 1 + 3\n",
    "4\n",
    ">>> 8 / 4\n",
    "2.0\n",
    ">>> 8 // 4\n",
    "2\n",
    "```\n",
    "\n",
    "Every line is called a statement"
   ]
  },
  {
   "cell_type": "code",
   "execution_count": 5,
   "id": "3e05d5ed-5d0b-4b61-b2ff-d4150c55078e",
   "metadata": {},
   "outputs": [],
   "source": [
    "# Variable\n",
    "language = 'python'\n",
    "\n",
    "# left side variable, right side value\n",
    "# referece/address vs container/box"
   ]
  },
  {
   "cell_type": "markdown",
   "id": "5aa1e45d-f331-4573-bc04-f0c3d20cc1d5",
   "metadata": {},
   "source": [
    "### variable naming rules\n",
    "- A variable name must start with a letter or the underscore character.\n",
    "- A variable name cannot start with a number.\n",
    "- A variable name can only contain alpha-numeric characters and underscores (A-z, 0-9, and _ ).\n",
    "- Variable names are case-sensitive (name, Name and NAME are three different variables)."
   ]
  },
  {
   "cell_type": "markdown",
   "id": "6f95a96f-0d91-498f-97c7-b548d389bc5c",
   "metadata": {},
   "source": [
    "### Keywords\n",
    "__for__\n",
    "__def__\n",
    "__class__\n",
    "__False__\n",
    "__None__\n",
    "__in__\n",
    "__True__\n",
    "__and__\n",
    "__exec__\n",
    "__not__\n",
    "__as__\n",
    "__finally__\n",
    "__or__\n",
    "__assert__\n",
    "__pass__\n",
    "__break__\n",
    "__from__\n",
    "__print__\n",
    "__global__\n",
    "__raise__\n",
    "__continue__\n",
    "__if__\n",
    "__return__\n",
    "__import__\n",
    "__try__\n",
    "__del__\n",
    "__while__\n",
    "__elif__\n",
    "__is__\n",
    "__with__\n",
    "__else__\n",
    "__lambda__\n",
    "__yield__\n",
    "__except__"
   ]
  },
  {
   "cell_type": "code",
   "execution_count": 4,
   "id": "e1a5316a-bf0f-47ca-9c84-a2527a5a7235",
   "metadata": {},
   "outputs": [],
   "source": [
    "# def = 3\n",
    "# True = 4 + 2"
   ]
  },
  {
   "cell_type": "markdown",
   "id": "59854e2f-2fc0-43c2-bb46-bff04417ee72",
   "metadata": {},
   "source": [
    "## Data types\n",
    "- integer\n",
    "- float\n",
    "- boolean\n",
    "- str\n",
    "- list\n",
    "- set\n",
    "- dict\n",
    "- tuple\n"
   ]
  },
  {
   "cell_type": "code",
   "execution_count": 6,
   "id": "77a84023-054f-46ee-a9ce-e6d257b0061e",
   "metadata": {},
   "outputs": [
    {
     "name": "stdin",
     "output_type": "stream",
     "text": [
      " 10\n"
     ]
    },
    {
     "name": "stdout",
     "output_type": "stream",
     "text": [
      "10\n"
     ]
    }
   ],
   "source": [
    "### Data input\n",
    "a = input()\n",
    "\n",
    "print(a)"
   ]
  },
  {
   "cell_type": "markdown",
   "id": "66516af9-5967-4a67-a45f-5e8ea0062d09",
   "metadata": {},
   "source": [
    "### Type casting or type conversations\n",
    "\n",
    "| function      | Description |\n",
    "| ----------- | ----------- |\n",
    "| int()      | convert to int       |\n",
    "| float   | convert to float        |\n",
    "| str()   | convert to str        |\n",
    "| tuple()   | convert to tuple        |\n",
    "| list()   | convert to list        |\n",
    "| dict()   | convert to dictionary        |\n",
    "| set()   | convert to set        |"
   ]
  },
  {
   "cell_type": "markdown",
   "id": "3025ec30-a254-499b-bca1-5343f88f8654",
   "metadata": {},
   "source": [
    "### Opeator, operand and comment\n",
    "- Arithmetic operator (mathematical operator)\n",
    "- Boolean (True or False)\n",
    "- comparison operator\n",
    "- Assignment operator\n",
    "- logical operator\n",
    "- membership operator\n",
    "- Indentity operator\n"
   ]
  },
  {
   "cell_type": "code",
   "execution_count": null,
   "id": "690d9901-19a5-412e-8e0e-65f021d6e6b0",
   "metadata": {},
   "outputs": [],
   "source": [
    "a = 10\n",
    "# here a is operator and 10 is operand\n",
    "\n",
    "# Arithmetic: +, -, *, /, %, **, //\n",
    "# Comparison: ==, !=, >, < >=, <=\n",
    "# Assignment: =, +=, -=, *=, /=\n",
    "# Logical: and, or, not\n",
    "# Identity: is, is not"
   ]
  },
  {
   "cell_type": "code",
   "execution_count": 9,
   "id": "c41b2c0b-9d76-4195-8cba-5320264ed754",
   "metadata": {},
   "outputs": [
    {
     "data": {
      "text/plain": [
       "3"
      ]
     },
     "execution_count": 9,
     "metadata": {},
     "output_type": "execute_result"
    }
   ],
   "source": [
    "# Arithmetic\n",
    "3 + 2\n",
    "10 - 4\n",
    "10 / 3\n",
    "10 // 3"
   ]
  },
  {
   "cell_type": "code",
   "execution_count": 10,
   "id": "0be2e73b-13d7-46de-a803-664343307dd5",
   "metadata": {},
   "outputs": [
    {
     "data": {
      "text/plain": [
       "False"
      ]
     },
     "execution_count": 10,
     "metadata": {},
     "output_type": "execute_result"
    }
   ],
   "source": [
    "# comparison\n",
    "2 == 2\n",
    "2 != 2\n",
    "5 < 3"
   ]
  },
  {
   "cell_type": "code",
   "execution_count": 13,
   "id": "34cf6cfa-38df-4363-8425-174989d341b8",
   "metadata": {},
   "outputs": [
    {
     "data": {
      "text/plain": [
       "True"
      ]
     },
     "execution_count": 13,
     "metadata": {},
     "output_type": "execute_result"
    }
   ],
   "source": [
    "# Logical\n",
    "5 and 5\n",
    "'one' == 'one'\n"
   ]
  },
  {
   "cell_type": "code",
   "execution_count": 14,
   "id": "10ac2d25-f2a1-4c00-a9ad-dc6d403fa433",
   "metadata": {},
   "outputs": [
    {
     "data": {
      "text/plain": [
       "True"
      ]
     },
     "execution_count": 14,
     "metadata": {},
     "output_type": "execute_result"
    }
   ],
   "source": [
    "# Membership\n",
    "'s' in 'sayed'"
   ]
  },
  {
   "cell_type": "code",
   "execution_count": 18,
   "id": "2285a0f0-e480-4606-9c46-8ec966061742",
   "metadata": {},
   "outputs": [
    {
     "data": {
      "text/plain": [
       "True"
      ]
     },
     "execution_count": 18,
     "metadata": {},
     "output_type": "execute_result"
    }
   ],
   "source": [
    "# Identity\n",
    "a = 10\n",
    "b = 10\n",
    "a is b\n",
    "\n",
    "c = 1000000\n",
    "d = 1000000\n",
    "\n",
    "c is d\n",
    "c == d\n"
   ]
  },
  {
   "cell_type": "markdown",
   "id": "d94c9fc5-3128-4b37-8454-5987114850d1",
   "metadata": {},
   "source": [
    "### Comments\n",
    "- Inline comment\n",
    "- Doc string comment\n",
    "\n",
    "### why use comments\n",
    "\n",
    "- may be used to explain Python code.\n",
    "- prevent execution code."
   ]
  },
  {
   "cell_type": "code",
   "execution_count": 23,
   "id": "ab269174-67ae-46b5-bec2-689cc0b1a104",
   "metadata": {},
   "outputs": [
    {
     "data": {
      "text/plain": [
       "'\\nthis is docstring comment.\\nDoc string comment also used for documentation.\\n\\n'"
      ]
     },
     "execution_count": 23,
     "metadata": {},
     "output_type": "execute_result"
    }
   ],
   "source": [
    "# this line inline a comment\n",
    "\n",
    "\n",
    "\"\"\"\n",
    "this is docstring comment.\n",
    "Doc string comment also used for documentation.\n",
    "\n",
    "\"\"\""
   ]
  },
  {
   "cell_type": "code",
   "execution_count": 24,
   "id": "ef271ec0-3e78-4e6a-927d-56390b9b89ba",
   "metadata": {},
   "outputs": [],
   "source": [
    "### Data structures in python\n",
    "- list \n",
    "- dict\n",
    "- set\n",
    "- tuple"
   ]
  },
  {
   "cell_type": "markdown",
   "id": "508619fb-d032-4f06-8c7c-845ffb9fe140",
   "metadata": {},
   "source": [
    "### Flow control / Branching (conditions)\n",
    "- [Reference book](https://automatetheboringstuff.com/2e/chapter2/)"
   ]
  },
  {
   "cell_type": "markdown",
   "id": "15c5174b-09c7-4eb3-832e-ace60e0c1a4e",
   "metadata": {},
   "source": [
    "- __if statement__\n",
    "- __elif statement__\n",
    "- __else statement__\n",
    "- __while loop statement__\n",
    "- __break statment__\n",
    "- __continue statement__\n",
    "- __for loop stament__"
   ]
  },
  {
   "cell_type": "markdown",
   "id": "3558df1a-3c04-4e31-8530-0f374c05060f",
   "metadata": {},
   "source": [
    "A flow control statement\n",
    "decides what to do based on whether its condition is True or False , and\n",
    "almost every flow control statement uses a condition.\n"
   ]
  },
  {
   "cell_type": "markdown",
   "id": "32c9e046-c488-4676-b796-32470bc27834",
   "metadata": {},
   "source": [
    "### if statement"
   ]
  },
  {
   "cell_type": "markdown",
   "id": "35224e1e-411e-4b9f-a13c-6ab81cf9eb52",
   "metadata": {},
   "source": [
    "![If statement](../data/if_statement.png)"
   ]
  },
  {
   "cell_type": "markdown",
   "id": "0e192fad-b3a6-4679-ad24-06216d69785f",
   "metadata": {},
   "source": [
    "### else statement\n",
    "![else statement](../data/else_statement.png)"
   ]
  },
  {
   "cell_type": "markdown",
   "id": "acd4b617-819d-495b-a5f9-1c46345142a5",
   "metadata": {},
   "source": [
    "### elif statement\n",
    "![elif statement](../data/elif_statement.png)"
   ]
  },
  {
   "cell_type": "code",
   "execution_count": null,
   "id": "c406097d-8d6f-4a64-a118-4d47a49180e8",
   "metadata": {},
   "outputs": [],
   "source": [
    "# age code"
   ]
  },
  {
   "cell_type": "markdown",
   "id": "6e7d11db-9b9c-432d-8e86-be7e2e35aecd",
   "metadata": {},
   "source": [
    "## while statement\n",
    "![while statement](../data/while_statement.png)"
   ]
  },
  {
   "cell_type": "markdown",
   "id": "d37f08b9-f54b-4ae2-828d-6d61a8f09c70",
   "metadata": {},
   "source": [
    "### for loop\n",
    "![for loop](../data/for_loop.png)"
   ]
  },
  {
   "cell_type": "code",
   "execution_count": null,
   "id": "c118d202-24c0-469e-8a55-c13b62d1d695",
   "metadata": {},
   "outputs": [],
   "source": [
    "### practice questions\n",
    "# (5 > 4) and (3 == 5)\n",
    "# not (5 > 4)\n",
    "# (5 > 4) or (3 == 5)\n",
    "# not ((5 > 4) or (3 == 5))\n",
    "# (True and True) and (True == False)\n",
    "# (not False) or (not True)"
   ]
  },
  {
   "cell_type": "code",
   "execution_count": 10,
   "id": "cfcd1fe0-1c57-4491-b210-14c958ef9503",
   "metadata": {},
   "outputs": [],
   "source": [
    "# spam = 0\n",
    "# if spam == 10:\n",
    "#     print('eggs')\n",
    "    \n",
    "#     if spam > 5:\n",
    "#         print('bacon')\n",
    "#     else:\n",
    "#         print('ham')\n",
    "#     print('spam')\n",
    "    \n",
    "# print('spam')"
   ]
  }
 ],
 "metadata": {
  "kernelspec": {
   "display_name": "Python 3 (ipykernel)",
   "language": "python",
   "name": "python3"
  },
  "language_info": {
   "codemirror_mode": {
    "name": "ipython",
    "version": 3
   },
   "file_extension": ".py",
   "mimetype": "text/x-python",
   "name": "python",
   "nbconvert_exporter": "python",
   "pygments_lexer": "ipython3",
   "version": "3.8.10"
  }
 },
 "nbformat": 4,
 "nbformat_minor": 5
}
