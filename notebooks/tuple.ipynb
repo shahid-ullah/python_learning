{
 "cells": [
  {
   "cell_type": "code",
   "execution_count": 1,
   "id": "d6323502-36c0-414a-af75-fe5e5d9f7f65",
   "metadata": {},
   "outputs": [],
   "source": [
    "from IPython.core.interactiveshell import InteractiveShell\n",
    "InteractiveShell.ast_node_interactivity = \"all\""
   ]
  },
  {
   "cell_type": "markdown",
   "id": "720d1b2d-b727-4a7f-a245-1b859ca55cd0",
   "metadata": {},
   "source": [
    "- Tuples are immutable\n",
    "- tuple assignment\n",
    "- **tuples as return value**\n",
    "- **variable-length argument tuples**\n",
    "- list and tuples\n",
    "- dictionaries and tuples\n"
   ]
  },
  {
   "cell_type": "code",
   "execution_count": 12,
   "id": "44e6d224-24e9-4497-86d1-90c4c54ed15a",
   "metadata": {},
   "outputs": [
    {
     "data": {
      "text/plain": [
       "tuple"
      ]
     },
     "execution_count": 12,
     "metadata": {},
     "output_type": "execute_result"
    }
   ],
   "source": [
    "# litteral\n",
    "tup = ()\n",
    "type(tup)"
   ]
  },
  {
   "cell_type": "code",
   "execution_count": 6,
   "id": "3bd53c75-fb1d-40cb-85b7-05084bcd4be6",
   "metadata": {},
   "outputs": [
    {
     "data": {
      "text/plain": [
       "('onion', 'potato', 'ginger', 'cucumber')"
      ]
     },
     "execution_count": 6,
     "metadata": {},
     "output_type": "execute_result"
    },
    {
     "data": {
      "text/plain": [
       "tuple"
      ]
     },
     "execution_count": 6,
     "metadata": {},
     "output_type": "execute_result"
    },
    {
     "data": {
      "text/plain": [
       "tuple"
      ]
     },
     "execution_count": 6,
     "metadata": {},
     "output_type": "execute_result"
    }
   ],
   "source": [
    "# Assigning value/item in tuple\n",
    "tup = 'onion', 'potato', 'ginger', 'cucumber'\n",
    "tup\n",
    "type(tup)\n",
    "\n",
    "# dic = dict()\n",
    "tup = tuple()\n",
    "type(tup)"
   ]
  },
  {
   "cell_type": "code",
   "execution_count": 3,
   "id": "3daf4d54-231c-4a4e-ad34-a53cc07888a7",
   "metadata": {},
   "outputs": [
    {
     "data": {
      "text/plain": [
       "('onion', 'potato', 'ginger', 'cucumber')"
      ]
     },
     "execution_count": 3,
     "metadata": {},
     "output_type": "execute_result"
    }
   ],
   "source": [
    "tup = ('onion', 'potato', 'ginger', 'cucumber')\n",
    "tup"
   ]
  },
  {
   "cell_type": "code",
   "execution_count": 16,
   "id": "d240381a-3deb-4e10-befb-d7942621990d",
   "metadata": {},
   "outputs": [
    {
     "data": {
      "text/plain": [
       "'potato'"
      ]
     },
     "execution_count": 16,
     "metadata": {},
     "output_type": "execute_result"
    },
    {
     "data": {
      "text/plain": [
       "('potato', 'ginger', 'cucumber', 1)"
      ]
     },
     "execution_count": 16,
     "metadata": {},
     "output_type": "execute_result"
    },
    {
     "data": {
      "text/plain": [
       "('ginger', 'cucumber', 1, 3.1416)"
      ]
     },
     "execution_count": 16,
     "metadata": {},
     "output_type": "execute_result"
    }
   ],
   "source": [
    "# accessing tuple items\n",
    "tup = ('onion', 'potato', 'ginger', 'cucumber', 1, 3.1416)\n",
    "\n",
    "tup[1]\n",
    "tup[1:5]\n",
    "tup[2:]\n"
   ]
  },
  {
   "cell_type": "code",
   "execution_count": 15,
   "id": "c8079e45-0e46-4953-a658-ee9d543372a0",
   "metadata": {},
   "outputs": [
    {
     "name": "stdout",
     "output_type": "stream",
     "text": [
      "onion\n",
      "potato\n",
      "ginger\n",
      "onion\n",
      "cucumber\n",
      "1\n",
      "3.1416\n"
     ]
    }
   ],
   "source": [
    "# Iterating over items\n",
    "tup = ('onion', 'potato', 'ginger', 'onion', 'cucumber', 1, 3.1416)\n",
    "for item in tup:\n",
    "    print(item)"
   ]
  },
  {
   "cell_type": "code",
   "execution_count": 18,
   "id": "3928fbcb-c255-4a78-886c-5f0592cd3c95",
   "metadata": {},
   "outputs": [],
   "source": [
    "# tuple is immutable\n",
    "tup = ('onion', 'potato', 'ginger', 'onion', 'cucumber', 1, 3.1416)\n",
    "\n",
    "# tup[0] = 'new'"
   ]
  },
  {
   "cell_type": "code",
   "execution_count": 1,
   "id": "c8e45e28-36bf-4d17-a59a-746926f37b7e",
   "metadata": {},
   "outputs": [],
   "source": [
    "tup = ('onion', 'potato', 'ginger', 'onion', 'cucumber', 1, 3.1416)\n",
    "tup2 = ('apple',)"
   ]
  },
  {
   "cell_type": "code",
   "execution_count": 4,
   "id": "a6f1e450-82af-4685-aab0-85e0bf578265",
   "metadata": {},
   "outputs": [],
   "source": [
    "tup2 = ('apple',) # subtle logic\n",
    "tup2\n",
    "type(tup2)"
   ]
  },
  {
   "cell_type": "code",
   "execution_count": 12,
   "id": "329c3309-93d6-435e-9843-b681d0c52076",
   "metadata": {},
   "outputs": [
    {
     "data": {
      "text/plain": [
       "(1, 2, 3)"
      ]
     },
     "execution_count": 12,
     "metadata": {},
     "output_type": "execute_result"
    }
   ],
   "source": [
    "# tup + tup2\n",
    "# tup\n",
    "# tup2\n",
    "\n",
    "lst = [1, 2, 3]\n",
    "tup = tuple(lst)\n",
    "\n",
    "tup = tuple([1, 2, 3])\n",
    "\n",
    "# tup = tuple('abcd')\n",
    "tup"
   ]
  },
  {
   "cell_type": "code",
   "execution_count": 13,
   "id": "0eb04a46-2d4d-4c5b-b141-1833e0769c73",
   "metadata": {},
   "outputs": [
    {
     "data": {
      "text/plain": [
       "2"
      ]
     },
     "execution_count": 13,
     "metadata": {},
     "output_type": "execute_result"
    }
   ],
   "source": [
    "# methods\n",
    "tup = ('onion', 'potato', 'ginger', 'onion', 'cucumber', 1, 3.1416)\n",
    "tup.count('potato')\n",
    "tup.count('onion')"
   ]
  },
  {
   "cell_type": "code",
   "execution_count": null,
   "id": "740da3a9-472a-4234-bb0f-856ac91e37f8",
   "metadata": {},
   "outputs": [],
   "source": []
  }
 ],
 "metadata": {
  "kernelspec": {
   "display_name": "Python 3 (ipykernel)",
   "language": "python",
   "name": "python3"
  },
  "language_info": {
   "codemirror_mode": {
    "name": "ipython",
    "version": 3
   },
   "file_extension": ".py",
   "mimetype": "text/x-python",
   "name": "python",
   "nbconvert_exporter": "python",
   "pygments_lexer": "ipython3",
   "version": "3.8.10"
  }
 },
 "nbformat": 4,
 "nbformat_minor": 5
}
