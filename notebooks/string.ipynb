{
 "cells": [
  {
   "cell_type": "markdown",
   "id": "8da79111-9c0c-4307-8b11-5f2a17cd147f",
   "metadata": {},
   "source": [
    "- working with strings\n",
    "- useful string methods"
   ]
  },
  {
   "cell_type": "markdown",
   "id": "38ccd357-cafe-4ce8-a51b-6168670f0994",
   "metadata": {},
   "source": [
    "- concatenate two string\n",
    "- extract partial string from string (slicing)\n",
    "- add or remove spacing\n",
    "- covert letter to lowercase or uppercase\n",
    "- check string are formatted correctly\n",
    "- projects\n",
    "    - simple password manager.\n",
    "    - automate the boring chore of formatting piece of text.\n",
    "    - caesar cyper\n",
    "    - palindrome check"
   ]
  },
  {
   "cell_type": "markdown",
   "id": "d43ef09f-fbed-4c0c-955a-60c6c98a2293",
   "metadata": {},
   "source": [
    "### What is string?\n",
    "string is a sequence of ordered collection.\n",
    "string is immutable"
   ]
  },
  {
   "cell_type": "code",
   "execution_count": 10,
   "id": "2076d5fb-a95c-4eac-8845-369a85e20dbc",
   "metadata": {},
   "outputs": [
    {
     "name": "stdout",
     "output_type": "stream",
     "text": [
      "That is\\n Alice's cat\n"
     ]
    }
   ],
   "source": [
    "# string literals\n",
    "# single quote or double quote\n",
    "\n",
    "# spam = \"That is Alice's cat\"\n",
    "spam = print(r\"That is\\n Alice's cat\")\n",
    "\n",
    "\n",
    "# escape character's\n",
    "# An escape character consist's of a backslash(\\) \n",
    "# followed by the character you want to add to the string.\n",
    "# spam = 'Say hi to Bob\\'s mother.'\n",
    "# spam\n",
    "\n",
    "# type(spam)\n",
    "spam"
   ]
  },
  {
   "cell_type": "markdown",
   "id": "576c0de4-d46b-4423-9396-09caef82ef80",
   "metadata": {},
   "source": [
    "| Escape character      | print as |\n",
    "| ----------- | ----------- |\n",
    "| \\'      | Single quote       |\n",
    "| \\\"   | Double quote        |\n",
    "| \\t   | Tab        |\n",
    "| \\n   | Newline (line break)        |\n",
    "| \\\\   | Backslash        |"
   ]
  },
  {
   "cell_type": "code",
   "execution_count": 6,
   "id": "01c26eb8-414b-438f-b4c6-82649b299614",
   "metadata": {},
   "outputs": [
    {
     "name": "stdout",
     "output_type": "stream",
     "text": [
      "Hello there!\n",
      "How are you?\n",
      "I'm doing fine.\n"
     ]
    }
   ],
   "source": [
    "print(\"Hello there!\\nHow are you?\\tI\\'m doing fine.\")"
   ]
  },
  {
   "cell_type": "code",
   "execution_count": 8,
   "id": "7313e6a7-9e4e-4343-8195-0f145ff6ed20",
   "metadata": {},
   "outputs": [
    {
     "name": "stdout",
     "output_type": "stream",
     "text": [
      "That is carol\\'s cat.\n"
     ]
    }
   ],
   "source": [
    "# Raw Srtings\n",
    "# A raw string completely ignores all escape characters\n",
    "# and prints any backslash that appears in the string.\n",
    "\n",
    "print(r'That is carol\\'s cat.')"
   ]
  },
  {
   "cell_type": "code",
   "execution_count": 16,
   "id": "96b5ed52-5272-4ae6-a629-b8e15b24285d",
   "metadata": {},
   "outputs": [
    {
     "name": "stdout",
     "output_type": "stream",
     "text": [
      "Dear Alice,\n",
      "Eve's cat has been arrested for catnapping, cat burglary, and extortion.\n",
      "Sincerely,\n",
      "Bob\n",
      "Dear Alice,\n",
      " Eve's cat has been arrested for catnapping, cat burglary, and extortion. Sincerely, Bob\n"
     ]
    }
   ],
   "source": [
    "# Multiline strings with tripple quotes\n",
    "# A multiline string in python begins and ends with either\n",
    "# three single quotes or three double quotes.\n",
    "\n",
    "print('''Dear Alice,\n",
    "Eve's cat has been arrested for catnapping, cat burglary, and extortion.\n",
    "Sincerely,\n",
    "Bob''')\n",
    "\n",
    "print(\"Dear Alice,\\n Eve's cat has been arrested for catnapping, cat burglary, and extortion. Sincerely, Bob\")"
   ]
  },
  {
   "cell_type": "code",
   "execution_count": 24,
   "id": "30510732-8327-456c-8cc5-85856c97eaf7",
   "metadata": {},
   "outputs": [
    {
     "data": {
      "text/plain": [
       "'eood'"
      ]
     },
     "execution_count": 24,
     "metadata": {},
     "output_type": "execute_result"
    }
   ],
   "source": [
    "# Indexing and slicing strings\n",
    "# The space and exclamation point are included\n",
    "# in the character count.\n",
    "\n",
    "# [start:end:step] (slicing literal)\n",
    "# start -> default = 0 (included)\n",
    "# end -> default = last (excluded)\n",
    "# step -> default = 1 (increment)\n",
    "\n",
    "\n",
    "spam = 'Hello world'\n",
    "# spam[6]\n",
    "# # spam[4]\n",
    "# spam[-1]\n",
    "spam[1::3]\n",
    "# spam[6:]\n",
    "\n",
    "# slicing a string does not modify teh original string\n",
    "# fizz = spam[0:5]\n",
    "# print(spam)\n",
    "# print(fizz)\n",
    "\n"
   ]
  },
  {
   "cell_type": "code",
   "execution_count": 26,
   "id": "fb241fb9-4d43-438e-a029-e320139efb7a",
   "metadata": {},
   "outputs": [],
   "source": [
    "# lst = [1, 2, 3, 4, 5, 6, 7, 8, 9, 10]\n",
    "# lst[1::2]"
   ]
  },
  {
   "cell_type": "code",
   "execution_count": 29,
   "id": "ebec766e-e0ff-4beb-94b0-84a7ff024ea0",
   "metadata": {},
   "outputs": [
    {
     "data": {
      "text/plain": [
       "False"
      ]
     },
     "execution_count": 29,
     "metadata": {},
     "output_type": "execute_result"
    }
   ],
   "source": [
    "# The in and not in operators with strings\n",
    "\n",
    "'Hello' in 'Hello world'\n",
    "\n",
    "'HELLO' in 'Hello world'\n",
    "\n",
    "'cats' not in 'cats and dogs'"
   ]
  },
  {
   "cell_type": "code",
   "execution_count": 40,
   "id": "7fec6a21-555b-49e7-93bb-a04c7ba0b280",
   "metadata": {},
   "outputs": [
    {
     "name": "stdout",
     "output_type": "stream",
     "text": [
      "hello world\n",
      "Hello World\n"
     ]
    }
   ],
   "source": [
    "# Useful string methods\n",
    "\n",
    "\n",
    "spam = 'Hello World'\n",
    "# upper()\n",
    "# lower()\n",
    "# isupper()\n",
    "# islower()\n",
    "# these methods do not change original string itself but\n",
    "# return new string.\n",
    "\n",
    "\n",
    "# dir(spam)\n",
    "# help(spam.lower)\n",
    "\n",
    "spam.upper()\n",
    "print(spam.lower())\n",
    "print(spam)\n",
    "\n",
    "# spam[2] = 'e'"
   ]
  },
  {
   "cell_type": "code",
   "execution_count": 43,
   "id": "e54ed17c-155e-4fa4-a58b-6db7b931b3a0",
   "metadata": {},
   "outputs": [
    {
     "name": "stdout",
     "output_type": "stream",
     "text": [
      "How are you?\n"
     ]
    },
    {
     "name": "stdin",
     "output_type": "stream",
     "text": [
      " grt\n"
     ]
    },
    {
     "name": "stdout",
     "output_type": "stream",
     "text": [
      "I hope the rest of your day is good\n"
     ]
    }
   ],
   "source": [
    "# helps to compare string\n",
    "\n",
    "print('How are you?')\n",
    "feeling = input()\n",
    "\n",
    "if feeling.lower() == 'great':\n",
    "    print('I feel great too.')\n",
    "else:\n",
    "    print('I hope the rest of your day is good')"
   ]
  },
  {
   "cell_type": "code",
   "execution_count": 51,
   "id": "31309361-d94b-4c10-a8f3-13ea388ae761",
   "metadata": {},
   "outputs": [
    {
     "data": {
      "text/plain": [
       "'Bangladesh Is A Small Country'"
      ]
     },
     "execution_count": 51,
     "metadata": {},
     "output_type": "execute_result"
    }
   ],
   "source": [
    "# chain of method calls\n",
    "name = 'karim'\n",
    "name.upper().lower()\n",
    "\n",
    "\n",
    "# isalpha()\n",
    "# isalnum()\n",
    "# isdecimal()\n",
    "# isspace()\n",
    "\n",
    "st = 'bangladesh is A Small country'\n",
    "st.istitle()\n",
    "\n",
    "st.title()\n",
    "\n"
   ]
  },
  {
   "cell_type": "code",
   "execution_count": 56,
   "id": "f26314f7-fe80-4bf2-8a37-2f2710196906",
   "metadata": {},
   "outputs": [
    {
     "name": "stdout",
     "output_type": "stream",
     "text": [
      "Select a new password (letters and numbers only).:\n"
     ]
    },
    {
     "name": "stdin",
     "output_type": "stream",
     "text": [
      " djfl_\n"
     ]
    },
    {
     "name": "stdout",
     "output_type": "stream",
     "text": [
      "Passwords can only have letters and numbers.\n",
      "Select a new password (letters and numbers only).:\n"
     ]
    },
    {
     "name": "stdin",
     "output_type": "stream",
     "text": [
      " djfldf\n"
     ]
    }
   ],
   "source": [
    "# validate_input.py\n",
    "# while True:\n",
    "#     print('Enter your age: ')\n",
    "#     age = input()\n",
    "#     if age.isdecimal():\n",
    "#         break\n",
    "#     print('Please enter a number for your age.')\n",
    "    \n",
    "while True:\n",
    "    print('Select a new password (letters and numbers only).:')\n",
    "    password = inpu()\n",
    "    if password.isalnum():\n",
    "        break\n",
    "    print('Passwords can only have letters and numbers.')"
   ]
  },
  {
   "cell_type": "code",
   "execution_count": null,
   "id": "7ccbf09d-40c0-4cc7-9adb-f80e6726940b",
   "metadata": {},
   "outputs": [],
   "source": [
    "# startswith()\n",
    "# endswith()\n",
    "\n",
    "'Hello world!'.startswtih('Hello')\n",
    "'Hello world!'.endswtih('Hello')"
   ]
  },
  {
   "cell_type": "code",
   "execution_count": 18,
   "id": "94eb4c2d-be37-4f31-8e1e-01a5e4c6c288",
   "metadata": {},
   "outputs": [
    {
     "data": {
      "text/plain": [
       "['Bangldesh is a ', ' country']"
      ]
     },
     "execution_count": 18,
     "metadata": {},
     "output_type": "execute_result"
    }
   ],
   "source": [
    "# Join()\n",
    "# join is called on a string value and is passed a list\n",
    "# split()\n",
    "# split is called on a string value and returns a list\n",
    "\n",
    "', '.join(['cats', 'rats', 'bats'])\n",
    "' '.join(['My', 'name', 'is', 'Simon'])\n",
    "\n",
    "'Bangldesh is a small country'.split()\n",
    "# delimiter string\n",
    "'Bangldesh is a small country'.split('small')\n",
    "# delimiter string"
   ]
  },
  {
   "cell_type": "code",
   "execution_count": 23,
   "id": "c860e2a5-1488-431f-b823-9abbd909847b",
   "metadata": {},
   "outputs": [
    {
     "data": {
      "text/plain": [
       "[' Dear Alice,',\n",
       " 'How have you been? I am fine.',\n",
       " 'There is a container in the fridge',\n",
       " 'that is labeled \"Milk Experiment\".',\n",
       " 'Please do not drink it.',\n",
       " 'Sincerely, Bob ']"
      ]
     },
     "execution_count": 23,
     "metadata": {},
     "output_type": "execute_result"
    }
   ],
   "source": [
    "spam = ''' Dear Alice,\n",
    "How have you been? I am fine.\n",
    "There is a container in the fridge\n",
    "that is labeled \"Milk Experiment\".\n",
    "Please do not drink it.\n",
    "Sincerely, Bob '''\n",
    "spam.split('\\n')\n"
   ]
  },
  {
   "cell_type": "code",
   "execution_count": 32,
   "id": "b517186d-bb13-4366-a4dc-5ff88d70a1ee",
   "metadata": {},
   "outputs": [
    {
     "data": {
      "text/plain": [
       "'*******Hello********'"
      ]
     },
     "execution_count": 32,
     "metadata": {},
     "output_type": "execute_result"
    }
   ],
   "source": [
    "# rjust()\n",
    "# ljust()\n",
    "\n",
    "# rjust, ljust add padding\n",
    "\n",
    "'Hello'.rjust(10)\n",
    "'Hello'.rjust(20)\n",
    "'Hello world'.rjust(20)\n",
    "'Hello'.ljust(10)\n",
    "\n",
    "# fill character\n",
    "# 'Hello'.ljust(10, '*')\n",
    "\n",
    "\n",
    "# center()\n",
    "'Hello'.center(20)\n",
    "'Hello'.center(20, '*')"
   ]
  },
  {
   "cell_type": "code",
   "execution_count": 36,
   "id": "0d1067d3-9473-4007-b3b4-3331c6762a86",
   "metadata": {},
   "outputs": [],
   "source": [
    "# def printPicnic(itemsDict, leftWidth, rightWidth):\n",
    "#     print('PICNIC ITEMS'.center(leftWidth + rightWidth, '-'))\n",
    "#     for k, v in itemsDict.items():\n",
    "#         print(k.ljust(leftWidth, '.') + str(v).rjust(rightWidth))\n",
    "        \n",
    "# picnicItems = {'sandwiches': 4, 'apples': 12, 'cups': 4, 'cookies': 8000}\n",
    "# printPicnic(picnicItems, 12, 5)\n",
    "# print()\n",
    "# printPicnic(picnicItems, 20, 6)\n"
   ]
  },
  {
   "cell_type": "code",
   "execution_count": 41,
   "id": "eaf7560a-6e27-42c0-9490-4b5232bec1bf",
   "metadata": {},
   "outputs": [
    {
     "data": {
      "text/plain": [
       "'       Hello world'"
      ]
     },
     "execution_count": 41,
     "metadata": {},
     "output_type": "execute_result"
    }
   ],
   "source": [
    "# strip()\n",
    "# lstrip()\n",
    "# rstrip()\n",
    "\n",
    "\n",
    "spam = '       Hello world'\n",
    "spam.strip()\n",
    "spam.lstrip()\n",
    "spam.rstrip()\n",
    "\n",
    "# spam = 'SpamSpamBaconSpamEggsSpamSpam'\n",
    "# spam.strip('ampS')\n"
   ]
  }
 ],
 "metadata": {
  "kernelspec": {
   "display_name": "Python 3 (ipykernel)",
   "language": "python",
   "name": "python3"
  },
  "language_info": {
   "codemirror_mode": {
    "name": "ipython",
    "version": 3
   },
   "file_extension": ".py",
   "mimetype": "text/x-python",
   "name": "python",
   "nbconvert_exporter": "python",
   "pygments_lexer": "ipython3",
   "version": "3.8.10"
  }
 },
 "nbformat": 4,
 "nbformat_minor": 5
}
