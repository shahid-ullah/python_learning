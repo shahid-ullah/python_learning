{
 "cells": [
  {
   "cell_type": "code",
   "execution_count": 4,
   "id": "9a2427a2-4c73-4fd2-9961-41918b7c5355",
   "metadata": {},
   "outputs": [],
   "source": [
    "from IPython.core.interactiveshell import InteractiveShell\n",
    "InteractiveShell.ast_node_interactivity = \"all\"\n"
   ]
  },
  {
   "cell_type": "code",
   "execution_count": 2,
   "id": "ec3c61fd-c10e-4904-a105-878edb8eace1",
   "metadata": {},
   "outputs": [
    {
     "data": {
      "text/plain": [
       "('asad', 'ASAD')"
      ]
     },
     "execution_count": 2,
     "metadata": {},
     "output_type": "execute_result"
    }
   ],
   "source": [
    "st = 'asad'\n",
    "r = st.upper()\n",
    "st, r"
   ]
  },
  {
   "cell_type": "markdown",
   "id": "8da79111-9c0c-4307-8b11-5f2a17cd147f",
   "metadata": {},
   "source": [
    "- working with strings\n",
    "- useful string methods"
   ]
  },
  {
   "cell_type": "markdown",
   "id": "38ccd357-cafe-4ce8-a51b-6168670f0994",
   "metadata": {},
   "source": [
    "- concatenate two string\n",
    "- extract partial string from string (slicing)\n",
    "- add or remove spacing\n",
    "- covert letter to lowercase or uppercase\n",
    "- check string are formatted correctly\n",
    "- projects\n",
    "    - simple password manager.\n",
    "    - automate the boring chore of formatting piece of text.\n",
    "    - caesar cyper\n",
    "    - palindrome check"
   ]
  },
  {
   "cell_type": "markdown",
   "id": "d43ef09f-fbed-4c0c-955a-60c6c98a2293",
   "metadata": {},
   "source": [
    "### What is string?\n",
    "string is a sequence of ordered collection.\n",
    "string is immutable"
   ]
  },
  {
   "cell_type": "code",
   "execution_count": 10,
   "id": "2076d5fb-a95c-4eac-8845-369a85e20dbc",
   "metadata": {
    "tags": []
   },
   "outputs": [
    {
     "name": "stdout",
     "output_type": "stream",
     "text": [
      "That is\\n Alice's cat\n"
     ]
    }
   ],
   "source": [
    "# string literals\n",
    "# single quote or double quote\n",
    "\n",
    "# spam = \"That is Alice's cat\"\n",
    "spam = print(r\"That is\\n Alice's cat\")\n",
    "\n",
    "\n",
    "# escape character's\n",
    "# An escape character consist's of a backslash(\\) \n",
    "# followed by the character you want to add to the string.\n",
    "# spam = 'Say hi to Bob\\'s mother.'\n",
    "# spam\n",
    "\n",
    "# type(spam)\n",
    "spam"
   ]
  },
  {
   "cell_type": "markdown",
   "id": "576c0de4-d46b-4423-9396-09caef82ef80",
   "metadata": {},
   "source": [
    "| Escape character      | print as |\n",
    "| ----------- | ----------- |\n",
    "| \\'      | Single quote       |\n",
    "| \\\"   | Double quote        |\n",
    "| \\t   | Tab        |\n",
    "| \\n   | Newline (line break)        |\n",
    "| \\\\   | Backslash        |"
   ]
  },
  {
   "cell_type": "code",
   "execution_count": 6,
   "id": "01c26eb8-414b-438f-b4c6-82649b299614",
   "metadata": {},
   "outputs": [
    {
     "name": "stdout",
     "output_type": "stream",
     "text": [
      "Hello there!\n",
      "How are you?\n",
      "I'm doing fine.\n"
     ]
    }
   ],
   "source": [
    "print(\"Hello there!\\nHow are you?\\tI\\'m doing fine.\")"
   ]
  },
  {
   "cell_type": "code",
   "execution_count": 8,
   "id": "7313e6a7-9e4e-4343-8195-0f145ff6ed20",
   "metadata": {},
   "outputs": [
    {
     "name": "stdout",
     "output_type": "stream",
     "text": [
      "That is carol\\'s cat.\n"
     ]
    }
   ],
   "source": [
    "# Raw Srtings\n",
    "# A raw string completely ignores all escape characters\n",
    "# and prints any backslash that appears in the string.\n",
    "\n",
    "print(r'That is carol\\'s cat.')"
   ]
  },
  {
   "cell_type": "code",
   "execution_count": 16,
   "id": "96b5ed52-5272-4ae6-a629-b8e15b24285d",
   "metadata": {},
   "outputs": [
    {
     "name": "stdout",
     "output_type": "stream",
     "text": [
      "Dear Alice,\n",
      "Eve's cat has been arrested for catnapping, cat burglary, and extortion.\n",
      "Sincerely,\n",
      "Bob\n",
      "Dear Alice,\n",
      " Eve's cat has been arrested for catnapping, cat burglary, and extortion. Sincerely, Bob\n"
     ]
    }
   ],
   "source": [
    "# Multiline strings with tripple quotes\n",
    "# A multiline string in python begins and ends with either\n",
    "# three single quotes or three double quotes.\n",
    "\n",
    "print('''Dear Alice,\n",
    "Eve's cat has been arrested for catnapping, cat burglary, and extortion.\n",
    "Sincerely,\n",
    "Bob''')\n",
    "\n",
    "print(\"Dear Alice,\\n Eve's cat has been arrested for catnapping, cat burglary, and extortion. Sincerely, Bob\")"
   ]
  },
  {
   "cell_type": "code",
   "execution_count": 24,
   "id": "30510732-8327-456c-8cc5-85856c97eaf7",
   "metadata": {},
   "outputs": [
    {
     "data": {
      "text/plain": [
       "'eood'"
      ]
     },
     "execution_count": 24,
     "metadata": {},
     "output_type": "execute_result"
    }
   ],
   "source": [
    "# Indexing and slicing strings\n",
    "# The space and exclamation point are included\n",
    "# in the character count.\n",
    "\n",
    "# [start:end:step] (slicing literal)\n",
    "# start -> default = 0 (included)\n",
    "# end -> default = last (excluded)\n",
    "# step -> default = 1 (increment)\n",
    "\n",
    "\n",
    "spam = 'Hello world'\n",
    "# spam[6]\n",
    "# # spam[4]\n",
    "# spam[-1]\n",
    "spam[1::3]\n",
    "# spam[6:]\n",
    "\n",
    "# slicing a string does not modify teh original string\n",
    "# fizz = spam[0:5]\n",
    "# print(spam)\n",
    "# print(fizz)\n",
    "\n"
   ]
  },
  {
   "cell_type": "code",
   "execution_count": 26,
   "id": "fb241fb9-4d43-438e-a029-e320139efb7a",
   "metadata": {},
   "outputs": [],
   "source": [
    "# lst = [1, 2, 3, 4, 5, 6, 7, 8, 9, 10]\n",
    "# lst[1::2]"
   ]
  },
  {
   "cell_type": "code",
   "execution_count": 5,
   "id": "ebec766e-e0ff-4beb-94b0-84a7ff024ea0",
   "metadata": {},
   "outputs": [
    {
     "data": {
      "text/plain": [
       "True"
      ]
     },
     "execution_count": 5,
     "metadata": {},
     "output_type": "execute_result"
    },
    {
     "data": {
      "text/plain": [
       "False"
      ]
     },
     "execution_count": 5,
     "metadata": {},
     "output_type": "execute_result"
    },
    {
     "data": {
      "text/plain": [
       "False"
      ]
     },
     "execution_count": 5,
     "metadata": {},
     "output_type": "execute_result"
    }
   ],
   "source": [
    "# The in and not in operators with strings\n",
    "\n",
    "'Hello' in 'Hello world'\n",
    "\n",
    "'HELLO' in 'Hello world'\n",
    "\n",
    "'cats' not in 'cats and dogs'"
   ]
  },
  {
   "cell_type": "code",
   "execution_count": 6,
   "id": "7fec6a21-555b-49e7-93bb-a04c7ba0b280",
   "metadata": {},
   "outputs": [
    {
     "data": {
      "text/plain": [
       "'HELLO WORLD'"
      ]
     },
     "execution_count": 6,
     "metadata": {},
     "output_type": "execute_result"
    },
    {
     "name": "stdout",
     "output_type": "stream",
     "text": [
      "hello world\n",
      "Hello World\n"
     ]
    }
   ],
   "source": [
    "# Useful string methods\n",
    "\n",
    "\n",
    "spam = 'Hello World'\n",
    "# upper()\n",
    "# lower()\n",
    "# isupper()\n",
    "# islower()\n",
    "# these methods do not change original string itself but\n",
    "# return new string.\n",
    "\n",
    "\n",
    "# dir(spam)\n",
    "# help(spam.lower)\n",
    "\n",
    "spam.upper()\n",
    "print(spam.lower())\n",
    "print(spam)\n",
    "\n",
    "# spam[2] = 'e'"
   ]
  },
  {
   "cell_type": "code",
   "execution_count": 7,
   "id": "e54ed17c-155e-4fa4-a58b-6db7b931b3a0",
   "metadata": {},
   "outputs": [
    {
     "name": "stdout",
     "output_type": "stream",
     "text": [
      "How are you?\n"
     ]
    },
    {
     "name": "stdin",
     "output_type": "stream",
     "text": [
      " great\n"
     ]
    },
    {
     "name": "stdout",
     "output_type": "stream",
     "text": [
      "I feel great too.\n"
     ]
    }
   ],
   "source": [
    "# helps to compare string\n",
    "\n",
    "print('How are you?')\n",
    "feeling = input()\n",
    "\n",
    "if feeling.lower() == 'great':\n",
    "    print('I feel great too.')\n",
    "else:\n",
    "    print('I hope the rest of your day is good')"
   ]
  },
  {
   "cell_type": "code",
   "execution_count": 51,
   "id": "31309361-d94b-4c10-a8f3-13ea388ae761",
   "metadata": {},
   "outputs": [
    {
     "data": {
      "text/plain": [
       "'Bangladesh Is A Small Country'"
      ]
     },
     "execution_count": 51,
     "metadata": {},
     "output_type": "execute_result"
    }
   ],
   "source": [
    "# chain of method calls\n",
    "name = 'karim'\n",
    "name.upper().lower()\n",
    "\n",
    "\n",
    "# isalpha()\n",
    "# isalnum()\n",
    "# isdecimal()\n",
    "# isspace()\n",
    "\n",
    "st = 'bangladesh is A Small country'\n",
    "st.istitle()\n",
    "\n",
    "st.title()\n",
    "\n"
   ]
  },
  {
   "cell_type": "code",
   "execution_count": 3,
   "id": "f26314f7-fe80-4bf2-8a37-2f2710196906",
   "metadata": {},
   "outputs": [
    {
     "name": "stdout",
     "output_type": "stream",
     "text": [
      "Enter your age: \n"
     ]
    },
    {
     "name": "stdin",
     "output_type": "stream",
     "text": [
      " 45\n"
     ]
    }
   ],
   "source": [
    "# validate_input.py\n",
    "while True:\n",
    "    print('Enter your age: ')\n",
    "    age = input()\n",
    "    if age.isdecimal():\n",
    "        break\n",
    "    print('Please enter a number for your age.')\n",
    "    \n",
    "    \n",
    "    \n",
    "    \n",
    "while True:\n",
    "    print('Select a new password (letters and numbers only).:')\n",
    "    password = inpu()\n",
    "    if password.isalnum():\n",
    "        break\n",
    "    print('Passwords can only have letters and numbers.')"
   ]
  },
  {
   "cell_type": "code",
   "execution_count": 9,
   "id": "7ccbf09d-40c0-4cc7-9adb-f80e6726940b",
   "metadata": {},
   "outputs": [
    {
     "data": {
      "text/plain": [
       "False"
      ]
     },
     "execution_count": 9,
     "metadata": {},
     "output_type": "execute_result"
    }
   ],
   "source": [
    "# startswith()\n",
    "# endswith()\n",
    "\n",
    "st = 'abc Hello world'\n",
    "st.startswith('Helo')\n",
    "\n",
    "# 'Hello world!'.startswtih('Hello')\n",
    "# 'Hello world!'.endswith('Hello')"
   ]
  },
  {
   "cell_type": "code",
   "execution_count": 26,
   "id": "94eb4c2d-be37-4f31-8e1e-01a5e4c6c288",
   "metadata": {},
   "outputs": [
    {
     "data": {
      "text/plain": [
       "'jpg'"
      ]
     },
     "execution_count": 26,
     "metadata": {},
     "output_type": "execute_result"
    }
   ],
   "source": [
    "# Join()\n",
    "# join is called on a string value and is passed a list\n",
    "# split()\n",
    "# split is called on a string value and returns a list\n",
    "lst = ['cats', 'rats', 'bats']\n",
    "\n",
    "st = '#'\n",
    "\n",
    "'**'.join(lst) # join method takes list as parameter/input\n",
    "\n",
    "\n",
    "# ' '.join(['My', 'name', 'is', 'Simon'])\n",
    "st = 'Bangldesh small is a small country'\n",
    "\n",
    "filename = 'hello.something.jpg'\n",
    "\n",
    "# st.split('small') # default space/newline/tab\n",
    "lst = filename.split('.')\n",
    "lst[-1]\n",
    "\n",
    "\n",
    "\n",
    "\n",
    "# # delimiter string(default: space, newline, tab)\n",
    "# 'Bangldesh is a small country'.split('small')\n",
    "# # delimiter string"
   ]
  },
  {
   "cell_type": "code",
   "execution_count": 28,
   "id": "c860e2a5-1488-431f-b823-9abbd909847b",
   "metadata": {},
   "outputs": [
    {
     "data": {
      "text/plain": [
       "[' Dear Alice,',\n",
       " 'How have you been? I am fine.',\n",
       " 'There is a container in the fridge',\n",
       " 'that is labeled \"Milk Experiment\".',\n",
       " 'Please do not drink it.',\n",
       " 'Sincerely, Bob ']"
      ]
     },
     "execution_count": 28,
     "metadata": {},
     "output_type": "execute_result"
    }
   ],
   "source": [
    "spam = ''' Dear Alice,\n",
    "How have you been? I am fine.\n",
    "There is a container in the fridge\n",
    "that is labeled \"Milk Experiment\".\n",
    "Please do not drink it.\n",
    "Sincerely, Bob '''\n",
    "\n",
    "spam.split('\\n')\n"
   ]
  },
  {
   "cell_type": "code",
   "execution_count": 61,
   "id": "b517186d-bb13-4366-a4dc-5ff88d70a1ee",
   "metadata": {},
   "outputs": [
    {
     "data": {
      "text/plain": [
       "'Hello world bangladesh'"
      ]
     },
     "execution_count": 61,
     "metadata": {},
     "output_type": "execute_result"
    }
   ],
   "source": [
    "# rjust()\n",
    "# ljust()\n",
    "\n",
    "# rjust, ljust add padding\n",
    "\n",
    "'Hello world bangladesh'.rjust(10)\n",
    "# 'Hello'.rjust(20)\n",
    "# # 'Hello world'.rjust(20)\n",
    "# 'Hello'.ljust(10)\n",
    "\n",
    "# # # fill character\n",
    "# 'Hello'.ljust(10, '#')\n",
    "\n",
    "\n",
    "# # # center()\n",
    "# 'Hello'.center(20)\n",
    "# 'Hello'.center(20, '*')\n",
    "st = 'Hello world bangladesh'\n",
    "st2 = st[:10]\n",
    "st"
   ]
  },
  {
   "cell_type": "code",
   "execution_count": 52,
   "id": "0d1067d3-9473-4007-b3b4-3331c6762a86",
   "metadata": {},
   "outputs": [
    {
     "name": "stdout",
     "output_type": "stream",
     "text": [
      "--------PICNIC ITEMS--------\n",
      "sandwiches..........        4\n",
      "apples..............       12\n",
      "cups................        4\n",
      "cookies.............     8000\n",
      "\n"
     ]
    }
   ],
   "source": [
    "def printPicnic(itemsDict, leftWidth, rightWidth):\n",
    "    print('PICNIC ITEMS'.center(leftWidth + rightWidth, '-'))\n",
    "    for k, v in itemsDict.items():\n",
    "        print(k.ljust(leftWidth, '.') + str(v).rjust(rightWidth))\n",
    "\n",
    "\n",
    "\n",
    "itemname_width = 20\n",
    "item_count_width = 8\n",
    "\n",
    "# print('PICNIC ITEMS'.center(itemname_width + item_count_width, '-'))\n",
    "# for k, v in itemsDict.items():\n",
    "#     print(k.ljust(itemname_width, '.') + str(v).rjust(rightWidth))\n",
    "\n",
    "    \n",
    "picnicItems = {'sandwiches': 4, 'apples': 12, 'cups': 4, 'cookies': 8000}\n",
    "\n",
    "print('PICNIC ITEMS'.center(itemname_width + item_count_width, '-'))\n",
    "for item_name, item_count in picnicItems.items():\n",
    "    # print(item_name, item_count)\n",
    "    print(item_name.ljust(itemname_width, '.'), str(item_count).rjust(item_count_width))\n",
    "\n",
    "\n",
    "# printPicnic(picnicItems, 12, 5)\n",
    "print()\n",
    "# printPicnic(picnicItems, 20, 6)\n",
    "# printPicnic(picnicItems, 80, 6)\n",
    "\n",
    "# print('PICNIC ITEMS'.center(44, '-'))"
   ]
  },
  {
   "cell_type": "code",
   "execution_count": 55,
   "id": "5a49f771-34e8-4798-8ef6-24e56e3846a5",
   "metadata": {
    "tags": []
   },
   "outputs": [
    {
     "data": {
      "text/plain": [
       "'       Hello world'"
      ]
     },
     "execution_count": 55,
     "metadata": {},
     "output_type": "execute_result"
    }
   ],
   "source": [
    "# strip()\n",
    "# lstrip()\n",
    "# rstrip()\n",
    "\n",
    "\n",
    "spam = '       Hello world'\n",
    "\n",
    "# spam.strip()\n",
    "# spam.lstrip()\n",
    "spam.rstrip()\n",
    "\n",
    "# spam = 'SpamSpamBaconSpamEggsSpamSpam'\n",
    "# spam.strip('ampS')"
   ]
  },
  {
   "cell_type": "code",
   "execution_count": 29,
   "id": "b0db43ae-4773-492f-90e5-86e39e25c603",
   "metadata": {},
   "outputs": [],
   "source": [
    "spam = 'Hello'\n",
    "# type(spam)\n",
    "# help(spam.upper())\n",
    "# dir(spam)"
   ]
  },
  {
   "cell_type": "code",
   "execution_count": 30,
   "id": "adcede9d-f1f8-4a2f-a85e-996333bb70a9",
   "metadata": {},
   "outputs": [
    {
     "data": {
      "text/plain": [
       "'Bangladesh'"
      ]
     },
     "execution_count": 30,
     "metadata": {},
     "output_type": "execute_result"
    }
   ],
   "source": [
    "# string constructor\n",
    "name = str('Bangladesh')\n",
    "name"
   ]
  },
  {
   "cell_type": "markdown",
   "id": "b95e4b73-af2f-401f-aad0-127cbcc68e86",
   "metadata": {},
   "source": [
    "### Practice Exercise\n",
    "    - caesar cyper\n",
    "    - palindrome check"
   ]
  },
  {
   "cell_type": "code",
   "execution_count": 72,
   "id": "1cdd91ed-a6f5-4e15-996a-313083c5584d",
   "metadata": {},
   "outputs": [
    {
     "name": "stdout",
     "output_type": "stream",
     "text": [
      "❢❹❱➅❼\n"
     ]
    }
   ],
   "source": [
    "\n",
    "# chr()\n",
    "# ord()\n",
    "\n",
    "ord('a')\n",
    "chr(97)\n",
    "\n",
    "chr(98)\n",
    "\n",
    "message = 'Riaul'\n",
    "encrypt_message = ''\n",
    "\n",
    "for ch in message:\n",
    "    ch_num = ord(ch)\n",
    "    ch_num = ch_num + 10000\n",
    "    ch2 = chr(ch_num)\n",
    "    encrypt_message = encrypt_message + ch2\n",
    "\n",
    "print(encrypt_message)\n",
    "# increment=2\n",
    "# message = 'tkcwn'"
   ]
  },
  {
   "cell_type": "code",
   "execution_count": 79,
   "id": "23dea808-c8e2-4533-ad56-10507d65c951",
   "metadata": {},
   "outputs": [
    {
     "data": {
      "text/plain": [
       "True"
      ]
     },
     "execution_count": 79,
     "metadata": {},
     "output_type": "execute_result"
    }
   ],
   "source": [
    "text = 'madam'\n",
    "# text = 'hello'\n",
    "\n",
    "\n",
    "text == text[::-1]"
   ]
  }
 ],
 "metadata": {
  "kernelspec": {
   "display_name": "Python 3 (ipykernel)",
   "language": "python",
   "name": "python3"
  },
  "language_info": {
   "codemirror_mode": {
    "name": "ipython",
    "version": 3
   },
   "file_extension": ".py",
   "mimetype": "text/x-python",
   "name": "python",
   "nbconvert_exporter": "python",
   "pygments_lexer": "ipython3",
   "version": "3.8.10"
  }
 },
 "nbformat": 4,
 "nbformat_minor": 5
}
