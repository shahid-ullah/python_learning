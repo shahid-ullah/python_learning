{
 "cells": [
  {
   "cell_type": "code",
   "execution_count": 23,
   "id": "ceba4e47-463b-4a85-a18d-d5e509e77086",
   "metadata": {},
   "outputs": [],
   "source": [
    "from IPython.core.interactiveshell import InteractiveShell\n",
    "InteractiveShell.ast_node_iteractivity = \"all\""
   ]
  },
  {
   "cell_type": "markdown",
   "id": "370847d4-8890-45cd-ad18-09dc33c43e5f",
   "metadata": {},
   "source": [
    "- Iterable"
   ]
  },
  {
   "cell_type": "code",
   "execution_count": null,
   "id": "33cba077-34fe-4837-b9d6-3570657f9122",
   "metadata": {},
   "outputs": [],
   "source": [
    "# iter()\n",
    "# __next__()\n",
    "# StopIteration"
   ]
  },
  {
   "cell_type": "code",
   "execution_count": 9,
   "id": "7bfac561-4d11-4d61-8d31-9c67f4dd7501",
   "metadata": {},
   "outputs": [
    {
     "data": {
      "text/plain": [
       "4"
      ]
     },
     "execution_count": 9,
     "metadata": {},
     "output_type": "execute_result"
    }
   ],
   "source": [
    "x = iter([1, 2, 3, 4])\n",
    "x\n",
    "\n",
    "x.__next__()\n",
    "x.__next__()\n",
    "x.__next__()\n",
    "x.__next__()\n",
    "# x.__next__()"
   ]
  },
  {
   "cell_type": "code",
   "execution_count": 17,
   "id": "b8ab701b-43b3-49b6-b025-b03b423712d4",
   "metadata": {},
   "outputs": [
    {
     "name": "stdout",
     "output_type": "stream",
     "text": [
      "0\n",
      "1\n",
      "2\n",
      "3\n",
      "4\n"
     ]
    }
   ],
   "source": [
    "for i in range(5):\n",
    "    print(i)"
   ]
  },
  {
   "cell_type": "code",
   "execution_count": 19,
   "id": "0a0554c8-dbad-40d7-bbb8-f8d0437c1a63",
   "metadata": {},
   "outputs": [
    {
     "name": "stdout",
     "output_type": "stream",
     "text": [
      "4\n",
      "3\n",
      "2\n",
      "1\n",
      "0\n"
     ]
    }
   ],
   "source": [
    "class reverse_range:\n",
    "\n",
    "    def __init__(self, n):\n",
    "        self.n = n\n",
    "\n",
    "    def __iter__(self):\n",
    "        return self\n",
    "\n",
    "    def __next__(self):\n",
    "        if self.n >= 1:\n",
    "            temp = self.n - 1\n",
    "            self.n = self.n - 1\n",
    "            return temp\n",
    "        else:\n",
    "            raise StopIteration\n",
    "\n",
    "for temp in reverse_range(5):\n",
    "    print(temp)"
   ]
  },
  {
   "cell_type": "markdown",
   "id": "9fd97243-115a-421f-9994-97f6e2c18f69",
   "metadata": {},
   "source": [
    "## Generator\n"
   ]
  },
  {
   "cell_type": "code",
   "execution_count": 28,
   "id": "c5103323-5801-44cc-9f9f-6e86f37cee34",
   "metadata": {},
   "outputs": [
    {
     "name": "stdout",
     "output_type": "stream",
     "text": [
      "5\n",
      "4\n",
      "3\n",
      "2\n",
      "1\n",
      "0\n"
     ]
    }
   ],
   "source": [
    "def revrange(n):\n",
    "    while n >= 0:\n",
    "        yield n\n",
    "        n = n - 1\n",
    "\n",
    "# for temp in revrange(5):\n",
    "#     print(temp)\n",
    "    \n",
    "sequence = revrange(5)\n",
    "print(next(sequence))\n",
    "print(next(sequence))\n",
    "print(next(sequence))\n",
    "print(next(sequence))\n",
    "print(next(sequence))\n",
    "print(next(sequence))\n",
    "# print(next(sequence))\n",
    "    "
   ]
  }
 ],
 "metadata": {
  "kernelspec": {
   "display_name": "Python 3 (ipykernel)",
   "language": "python",
   "name": "python3"
  },
  "language_info": {
   "codemirror_mode": {
    "name": "ipython",
    "version": 3
   },
   "file_extension": ".py",
   "mimetype": "text/x-python",
   "name": "python",
   "nbconvert_exporter": "python",
   "pygments_lexer": "ipython3",
   "version": "3.8.10"
  }
 },
 "nbformat": 4,
 "nbformat_minor": 5
}
