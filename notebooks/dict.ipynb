{
 "cells": [
  {
   "cell_type": "code",
   "execution_count": 5,
   "id": "dfb3ebed-ad15-41a3-8e8d-748804955fa9",
   "metadata": {},
   "outputs": [],
   "source": [
    "from IPython.core.interactiveshell import InteractiveShell\n",
    "InteractiveShell.ast_node_interactivity = 'all'"
   ]
  },
  {
   "cell_type": "markdown",
   "id": "3fe9527f-819e-4787-997b-08af01c4d9ed",
   "metadata": {},
   "source": [
    "- A Dictionary is a mapping\n",
    "- Dictionary as a collection of counters\n",
    "- Looping and dictionaries\n",
    "- Reverse Lookup\n",
    "- Dictionaries and Lists\n",
    "- Memorization\n",
    "- Global variables\n",
    "- Exercises"
   ]
  },
  {
   "cell_type": "code",
   "execution_count": 9,
   "id": "198a345c-c33b-404f-baca-de458cfc8cc5",
   "metadata": {},
   "outputs": [
    {
     "data": {
      "text/plain": [
       "{'one': 1, 'abc': 2, 'four': 4}"
      ]
     },
     "execution_count": 9,
     "metadata": {},
     "output_type": "execute_result"
    },
    {
     "data": {
      "text/plain": [
       "dict"
      ]
     },
     "execution_count": 9,
     "metadata": {},
     "output_type": "execute_result"
    },
    {
     "ename": "KeyError",
     "evalue": "'two'",
     "output_type": "error",
     "traceback": [
      "\u001b[0;31m---------------------------------------------------------------------------\u001b[0m",
      "\u001b[0;31mKeyError\u001b[0m                                  Traceback (most recent call last)",
      "Input \u001b[0;32mIn [9]\u001b[0m, in \u001b[0;36m<cell line: 12>\u001b[0;34m()\u001b[0m\n\u001b[1;32m      9\u001b[0m \u001b[38;5;28mtype\u001b[39m(dic)\n\u001b[1;32m     11\u001b[0m \u001b[38;5;66;03m# dic['name'] = 'karim'\u001b[39;00m\n\u001b[0;32m---> 12\u001b[0m \u001b[43mdic\u001b[49m\u001b[43m[\u001b[49m\u001b[38;5;124;43m'\u001b[39;49m\u001b[38;5;124;43mtwo\u001b[39;49m\u001b[38;5;124;43m'\u001b[39;49m\u001b[43m]\u001b[49m\n",
      "\u001b[0;31mKeyError\u001b[0m: 'two'"
     ]
    }
   ],
   "source": [
    "# A dictionary is a mapping\n",
    "# A dictionary is like a list, but more general. In a list, the indices have to be integers;\n",
    "# in a dictionary they can be (almost) any type.\n",
    "\n",
    "\n",
    "# dic = dict() # creates empty dictionary\n",
    "dic = {'one': 1, 'abc': 2, 'four': 4}\n",
    "dic\n",
    "type(dic)\n",
    "\n",
    "# dic['name'] = 'karim'\n",
    "dic['two']\n",
    "# dic\n",
    "\n",
    "# lst = [1, 2, 3]"
   ]
  },
  {
   "cell_type": "code",
   "execution_count": 8,
   "id": "b9e9f461-5f3b-47e8-b631-a4d3e09c2159",
   "metadata": {},
   "outputs": [
    {
     "data": {
      "text/plain": [
       "3"
      ]
     },
     "execution_count": 8,
     "metadata": {},
     "output_type": "execute_result"
    }
   ],
   "source": [
    "# The order of items in a dictionary is unpredictable\n",
    "\n",
    "eng2sp = {'one': 'uno', 'two': 'dos', 'three': 'tres'}\n",
    "num_map = {'one': 1, 'two': 2, 'three': 3}\n",
    "eng2sp\n",
    "num_map\n",
    "\n",
    "len(num_map)"
   ]
  },
  {
   "cell_type": "code",
   "execution_count": 10,
   "id": "54d2affa-73b2-4c10-bea6-7e337bd206d4",
   "metadata": {},
   "outputs": [
    {
     "data": {
      "text/plain": [
       "True"
      ]
     },
     "execution_count": 10,
     "metadata": {},
     "output_type": "execute_result"
    }
   ],
   "source": [
    "'one' in 'onetwothree' # in operator"
   ]
  },
  {
   "cell_type": "code",
   "execution_count": 12,
   "id": "90138b29-6a0a-4b95-8dbb-6dfc3d6c777a",
   "metadata": {},
   "outputs": [
    {
     "data": {
      "text/plain": [
       "dict_keys(['one', 'two', 'three'])"
      ]
     },
     "execution_count": 12,
     "metadata": {},
     "output_type": "execute_result"
    },
    {
     "data": {
      "text/plain": [
       "dict_values([1, 2, 3])"
      ]
     },
     "execution_count": 12,
     "metadata": {},
     "output_type": "execute_result"
    },
    {
     "data": {
      "text/plain": [
       "dict_items([('one', 1), ('two', 2), ('three', 3)])"
      ]
     },
     "execution_count": 12,
     "metadata": {},
     "output_type": "execute_result"
    }
   ],
   "source": [
    "\n",
    "num_map = {'one': 1, 'two': 2, 'three': 3}\n",
    "num_map.keys()\n",
    "num_map.values()\n",
    "num_map.items()"
   ]
  },
  {
   "cell_type": "code",
   "execution_count": 27,
   "id": "399855f8-024d-4705-8958-2ba4021ee10a",
   "metadata": {},
   "outputs": [
    {
     "data": {
      "text/plain": [
       "dict_keys(['one', 'two', 'four', 'three'])"
      ]
     },
     "execution_count": 27,
     "metadata": {},
     "output_type": "execute_result"
    },
    {
     "data": {
      "text/plain": [
       "1"
      ]
     },
     "execution_count": 27,
     "metadata": {},
     "output_type": "execute_result"
    },
    {
     "data": {
      "text/plain": [
       "2"
      ]
     },
     "execution_count": 27,
     "metadata": {},
     "output_type": "execute_result"
    },
    {
     "data": {
      "text/plain": [
       "2"
      ]
     },
     "execution_count": 27,
     "metadata": {},
     "output_type": "execute_result"
    },
    {
     "data": {
      "text/plain": [
       "3"
      ]
     },
     "execution_count": 27,
     "metadata": {},
     "output_type": "execute_result"
    },
    {
     "data": {
      "text/plain": [
       "{'one': 1, 'two': 1, 'four': 1, 'three': 1}"
      ]
     },
     "execution_count": 27,
     "metadata": {},
     "output_type": "execute_result"
    }
   ],
   "source": [
    "\n",
    "num_map = {'one': 1, 'two': 2, 'four': 2, 'three': 3}\n",
    "\n",
    "count_map = {}\n",
    "\n",
    "keys = num_map.keys()"
   ]
  },
  {
   "cell_type": "code",
   "execution_count": 20,
   "id": "4ddd18ef-e303-454d-9bcc-56fbf4f89eec",
   "metadata": {},
   "outputs": [
    {
     "data": {
      "text/plain": [
       "{'s': 1, 'h': 2, 'a': 1, 'i': 1, 'd': 1}"
      ]
     },
     "execution_count": 20,
     "metadata": {},
     "output_type": "execute_result"
    },
    {
     "data": {
      "text/plain": [
       "0"
      ]
     },
     "execution_count": 20,
     "metadata": {},
     "output_type": "execute_result"
    }
   ],
   "source": [
    "def histogram(s):\n",
    "    d = {}\n",
    "    for c in s:\n",
    "        if c not in d:\n",
    "            d[c] = 1\n",
    "        else:\n",
    "            d[c] += 1\n",
    "    return d\n",
    "\n",
    "st = 'shahid'\n",
    "\n",
    "h = histogram(st)\n",
    "h\n",
    "\n",
    "h.get('m', 0) # get method"
   ]
  },
  {
   "cell_type": "code",
   "execution_count": 21,
   "id": "8d75164b-279e-4e24-adab-080d89f07090",
   "metadata": {},
   "outputs": [
    {
     "data": {
      "text/plain": [
       "{'s': 1, 'h': 2, 'a': 1, 'i': 1, 'd': 1}"
      ]
     },
     "execution_count": 21,
     "metadata": {},
     "output_type": "execute_result"
    }
   ],
   "source": [
    "def histogram(s):\n",
    "    d = dict()\n",
    "    for c in s:\n",
    "        d[c] = d.get(c, 0) + 1\n",
    "    return d\n",
    "\n",
    "st = 'shahid'\n",
    "histogram(st)"
   ]
  },
  {
   "cell_type": "code",
   "execution_count": 22,
   "id": "fea2a7af-365c-4c23-bc43-17389e917b87",
   "metadata": {},
   "outputs": [
    {
     "name": "stdout",
     "output_type": "stream",
     "text": [
      "p 1\n",
      "a 1\n",
      "r 2\n",
      "o 1\n",
      "t 1\n"
     ]
    }
   ],
   "source": [
    "# Looping and dictionaries\n",
    "\n",
    "def print_hist(h):\n",
    "    for c in h:\n",
    "        print(c, h[c])\n",
    "\n",
    "h = histogram('parrot')\n",
    "print_hist(h)"
   ]
  },
  {
   "cell_type": "code",
   "execution_count": 23,
   "id": "51d98f81-a073-488d-a40c-7f319746187b",
   "metadata": {},
   "outputs": [
    {
     "name": "stdout",
     "output_type": "stream",
     "text": [
      "a 1\n",
      "o 1\n",
      "p 1\n",
      "r 2\n",
      "t 1\n"
     ]
    }
   ],
   "source": [
    "# sorted method to traverse keys in sorted order\n",
    "\n",
    "for key in sorted(h):\n",
    "    print(key, h[key])"
   ]
  },
  {
   "cell_type": "code",
   "execution_count": 41,
   "id": "75053279-aec7-427e-965d-515eea49e93c",
   "metadata": {},
   "outputs": [
    {
     "data": {
      "text/plain": [
       "'r'"
      ]
     },
     "execution_count": 41,
     "metadata": {},
     "output_type": "execute_result"
    }
   ],
   "source": [
    "# Reverse Lookup\n",
    "\n",
    "def reverse_lookup(d, v):\n",
    "    for k in d:\n",
    "        if d[k] == v:\n",
    "            return k\n",
    "    # raise LookupError()\n",
    "    \n",
    "h = histogram('parrot')\n",
    "k = reverse_lookup(h, 2)\n",
    "k\n",
    "# k = reverse_lookup(v, 2)"
   ]
  },
  {
   "cell_type": "code",
   "execution_count": 44,
   "id": "2bb61e4c-cc4a-4c9d-8fbc-43f46d989c2a",
   "metadata": {},
   "outputs": [
    {
     "data": {
      "text/plain": [
       "{'p': 1, 'a': 1, 'r': 2, 'o': 1, 't': 1}"
      ]
     },
     "execution_count": 44,
     "metadata": {},
     "output_type": "execute_result"
    },
    {
     "data": {
      "text/plain": [
       "{1: ['p', 'a', 'o', 't'], 2: ['r']}"
      ]
     },
     "execution_count": 44,
     "metadata": {},
     "output_type": "execute_result"
    }
   ],
   "source": [
    "# Dictionaries and lists\n",
    "\n",
    "def invert_dict(d):\n",
    "    inverse = dict()\n",
    "    for key in d:\n",
    "        val = d[key]\n",
    "        if val not in inverse:\n",
    "            inverse[val] = [key]\n",
    "        else:\n",
    "            inverse[val].append(key)\n",
    "    return inverse\n",
    "\n",
    "\n",
    "hist = histogram('parrot')\n",
    "hist\n",
    "\n",
    "inverse = invert_dict(hist)\n",
    "inverse"
   ]
  },
  {
   "cell_type": "code",
   "execution_count": 50,
   "id": "5bd2ab57-a895-4c3b-846f-686a63368045",
   "metadata": {},
   "outputs": [
    {
     "data": {
      "text/plain": [
       "{}"
      ]
     },
     "execution_count": 50,
     "metadata": {},
     "output_type": "execute_result"
    }
   ],
   "source": [
    "# List can be values in a dictionary,\n",
    "# but they cannot be keys.\n",
    "\n",
    "t = [1, 2, 3]\n",
    "d = dict()\n",
    "# d[t] = 'something'\n",
    "d\n",
    "\n",
    "# A hash is a function that takes a value (of any kind) and returns an integer. Dictionar‐\n",
    "# ies use these integers, called hash values, to store and look up key-value pairs."
   ]
  },
  {
   "cell_type": "code",
   "execution_count": 86,
   "id": "c7bb41b2-f920-4091-b33d-4c026ec9396e",
   "metadata": {},
   "outputs": [
    {
     "data": {
      "text/plain": [
       "5016316714495095305"
      ]
     },
     "execution_count": 86,
     "metadata": {},
     "output_type": "execute_result"
    }
   ],
   "source": [
    "hash('shahid')"
   ]
  },
  {
   "cell_type": "code",
   "execution_count": 98,
   "id": "3efae556-0f8d-4ab3-abc2-ff7ccb1a49cd",
   "metadata": {},
   "outputs": [
    {
     "data": {
      "text/plain": [
       "43466557686937456435688527675040625802564660517371780402481729089536555417949051890403879840079255169295922593080322634775209689623239873322471161642996440906533187938298969649928516003704476137795166849228875"
      ]
     },
     "execution_count": 98,
     "metadata": {},
     "output_type": "execute_result"
    }
   ],
   "source": [
    "# Memorization\n",
    "\n",
    "known = {0:0, 1:1}\n",
    "\n",
    "def fibonacci(n):\n",
    "    if n in known:\n",
    "        return known[n]\n",
    "    \n",
    "    res = fibonacci(n-1) + fibonacci(n-2)\n",
    "    known[n] = res\n",
    "    \n",
    "    return res\n",
    "\n",
    "\n",
    "fibonacci(1000)"
   ]
  },
  {
   "cell_type": "code",
   "execution_count": 103,
   "id": "746cd4fb-8de2-4456-a8c9-f2342e955f99",
   "metadata": {},
   "outputs": [],
   "source": [
    "# Global variables\n",
    "\n",
    "global_variable = 10\n",
    "\n",
    "def global_variable_test():\n",
    "    # global global_variable\n",
    "    global_variable = 5\n",
    "    print(global_variable)\n",
    "    \n",
    "global_variable_test()\n",
    "print(global_variable)"
   ]
  },
  {
   "cell_type": "code",
   "execution_count": 107,
   "id": "223fac49-fc2c-484a-aa11-f91587073b08",
   "metadata": {},
   "outputs": [
    {
     "data": {
      "text/plain": [
       "2"
      ]
     },
     "execution_count": 107,
     "metadata": {},
     "output_type": "execute_result"
    }
   ],
   "source": [
    "count = 1\n",
    "def example():\n",
    "    global count\n",
    "    count = count + 1\n",
    "    return count\n",
    "    \n",
    "example()"
   ]
  },
  {
   "cell_type": "code",
   "execution_count": 122,
   "id": "ce65c9b4-5246-4135-bae3-5c7ece32330e",
   "metadata": {},
   "outputs": [
    {
     "name": "stdout",
     "output_type": "stream",
     "text": [
      "{0: 0, 1: 1, 2: 3}\n",
      "{0: 0, 1: 1, 2: 3}\n"
     ]
    }
   ],
   "source": [
    "# if a global varaiable refers to a mutable value,\n",
    "# you can modify the value without declaring the varialbe\n",
    "\n",
    "known = {0:0, 1:1}\n",
    "\n",
    "def func():\n",
    "    known[2] = 3 \n",
    "\n",
    "func()\n",
    "\n",
    "print(known)\n",
    "\n",
    "# you can add, remove and replace elements of a global list \n",
    "# or dictionary, but if you want to reassign the variable,\n",
    "# you have to declare it.\n",
    "\n",
    "def func():\n",
    "    # global known\n",
    "    known = 3\n",
    "\n",
    "func()\n",
    "print(known)"
   ]
  }
 ],
 "metadata": {
  "kernelspec": {
   "display_name": "Python 3 (ipykernel)",
   "language": "python",
   "name": "python3"
  },
  "language_info": {
   "codemirror_mode": {
    "name": "ipython",
    "version": 3
   },
   "file_extension": ".py",
   "mimetype": "text/x-python",
   "name": "python",
   "nbconvert_exporter": "python",
   "pygments_lexer": "ipython3",
   "version": "3.8.10"
  }
 },
 "nbformat": 4,
 "nbformat_minor": 5
}
