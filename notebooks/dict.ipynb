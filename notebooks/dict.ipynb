{
 "cells": [
  {
   "cell_type": "code",
   "execution_count": 30,
   "id": "dfb3ebed-ad15-41a3-8e8d-748804955fa9",
   "metadata": {},
   "outputs": [],
   "source": [
    "from IPython.core.interactiveshell import InteractiveShell\n",
    "InteractiveShell.ast_node_interactivity = 'all'"
   ]
  },
  {
   "cell_type": "markdown",
   "id": "3fe9527f-819e-4787-997b-08af01c4d9ed",
   "metadata": {},
   "source": [
    "- A Dictionary is a mapping\n",
    "- Dictionary as a collection of counters\n",
    "- Looping and dictionaries\n",
    "- Reverse Lookup\n",
    "- Dictionaries and Lists\n",
    "- Memorization\n",
    "- Global variables\n",
    "- Exercises"
   ]
  },
  {
   "cell_type": "code",
   "execution_count": 10,
   "id": "abf4de94-0e68-4b78-8864-8cf52cded4e2",
   "metadata": {},
   "outputs": [],
   "source": [
    "# a = 'name'\n",
    "# hash(a)"
   ]
  },
  {
   "cell_type": "code",
   "execution_count": 19,
   "id": "198a345c-c33b-404f-baca-de458cfc8cc5",
   "metadata": {},
   "outputs": [
    {
     "data": {
      "text/plain": [
       "{'name': 'Karim', 'age': 28, 'adld': 27}"
      ]
     },
     "execution_count": 19,
     "metadata": {},
     "output_type": "execute_result"
    }
   ],
   "source": [
    "# A dictionary is a mapping\n",
    "# A dictionary is like a list, but more general. In a list, the indices have to be integers;\n",
    "# in a dictionary they can be (almost) any type.\n",
    "\n",
    "\n",
    "# dic = dict() # creates empty dictionary\n",
    "dic = {'name': 'Karim', 'age': 27, 'adld': 27}\n",
    "dic\n",
    "# type(dic)\n",
    "\n",
    "# accessing dictionary value\n",
    "dic['name']\n",
    "\n",
    "\n",
    "# accessing not available key\n",
    "# dic['now_key']\n",
    "\n",
    "# assigning new value to existing key\n",
    "# dic['name'] = 'karim'\n",
    "\n",
    "# adding new key, value pair\n",
    "dic['age'] = 28\n",
    "dic\n",
    "\n"
   ]
  },
  {
   "cell_type": "code",
   "execution_count": 8,
   "id": "b9e9f461-5f3b-47e8-b631-a4d3e09c2159",
   "metadata": {},
   "outputs": [
    {
     "data": {
      "text/plain": [
       "3"
      ]
     },
     "execution_count": 8,
     "metadata": {},
     "output_type": "execute_result"
    }
   ],
   "source": [
    "# The order of items in a dictionary is unpredictable\n",
    "\n",
    "eng2sp = {'one': 'uno', 'two': 'dos', 'three': 'tres'}\n",
    "num_map = {'one': 1, 'two': 2, 'three': 3}\n",
    "eng2sp\n",
    "num_map\n",
    "\n",
    "len(num_map)"
   ]
  },
  {
   "cell_type": "code",
   "execution_count": 10,
   "id": "54d2affa-73b2-4c10-bea6-7e337bd206d4",
   "metadata": {},
   "outputs": [
    {
     "data": {
      "text/plain": [
       "True"
      ]
     },
     "execution_count": 10,
     "metadata": {},
     "output_type": "execute_result"
    }
   ],
   "source": [
    "'one' in 'onetwothree' # in operator"
   ]
  },
  {
   "cell_type": "code",
   "execution_count": 15,
   "id": "90138b29-6a0a-4b95-8dbb-6dfc3d6c777a",
   "metadata": {},
   "outputs": [
    {
     "data": {
      "text/plain": [
       "dict_keys(['one', 'two', 'three'])"
      ]
     },
     "execution_count": 15,
     "metadata": {},
     "output_type": "execute_result"
    },
    {
     "data": {
      "text/plain": [
       "dict_values([1, 2, 3])"
      ]
     },
     "execution_count": 15,
     "metadata": {},
     "output_type": "execute_result"
    },
    {
     "data": {
      "text/plain": [
       "dict_items([('one', 1), ('two', 2), ('three', 3)])"
      ]
     },
     "execution_count": 15,
     "metadata": {},
     "output_type": "execute_result"
    }
   ],
   "source": [
    "# useful methods\n",
    "num_map = {'one': 1, 'two': 2, 'three': 3}\n",
    "num_map.keys()\n",
    "num_map.values()\n",
    "num_map.items()"
   ]
  },
  {
   "cell_type": "code",
   "execution_count": 23,
   "id": "25c72557-f163-42ff-9643-c127372143e3",
   "metadata": {},
   "outputs": [
    {
     "name": "stdout",
     "output_type": "stream",
     "text": [
      "name Karim\n",
      "age 27\n",
      "city Dhaka\n"
     ]
    }
   ],
   "source": [
    "# Iterating\n",
    "user_info = {'name': 'Karim', 'age': 27, 'city': 'Dhaka'}\n",
    "\n",
    "# for key, value in user_info.items():\n",
    "#     print(key, value)\n",
    "    \n",
    "# for key in user_info.keys():\n",
    "#     print(user_info[key])\n",
    "    \n",
    "for key in user_info:\n",
    "    print(key, user_info[key])\n"
   ]
  },
  {
   "cell_type": "code",
   "execution_count": 27,
   "id": "399855f8-024d-4705-8958-2ba4021ee10a",
   "metadata": {},
   "outputs": [
    {
     "name": "stdout",
     "output_type": "stream",
     "text": [
      "{'B': 1, 'a': 2, 'n': 1, 'g': 1, 'l': 1, 'd': 1, 'e': 1, 's': 1, 'h': 1}\n"
     ]
    }
   ],
   "source": [
    "# counting value frequence\n",
    "\n",
    "numbers = [1, 1, 1, 5, 5, 3, 1, 3, 3, 1, 4, 4, 4, 2, 2, 2, 2]\n",
    "# numbers = [1, 1,]\n",
    "\n",
    "item_list = ['mango', 'apple', 'mango', 'banana']\n",
    "\n",
    "dic[1] = 1\n",
    "dic[1] = 1 + 1\n",
    "dic[1] = 1 + 1 + 1\n",
    "\n",
    "\n",
    "count_map = {}\n",
    "\n",
    "numbers = 'Bangladesh'\n",
    "\n",
    "for number in numbers:\n",
    "    \n",
    "    if number in count_map:\n",
    "        # print(number, 'if statement')\n",
    "        count_map[number] = count_map[number] + 1\n",
    "    else:\n",
    "        # print(number, 'else statement')\n",
    "        count_map[number] = 1\n",
    "        \n",
    "print(count_map)"
   ]
  },
  {
   "cell_type": "code",
   "execution_count": 59,
   "id": "1b5c3ba4-3d32-4f23-91f7-500ccebf5539",
   "metadata": {},
   "outputs": [
    {
     "data": {
      "text/plain": [
       "[0, 1, 2, 3, 4, 5, 6, 7, 8, 9]"
      ]
     },
     "execution_count": 59,
     "metadata": {},
     "output_type": "execute_result"
    },
    {
     "data": {
      "text/plain": [
       "[0, 1, 2, 3, 4, 5, 6, 7, 8, 9]"
      ]
     },
     "execution_count": 59,
     "metadata": {},
     "output_type": "execute_result"
    }
   ],
   "source": [
    "lst = [i for i in range(10)]\n",
    "lst2 = [i for i in range(10)]\n",
    "\n",
    "\n",
    "\n",
    "dic = {}\n",
    "for num in lst:\n",
    "    dic[num] = True\n",
    "    \n",
    "\n",
    "list(dic.keys())\n",
    "for num in lst2:\n",
    "    dic[num] = True\n",
    "\n",
    "\n",
    "list(dic.keys())"
   ]
  },
  {
   "cell_type": "code",
   "execution_count": 41,
   "id": "3fd50a13-f339-4a0d-af27-aa131f464f74",
   "metadata": {},
   "outputs": [
    {
     "name": "stdout",
     "output_type": "stream",
     "text": [
      "75.50566267967224\n",
      "150000\n"
     ]
    }
   ],
   "source": [
    "\n",
    "import time\n",
    "start = time.time()\n",
    "\n",
    "lst1 = []\n",
    "lst2 = []\n",
    "for i in range(100000):\n",
    "    lst1.append(i)\n",
    "    \n",
    "for i in range(5, 150000):\n",
    "    lst2.append(i)\n",
    "    \n",
    "# lst1\n",
    "# lst2\n",
    "    \n",
    "# lst1 = [i for i in range(10)] # list comprehnsion\n",
    "# lst2 = [i for i in range(10)]\n",
    "\n",
    "# lst3 = lst1 + lst2\n",
    "# # print(len(lst3))\n",
    "\n",
    "unique_list = []\n",
    "\n",
    "for number in lst1:\n",
    "    unique_list.append(number)\n",
    "    \n",
    "for number in lst2:\n",
    "    if number not in unique_list:\n",
    "        unique_list.append(number)\n",
    "        \n",
    "end = time.time()\n",
    "print(end - start)\n",
    "        \n",
    "print(len(unique_list))\n",
    "# unique_list\n",
    "\n",
    "# lst1"
   ]
  },
  {
   "cell_type": "code",
   "execution_count": 65,
   "id": "04ded315-76e6-4938-9d27-51c2b33e3ad9",
   "metadata": {},
   "outputs": [
    {
     "name": "stdout",
     "output_type": "stream",
     "text": [
      "0.06582117080688477\n"
     ]
    },
    {
     "data": {
      "text/plain": [
       "150000"
      ]
     },
     "execution_count": 65,
     "metadata": {},
     "output_type": "execute_result"
    }
   ],
   "source": [
    "import time\n",
    "start = time.time()\n",
    "\n",
    "\n",
    "unique_items = {}\n",
    "\n",
    "lst1 = [i for i in range(100000)]\n",
    "lst2 = [i for i in range(5, 150000)]\n",
    "\n",
    "for number in lst1:\n",
    "    unique_items[number] = True\n",
    "    \n",
    "for number in lst2:\n",
    "    unique_items[number] = True\n",
    "    \n",
    "\n",
    "end = time.time()\n",
    "\n",
    "print(end - start)\n",
    "len(unique_items.keys())\n",
    "# print(unique_items.keys())"
   ]
  },
  {
   "cell_type": "code",
   "execution_count": 33,
   "id": "3255fb51-2cbf-47e9-9a36-accffbd4f2fc",
   "metadata": {},
   "outputs": [
    {
     "data": {
      "text/plain": [
       "{'name': 'karim', 'age': 25}"
      ]
     },
     "execution_count": 33,
     "metadata": {},
     "output_type": "execute_result"
    }
   ],
   "source": [
    "# All keys are unique in a dictionary\n",
    "\n",
    "maps = {'name': 'karim', 'age': 20, 'age': 25}\n",
    "maps"
   ]
  },
  {
   "cell_type": "code",
   "execution_count": 34,
   "id": "4928b6fa-010c-4b41-ae2d-4c14dac9b164",
   "metadata": {},
   "outputs": [
    {
     "data": {
      "text/plain": [
       "dict_keys([1, 5, 3, 4, 2])"
      ]
     },
     "execution_count": 34,
     "metadata": {},
     "output_type": "execute_result"
    }
   ],
   "source": [
    "# Finding unique values\n",
    "\n",
    "temp_dict = {}\n",
    "\n",
    "numbers = [1, 1, 1, 5, 5, 3, 1, 3, 3, 1, 4, 4, 4, 2, 2, 2, 2]\n",
    "\n",
    "for number in numbers:\n",
    "    temp_dict[number] = True\n",
    "\n",
    "unique_values = temp_dict.keys()\n",
    "unique_values"
   ]
  },
  {
   "cell_type": "code",
   "execution_count": 61,
   "id": "e6026e02-5616-4072-b615-9f804b914c0d",
   "metadata": {},
   "outputs": [],
   "source": [
    "# employee_list example"
   ]
  },
  {
   "cell_type": "code",
   "execution_count": 35,
   "id": "4ddd18ef-e303-454d-9bcc-56fbf4f89eec",
   "metadata": {},
   "outputs": [
    {
     "data": {
      "text/plain": [
       "{'s': 1, 'h': 2, 'a': 1, 'i': 1, 'd': 1}"
      ]
     },
     "execution_count": 35,
     "metadata": {},
     "output_type": "execute_result"
    },
    {
     "data": {
      "text/plain": [
       "0"
      ]
     },
     "execution_count": 35,
     "metadata": {},
     "output_type": "execute_result"
    }
   ],
   "source": [
    "def histogram(s):\n",
    "    d = {}\n",
    "    for c in s:\n",
    "        if c not in d:\n",
    "            d[c] = 1\n",
    "        else:\n",
    "            d[c] += 1\n",
    "    return d\n",
    "\n",
    "st = 'shahid'\n",
    "\n",
    "h = histogram(st)\n",
    "h\n",
    "\n",
    "h.get('m', 0) # get method"
   ]
  },
  {
   "cell_type": "code",
   "execution_count": 39,
   "id": "51d98f81-a073-488d-a40c-7f319746187b",
   "metadata": {},
   "outputs": [
    {
     "name": "stdout",
     "output_type": "stream",
     "text": [
      "a 1\n",
      "d 1\n",
      "h 2\n",
      "i 1\n",
      "s 1\n"
     ]
    }
   ],
   "source": [
    "# sorted method to traverse keys in sorted order\n",
    "\n",
    "for key in sorted(h):\n",
    "    print(key, h[key])"
   ]
  },
  {
   "cell_type": "code",
   "execution_count": 3,
   "id": "75053279-aec7-427e-965d-515eea49e93c",
   "metadata": {},
   "outputs": [
    {
     "data": {
      "text/plain": [
       "'c'"
      ]
     },
     "execution_count": 3,
     "metadata": {},
     "output_type": "execute_result"
    }
   ],
   "source": [
    "# Reverse Lookup\n",
    "\n",
    "def reverse_lookup(d, v):\n",
    "    for k in d:\n",
    "        if d[k] == v:\n",
    "            return k\n",
    "    # raise LookupError()\n",
    "    \n",
    "    \n",
    "character_frequency = {'a': 2, 'b': 10, 'c': 4}\n",
    "key = reverse_lookup(character_frequency, 4)\n",
    "key"
   ]
  },
  {
   "cell_type": "code",
   "execution_count": 44,
   "id": "2bb61e4c-cc4a-4c9d-8fbc-43f46d989c2a",
   "metadata": {},
   "outputs": [
    {
     "data": {
      "text/plain": [
       "{'p': 1, 'a': 1, 'r': 2, 'o': 1, 't': 1}"
      ]
     },
     "execution_count": 44,
     "metadata": {},
     "output_type": "execute_result"
    },
    {
     "data": {
      "text/plain": [
       "{1: ['p', 'a', 'o', 't'], 2: ['r']}"
      ]
     },
     "execution_count": 44,
     "metadata": {},
     "output_type": "execute_result"
    }
   ],
   "source": [
    "# Dictionaries and lists\n",
    "\n",
    "def invert_dict(d):\n",
    "    inverse = dict()\n",
    "    for key in d:\n",
    "        val = d[key]\n",
    "        if val not in inverse:\n",
    "            inverse[val] = [key]\n",
    "        else:\n",
    "            inverse[val].append(key)\n",
    "    return inverse\n",
    "\n",
    "\n",
    "hist = histogram('parrot')\n",
    "hist\n",
    "\n",
    "inverse = invert_dict(hist)\n",
    "inverse"
   ]
  },
  {
   "cell_type": "code",
   "execution_count": 50,
   "id": "5bd2ab57-a895-4c3b-846f-686a63368045",
   "metadata": {},
   "outputs": [
    {
     "data": {
      "text/plain": [
       "{}"
      ]
     },
     "execution_count": 50,
     "metadata": {},
     "output_type": "execute_result"
    }
   ],
   "source": [
    "# List can be values in a dictionary,\n",
    "# but they cannot be keys.\n",
    "\n",
    "t = [1, 2, 3]\n",
    "d = dict()\n",
    "# d[t] = 'something'\n",
    "d\n",
    "\n",
    "# A hash is a function that takes a value (of any kind) and returns an integer. Dictionar‐\n",
    "# ies use these integers, called hash values, to store and look up key-value pairs."
   ]
  },
  {
   "cell_type": "code",
   "execution_count": 86,
   "id": "c7bb41b2-f920-4091-b33d-4c026ec9396e",
   "metadata": {},
   "outputs": [
    {
     "data": {
      "text/plain": [
       "5016316714495095305"
      ]
     },
     "execution_count": 86,
     "metadata": {},
     "output_type": "execute_result"
    }
   ],
   "source": [
    "hash('shahid')"
   ]
  },
  {
   "cell_type": "code",
   "execution_count": null,
   "id": "7ce4736f-3bee-424c-beb3-b880be06c453",
   "metadata": {},
   "outputs": [],
   "source": [
    "# Fibonacci series\n",
    "# 0, 1, 1, 2, 3, 5, 8, 13, 21, 34, ..."
   ]
  },
  {
   "cell_type": "code",
   "execution_count": 80,
   "id": "3efae556-0f8d-4ab3-abc2-ff7ccb1a49cd",
   "metadata": {},
   "outputs": [
    {
     "name": "stdout",
     "output_type": "stream",
     "text": [
      "12586269025\n"
     ]
    },
    {
     "data": {
      "text/plain": [
       "0.0003764629364013672"
      ]
     },
     "execution_count": 80,
     "metadata": {},
     "output_type": "execute_result"
    }
   ],
   "source": [
    "# Memorization\n",
    "# find position value\n",
    "import time\n",
    "start = time.time()\n",
    "\n",
    "\n",
    "\n",
    "known = {0:0, 1:1}\n",
    "sum = 0\n",
    "\n",
    "def fibonacci(n):\n",
    "    # n = 2\n",
    "    if n in known:\n",
    "        return known[n]\n",
    "    # (2-1) (2-2)\n",
    "    res = fibonacci(n-1) + fibonacci(n-2)\n",
    "    known[n] = res\n",
    "    \n",
    "    return res\n",
    "\n",
    "# 100 th fibonacci number sum\n",
    "print(fibonacci(50))\n",
    "# known\n",
    "\n",
    "end = time.time()\n",
    "\n",
    "end - start"
   ]
  }
 ],
 "metadata": {
  "kernelspec": {
   "display_name": "Python 3 (ipykernel)",
   "language": "python",
   "name": "python3"
  },
  "language_info": {
   "codemirror_mode": {
    "name": "ipython",
    "version": 3
   },
   "file_extension": ".py",
   "mimetype": "text/x-python",
   "name": "python",
   "nbconvert_exporter": "python",
   "pygments_lexer": "ipython3",
   "version": "3.8.10"
  }
 },
 "nbformat": 4,
 "nbformat_minor": 5
}
