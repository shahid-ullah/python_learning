{
 "cells": [
  {
   "cell_type": "markdown",
   "id": "97c55225-3648-4b93-985e-7eded13978c8",
   "metadata": {},
   "source": [
    "- run()"
   ]
  },
  {
   "cell_type": "code",
   "execution_count": 1,
   "id": "24edfbc5-471d-467f-ad61-4105234898aa",
   "metadata": {},
   "outputs": [],
   "source": [
    "import subprocess"
   ]
  },
  {
   "cell_type": "code",
   "execution_count": 17,
   "id": "40339f81-4e6b-4061-a676-584daf7100ee",
   "metadata": {},
   "outputs": [
    {
     "name": "stdout",
     "output_type": "stream",
     "text": [
      "total 192\n",
      "-rw-rw-r-- 1 shahid shahid  4422 Sep  5 09:20 day 01.ipynb\n",
      "-rw-rw-r-- 1 shahid shahid   274 Sep  5 09:00 day0201.md\n",
      "-rw-rw-r-- 1 shahid shahid 20195 Sep  6 09:56 day 0202.ipynb\n",
      "-rw-rw-r-- 1 shahid shahid 11118 Sep 11 19:54 dict.ipynb\n",
      "-rw-rw-r-- 1 shahid shahid   825 Sep 11 19:54 files.ipynb\n",
      "-rw-rw-r-- 1 shahid shahid 13080 Sep  9 18:04 goodies.ipynb\n",
      "-rw-rw-r-- 1 shahid shahid  9025 Sep 11 19:54 keeping time, scheduling tasks, and lunching programs.ipynb\n",
      "-rw-rw-r-- 1 shahid shahid  5086 Sep  3 15:13 language basics.ipynb\n",
      "-rw-rw-r-- 1 shahid shahid 13214 Sep 11 19:54 list.ipynb\n",
      "-rw-rw-r-- 1 shahid shahid 64709 Sep  3 14:12 python_path.png\n",
      "-rw-rw-r-- 1 shahid shahid 17738 Sep  9 18:04 string.ipynb\n",
      "-rw-rw-r-- 1 shahid shahid  2501 Sep 11 19:58 subprocess.ipynb\n",
      "-rw-rw-r-- 1 shahid shahid   653 Sep  3 21:38 toggle_cell.py\n",
      "\n"
     ]
    },
    {
     "data": {
      "text/plain": [
       "str"
      ]
     },
     "execution_count": 17,
     "metadata": {},
     "output_type": "execute_result"
    }
   ],
   "source": [
    "# output = subprocess.run([\"ls\", \"-l\"])\n",
    "output = subprocess.run([\"ls\", \"-l\"], stdout=subprocess.PIPE)\n",
    "type(output)\n",
    "# print(output)\n",
    "type(output.stdout)\n",
    "result = output.stdout.decode('UTF-8')\n",
    "print(result)\n",
    "type(result)"
   ]
  },
  {
   "cell_type": "code",
   "execution_count": 4,
   "id": "856e6871-0c89-46b4-a915-ced76079c72d",
   "metadata": {},
   "outputs": [
    {
     "name": "stdout",
     "output_type": "stream",
     "text": [
      "CompletedProcess(args=['ls', '-l'], returncode=0)\n"
     ]
    }
   ],
   "source": [
    "type(output)\n",
    "print(output)"
   ]
  },
  {
   "cell_type": "code",
   "execution_count": 21,
   "id": "d99b17b6-55e2-422d-8c8e-9730930215ff",
   "metadata": {},
   "outputs": [
    {
     "name": "stdout",
     "output_type": "stream",
     "text": [
      "Linux\n",
      "5.15.0-46-generic\n"
     ]
    }
   ],
   "source": [
    "output = subprocess.run('uname')\n",
    "output = subprocess.run(['uname', '-r'])"
   ]
  },
  {
   "cell_type": "code",
   "execution_count": 69,
   "id": "454b8164-2ae5-4c66-873d-018f80479deb",
   "metadata": {},
   "outputs": [
    {
     "name": "stdout",
     "output_type": "stream",
     "text": [
      "<subprocess.Popen object at 0x7f21c1cf8340>Linux\n",
      "\n"
     ]
    }
   ],
   "source": [
    "output = subprocess.Popen('uname')\n",
    "# print(type(output))\n",
    "print(output)"
   ]
  },
  {
   "cell_type": "code",
   "execution_count": 74,
   "id": "7c3deb63-b60c-4b07-b639-e1cd7bca7a5b",
   "metadata": {},
   "outputs": [
    {
     "name": "stdout",
     "output_type": "stream",
     "text": [
      "['uname', '-r']\n",
      "<subprocess.Popen object at 0x7f21c1cf8160>\n",
      "5.15.0-46-generic\n",
      "0\n"
     ]
    }
   ],
   "source": [
    "import shlex\n",
    "\n",
    "command = 'uname -r'\n",
    "args = shlex.split(command)\n",
    "print(args)\n",
    "\n",
    "output = subprocess.Popen(args)\n",
    "print(output)\n",
    "code = output.wait()\n",
    "print(code)"
   ]
  },
  {
   "cell_type": "code",
   "execution_count": 77,
   "id": "880b60f1-6c24-40a4-bc46-66cee302e24d",
   "metadata": {},
   "outputs": [
    {
     "name": "stdout",
     "output_type": "stream",
     "text": [
      "total 196\n",
      "-rw-rw-r-- 1 shahid shahid  4422 Sep  5 09:20 day 01.ipynb\n",
      "-rw-rw-r-- 1 shahid shahid   274 Sep  5 09:00 day0201.md\n",
      "-rw-rw-r-- 1 shahid shahid 20195 Sep  6 09:56 day 0202.ipynb\n",
      "-rw-rw-r-- 1 shahid shahid 11118 Sep 11 19:54 dict.ipynb\n",
      "-rw-rw-r-- 1 shahid shahid   825 Sep 11 19:54 files.ipynb\n",
      "-rw-rw-r-- 1 shahid shahid 13080 Sep  9 18:04 goodies.ipynb\n",
      "-rw-rw-r-- 1 shahid shahid  9025 Sep 11 19:54 keeping time, scheduling tasks, and lunching programs.ipynb\n",
      "-rw-rw-r-- 1 shahid shahid  5086 Sep  3 15:13 language basics.ipynb\n",
      "-rw-rw-r-- 1 shahid shahid 13214 Sep 11 19:54 list.ipynb\n",
      "-rw-rw-r-- 1 shahid shahid 64709 Sep  3 14:12 python_path.png\n",
      "-rw-rw-r-- 1 shahid shahid 17738 Sep  9 18:04 string.ipynb\n",
      "-rw-rw-r-- 1 shahid shahid  4289 Sep 11 20:10 subprocess.ipynb\n",
      "-rw-rw-r-- 1 shahid shahid   653 Sep  3 21:38 toggle_cell.py\n",
      "CompletedProcess(args=['ls', '-l'], returncode=0)\n",
      "0\n"
     ]
    }
   ],
   "source": [
    "output = subprocess.run([\"ls\", \"-l\"])\n",
    "print(output)\n",
    "print(output.returncode)"
   ]
  },
  {
   "cell_type": "code",
   "execution_count": 85,
   "id": "d7aa05ec-90b8-4653-9a20-7f75ba5ea279",
   "metadata": {},
   "outputs": [
    {
     "name": "stdout",
     "output_type": "stream",
     "text": [
      ".\n"
     ]
    }
   ],
   "source": [
    "proc = subprocess.Popen([\"ls\", \"-d\"])\n",
    "try:\n",
    "    outs, errs = proc.communicate(timeout=15)\n",
    "except TimeoutExpired:\n",
    "    proc.kill()\n",
    "    outs, errs = proc.communicate()"
   ]
  },
  {
   "cell_type": "code",
   "execution_count": null,
   "id": "4357cb68-c1ab-4c88-a982-fc8e03c71100",
   "metadata": {},
   "outputs": [],
   "source": [
    "# call()\n",
    "# check_call()\n",
    "# check_output()"
   ]
  },
  {
   "cell_type": "code",
   "execution_count": 88,
   "id": "e3ad853c-4346-41a9-ab0e-d208480b7b22",
   "metadata": {},
   "outputs": [
    {
     "name": "stdout",
     "output_type": "stream",
     "text": [
      "total 196\n",
      "-rw-rw-r-- 1 shahid shahid  4422 Sep  5 09:20 day 01.ipynb\n",
      "-rw-rw-r-- 1 shahid shahid   274 Sep  5 09:00 day0201.md\n",
      "-rw-rw-r-- 1 shahid shahid 20195 Sep  6 09:56 day 0202.ipynb\n",
      "-rw-rw-r-- 1 shahid shahid 11118 Sep 11 19:54 dict.ipynb\n",
      "-rw-rw-r-- 1 shahid shahid   825 Sep 11 19:54 files.ipynb\n",
      "-rw-rw-r-- 1 shahid shahid 13080 Sep  9 18:04 goodies.ipynb\n",
      "-rw-rw-r-- 1 shahid shahid  9025 Sep 11 19:54 keeping time, scheduling tasks, and lunching programs.ipynb\n",
      "-rw-rw-r-- 1 shahid shahid  5086 Sep  3 15:13 language basics.ipynb\n",
      "-rw-rw-r-- 1 shahid shahid 13214 Sep 11 19:54 list.ipynb\n",
      "-rw-rw-r-- 1 shahid shahid 64709 Sep  3 14:12 python_path.png\n",
      "-rw-rw-r-- 1 shahid shahid 17738 Sep  9 18:04 string.ipynb\n",
      "-rw-rw-r-- 1 shahid shahid  7762 Sep 11 21:05 subprocess.ipynb\n",
      "-rw-rw-r-- 1 shahid shahid   653 Sep  3 21:38 toggle_cell.py\n",
      "0\n"
     ]
    }
   ],
   "source": [
    "output = subprocess.call(['ls', '-l'])\n",
    "print(output)\n",
    "# output = subprocess.run(['ls', '-l']).returncode"
   ]
  },
  {
   "cell_type": "code",
   "execution_count": 89,
   "id": "b303f6f9-c81a-4443-83bb-bdd5c717df7e",
   "metadata": {},
   "outputs": [
    {
     "name": "stdout",
     "output_type": "stream",
     "text": [
      "total 196\n",
      "-rw-rw-r-- 1 shahid shahid  4422 Sep  5 09:20 day 01.ipynb\n",
      "-rw-rw-r-- 1 shahid shahid   274 Sep  5 09:00 day0201.md\n",
      "-rw-rw-r-- 1 shahid shahid 20195 Sep  6 09:56 day 0202.ipynb\n",
      "-rw-rw-r-- 1 shahid shahid 11118 Sep 11 19:54 dict.ipynb\n",
      "-rw-rw-r-- 1 shahid shahid   825 Sep 11 19:54 files.ipynb\n",
      "-rw-rw-r-- 1 shahid shahid 13080 Sep  9 18:04 goodies.ipynb\n",
      "-rw-rw-r-- 1 shahid shahid  9025 Sep 11 19:54 keeping time, scheduling tasks, and lunching programs.ipynb\n",
      "-rw-rw-r-- 1 shahid shahid  5086 Sep  3 15:13 language basics.ipynb\n",
      "-rw-rw-r-- 1 shahid shahid 13214 Sep 11 19:54 list.ipynb\n",
      "-rw-rw-r-- 1 shahid shahid 64709 Sep  3 14:12 python_path.png\n",
      "-rw-rw-r-- 1 shahid shahid 17738 Sep  9 18:04 string.ipynb\n",
      "-rw-rw-r-- 1 shahid shahid  7985 Sep 11 22:02 subprocess.ipynb\n",
      "-rw-rw-r-- 1 shahid shahid   653 Sep  3 21:38 toggle_cell.py\n"
     ]
    },
    {
     "data": {
      "text/plain": [
       "0"
      ]
     },
     "execution_count": 89,
     "metadata": {},
     "output_type": "execute_result"
    }
   ],
   "source": [
    "subprocess.call('ls -l', shell=True)"
   ]
  },
  {
   "cell_type": "code",
   "execution_count": 90,
   "id": "4070e43c-299c-4303-9d21-04b5e9b4791a",
   "metadata": {},
   "outputs": [
    {
     "name": "stdout",
     "output_type": "stream",
     "text": [
      "day 01.ipynb\n",
      "day0201.md\n",
      "day 0202.ipynb\n",
      "dict.ipynb\n",
      "files.ipynb\n",
      "goodies.ipynb\n",
      "keeping time, scheduling tasks, and lunching programs.ipynb\n",
      "language basics.ipynb\n",
      "list.ipynb\n",
      "python_path.png\n",
      "string.ipynb\n",
      "subprocess.ipynb\n",
      "toggle_cell.py\n"
     ]
    },
    {
     "data": {
      "text/plain": [
       "0"
      ]
     },
     "execution_count": 90,
     "metadata": {},
     "output_type": "execute_result"
    }
   ],
   "source": [
    "subprocess.call(['ls', '-l'], shell=True)"
   ]
  },
  {
   "cell_type": "code",
   "execution_count": null,
   "id": "772d3c6f-6b04-4dd8-b8c8-6908488b165d",
   "metadata": {},
   "outputs": [],
   "source": []
  }
 ],
 "metadata": {
  "kernelspec": {
   "display_name": "Python 3 (ipykernel)",
   "language": "python",
   "name": "python3"
  },
  "language_info": {
   "codemirror_mode": {
    "name": "ipython",
    "version": 3
   },
   "file_extension": ".py",
   "mimetype": "text/x-python",
   "name": "python",
   "nbconvert_exporter": "python",
   "pygments_lexer": "ipython3",
   "version": "3.8.10"
  }
 },
 "nbformat": 4,
 "nbformat_minor": 5
}
