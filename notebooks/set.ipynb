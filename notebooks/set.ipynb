{
 "cells": [
  {
   "cell_type": "code",
   "execution_count": 1,
   "id": "b958c3a9-7c4b-4d94-abc6-78aa1d76eab5",
   "metadata": {},
   "outputs": [],
   "source": [
    "from IPython.core.interactiveshell import InteractiveShell\n",
    "InteractiveShell.ast_node_interactivity = \"all\""
   ]
  },
  {
   "cell_type": "code",
   "execution_count": 5,
   "id": "73dd5b23-d001-4103-9223-5ba7eb2eac69",
   "metadata": {},
   "outputs": [
    {
     "data": {
      "text/plain": [
       "set"
      ]
     },
     "execution_count": 5,
     "metadata": {},
     "output_type": "execute_result"
    },
    {
     "data": {
      "text/plain": [
       "{'apple', 'banana', 'orange', 'pear'}"
      ]
     },
     "execution_count": 5,
     "metadata": {},
     "output_type": "execute_result"
    },
    {
     "data": {
      "text/plain": [
       "{'a', 'd', 'h', 'i', 's'}"
      ]
     },
     "execution_count": 5,
     "metadata": {},
     "output_type": "execute_result"
    }
   ],
   "source": [
    "# set litterals\n",
    "st = {'orange', 'banana', 'pear', 'apple'}\n",
    "type(st)\n",
    "st\n",
    "\n",
    "\n",
    "# st = set('orange', 'banana', 'pear', 'apple')\n",
    "st = set('orange')\n",
    "st = set(['orange', 'banana', 'pear', 'apple'])\n",
    "st = set('shahid')\n",
    "st"
   ]
  },
  {
   "cell_type": "code",
   "execution_count": null,
   "id": "ecbaff8b-2154-40dd-9b84-a62ff0704ece",
   "metadata": {},
   "outputs": [],
   "source": []
  },
  {
   "cell_type": "code",
   "execution_count": 7,
   "id": "11e127de-03d2-473e-87f1-ef64bc320030",
   "metadata": {},
   "outputs": [
    {
     "data": {
      "text/plain": [
       "set"
      ]
     },
     "execution_count": 7,
     "metadata": {},
     "output_type": "execute_result"
    }
   ],
   "source": [
    "st = {} # classical error\n",
    "st = set() # classical error\n",
    "type(st)"
   ]
  },
  {
   "cell_type": "code",
   "execution_count": null,
   "id": "46417638-8acb-40c2-81eb-9d82b9779ebe",
   "metadata": {},
   "outputs": [],
   "source": []
  },
  {
   "cell_type": "code",
   "execution_count": 8,
   "id": "5713949e-ef8e-49bf-a579-2cf7e58a3a4d",
   "metadata": {},
   "outputs": [
    {
     "data": {
      "text/plain": [
       "{'apple', 'banana', 'orange', 'pear'}"
      ]
     },
     "execution_count": 8,
     "metadata": {},
     "output_type": "execute_result"
    }
   ],
   "source": [
    "# one item can be assign only once\n",
    "A = {'apple', 'orange', 'apple', 'pear', 'orange', 'banana'}\n",
    "A"
   ]
  },
  {
   "cell_type": "code",
   "execution_count": null,
   "id": "1298e739-1e06-4bac-ad98-b43ad4d48b11",
   "metadata": {},
   "outputs": [],
   "source": []
  },
  {
   "cell_type": "code",
   "execution_count": 9,
   "id": "1d3b0aca-947a-4c8b-81d6-835d906da005",
   "metadata": {},
   "outputs": [
    {
     "data": {
      "text/plain": [
       "{1, 2, 4}"
      ]
     },
     "execution_count": 9,
     "metadata": {},
     "output_type": "execute_result"
    },
    {
     "data": {
      "text/plain": [
       "{1, 2, 4, 5}"
      ]
     },
     "execution_count": 9,
     "metadata": {},
     "output_type": "execute_result"
    }
   ],
   "source": [
    "# set methods\n",
    "A = {1, 2, 4}\n",
    "A\n",
    "A.add(5)\n",
    "\n",
    "A"
   ]
  },
  {
   "cell_type": "code",
   "execution_count": 11,
   "id": "98398cf1-3fe0-4e70-a9ef-7eb377191636",
   "metadata": {},
   "outputs": [],
   "source": [
    "# A[0]"
   ]
  },
  {
   "cell_type": "code",
   "execution_count": 6,
   "id": "e79c00d9-a189-4133-94c9-4c696fb5edfe",
   "metadata": {},
   "outputs": [],
   "source": [
    "B = {1, 2, 3, 5, 6, 9}"
   ]
  },
  {
   "cell_type": "code",
   "execution_count": 18,
   "id": "44b11326-dcad-4cc2-bb1c-929d1f11fadb",
   "metadata": {},
   "outputs": [],
   "source": [
    "A = {1, 2, 3, 5, 6, 9}"
   ]
  },
  {
   "cell_type": "code",
   "execution_count": 19,
   "id": "1fd462b1-f9bc-4bf3-afd8-d3ad8ccdda77",
   "metadata": {},
   "outputs": [
    {
     "data": {
      "text/plain": [
       "{2, 3, 5, 6, 9}"
      ]
     },
     "execution_count": 19,
     "metadata": {},
     "output_type": "execute_result"
    }
   ],
   "source": [
    "# A.update({5, 9, 0})\n",
    "# A\n",
    "\n",
    "# A.remove(1)\n",
    "# A\n",
    "\n",
    "\n",
    "# A.remove('apple')\n",
    "# A.discard('apple')\n",
    "A.pop()\n",
    "A"
   ]
  },
  {
   "cell_type": "code",
   "execution_count": 60,
   "id": "bb7dd9cc-6f09-48b6-be18-252d2259ca9f",
   "metadata": {},
   "outputs": [],
   "source": [
    "B = {1, 2, 3, 5, 6, 9}"
   ]
  },
  {
   "cell_type": "code",
   "execution_count": 38,
   "id": "8d34656a-f7f2-4273-9a56-08061fa0ab71",
   "metadata": {},
   "outputs": [
    {
     "data": {
      "text/plain": [
       "{1, 2, 3, 5, 6, 9}"
      ]
     },
     "execution_count": 38,
     "metadata": {},
     "output_type": "execute_result"
    },
    {
     "data": {
      "text/plain": [
       "{2, 3, 5, 6, 9}"
      ]
     },
     "execution_count": 38,
     "metadata": {},
     "output_type": "execute_result"
    },
    {
     "data": {
      "text/plain": [
       "set()"
      ]
     },
     "execution_count": 38,
     "metadata": {},
     "output_type": "execute_result"
    }
   ],
   "source": [
    "A.union(B)\n",
    "A.intersection(B)\n",
    "A.difference(B)"
   ]
  },
  {
   "cell_type": "code",
   "execution_count": 39,
   "id": "2343c0f7-2efc-48e5-8904-c0267eca72cd",
   "metadata": {},
   "outputs": [
    {
     "data": {
      "text/plain": [
       "([0, 1, 2, 3, 4, 5, 6, 7, 8, 9], [0, 1, 2, 3, 4, 5, 6, 7, 8, 9])"
      ]
     },
     "execution_count": 39,
     "metadata": {},
     "output_type": "execute_result"
    },
    {
     "data": {
      "text/plain": [
       "{0, 1, 2, 3, 4, 5, 6, 7, 8, 9}"
      ]
     },
     "execution_count": 39,
     "metadata": {},
     "output_type": "execute_result"
    }
   ],
   "source": [
    "## Finding unique items of two list\n",
    "\n",
    "\n",
    "lst1 = [i for i in range(10)]\n",
    "lst2 = [i for i in range(10)]\n",
    "\n",
    "lst1, lst2\n",
    "\n",
    "\n",
    "st = set()\n",
    "\n",
    "st.update(lst1,lst2)\n",
    "\n",
    "# len(st)\n",
    "st\n",
    "# st\n"
   ]
  }
 ],
 "metadata": {
  "kernelspec": {
   "display_name": "Python 3 (ipykernel)",
   "language": "python",
   "name": "python3"
  },
  "language_info": {
   "codemirror_mode": {
    "name": "ipython",
    "version": 3
   },
   "file_extension": ".py",
   "mimetype": "text/x-python",
   "name": "python",
   "nbconvert_exporter": "python",
   "pygments_lexer": "ipython3",
   "version": "3.8.10"
  }
 },
 "nbformat": 4,
 "nbformat_minor": 5
}
