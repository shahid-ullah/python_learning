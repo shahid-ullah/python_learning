{
 "cells": [
  {
   "cell_type": "markdown",
   "id": "3377de5d-915e-40bd-8d74-d114c1a1f8e3",
   "metadata": {},
   "source": [
    "## ভেরিয়েবল, ডেটা টাইপ ও ডেটা ইনপুট\n"
   ]
  },
  {
   "cell_type": "code",
   "execution_count": null,
   "id": "1668a04b-c88f-494c-9b82-db7873dd0d02",
   "metadata": {},
   "outputs": [],
   "source": [
    "# what is variable?\n",
    "# reference or container?"
   ]
  },
  {
   "cell_type": "code",
   "execution_count": 1,
   "id": "8594677e-56be-4354-b21a-330f3ea27016",
   "metadata": {},
   "outputs": [],
   "source": [
    "# what is datatype or why need different datatype?\n",
    "# int, float, str, bool, list, tuple, dict, str"
   ]
  },
  {
   "cell_type": "code",
   "execution_count": null,
   "id": "1c16f559-3500-48e4-b100-6e104142e753",
   "metadata": {},
   "outputs": [],
   "source": [
    "# ডেটা ইনপুট\n",
    " # a = input()"
   ]
  },
  {
   "cell_type": "markdown",
   "id": "3553ba13-6539-45c9-b845-6166f89db491",
   "metadata": {},
   "source": [
    "# টাইপ কাস্টিং বা টাইপ কনভারশন\n",
    "```\n",
    "ফাংশন\tবর্ননা\n",
    "int()\tইন্টিজারে কাস্ট করে\n",
    "float()\tফ্লোটে কাস্ট করে\n",
    "str()\tস্ট্রিংয়ে কাস্ট করে\n",
    "tuple()\tটাপলে কাস্ট করে\n",
    "list()\tলিস্টে কাস্ট করে\n",
    "set()\tসেটে কাস্ট করে\n",
    "dict()\tডিকশনারিতে কাস্ট করে\n",
    "```"
   ]
  },
  {
   "cell_type": "markdown",
   "id": "b2e504d0-b103-49ba-9bf0-1b788e629046",
   "metadata": {},
   "source": [
    "### Operand vs Operator\n",
    "a = 10"
   ]
  },
  {
   "cell_type": "markdown",
   "id": "c715a7f5-7017-428e-8e92-67782b5c8294",
   "metadata": {},
   "source": [
    "### অপারেটর\n",
    "- অ্যারিথমেটিক (Arithmetic) অপারেটর\n",
    "- কমপারিজন (Comparison) অপারেটর -> বুলিয়ান (Boolean)\n",
    "- অ্যাসাইনমেন্ট (Assignment) অপারেটর\n",
    "- লজিকাল (Logical) অপারেটর\n",
    "- মেম্বারশিপ (Membership) অপারেটর\n",
    "- আইডেন্টিটি (Identity) অপারেটর\n",
    "\n",
    "\n"
   ]
  },
  {
   "cell_type": "markdown",
   "id": "95af910c-1e31-48b7-a3fe-009d1bc47e1f",
   "metadata": {},
   "source": [
    "## Arithmetic operator\n",
    "+, -, *, /, %, **, //,"
   ]
  },
  {
   "cell_type": "markdown",
   "id": "2f42c128-6e68-47c0-9230-f4736dabc6a2",
   "metadata": {},
   "source": [
    "```sh\n",
    ">>> 3+2\n",
    "5\n",
    ">>> 10-4\n",
    "6\n",
    ">>> 6*7\n",
    "42\n",
    ">>> 48/3\n",
    "16.0\n",
    ">>> 10%3\n",
    "1\n",
    ">>> 3 ** 2\n",
    "9\n",
    ">>> 5 + (9 * 3)\n",
    "32\n",
    ">>> -13 + 5\n",
    "-8\n",
    ">>> 1.0/2.0\n",
    "0.5\n",
    ">>> 1.0//2.0\n",
    "0.0\n",
    "```"
   ]
  },
  {
   "cell_type": "markdown",
   "id": "56e2923f-947d-4029-bd46-0dcecfbffa4b",
   "metadata": {},
   "source": [
    "## Comparison operator\n",
    "==, !=, >, <, >=, <=\n",
    "```sh\n",
    "    >>> 2 == 2\n",
    "    True\n",
    "    >>> 2 != 2\n",
    "    False\n",
    "    >>> 5 < 3\n",
    "    False\n",
    "    >>> 5 > 3\n",
    "    True\n",
    "    >>> 5 <= 3\n",
    "    False\n",
    "    >>> 5 >= 3\n",
    "    True\n",
    "```"
   ]
  },
  {
   "cell_type": "code",
   "execution_count": null,
   "id": "16ffa161-a018-45e8-b526-2cd3aec6b7b1",
   "metadata": {},
   "outputs": [],
   "source": [
    "## Assignment operator\n",
    "=, +=, -=, *=, /="
   ]
  },
  {
   "cell_type": "code",
   "execution_count": null,
   "id": "cb4d7cae-f515-4bc5-a27f-74da9d450433",
   "metadata": {},
   "outputs": [],
   "source": [
    "## Logical Operator\n",
    "and, or, not"
   ]
  },
  {
   "cell_type": "code",
   "execution_count": null,
   "id": "8d92caf5-2fa1-4b3b-b4be-574bb773f7a6",
   "metadata": {},
   "outputs": [],
   "source": [
    "## Membership Operator\n",
    "in, not in"
   ]
  },
  {
   "cell_type": "markdown",
   "id": "90c01c20-b256-4d6b-bfef-c6d7ff710276",
   "metadata": {},
   "source": [
    "## Identiy operator\n",
    "is, is not"
   ]
  }
 ],
 "metadata": {
  "kernelspec": {
   "display_name": "Python 3 (ipykernel)",
   "language": "python",
   "name": "python3"
  },
  "language_info": {
   "codemirror_mode": {
    "name": "ipython",
    "version": 3
   },
   "file_extension": ".py",
   "mimetype": "text/x-python",
   "name": "python",
   "nbconvert_exporter": "python",
   "pygments_lexer": "ipython3",
   "version": "3.8.10"
  }
 },
 "nbformat": 4,
 "nbformat_minor": 5
}
