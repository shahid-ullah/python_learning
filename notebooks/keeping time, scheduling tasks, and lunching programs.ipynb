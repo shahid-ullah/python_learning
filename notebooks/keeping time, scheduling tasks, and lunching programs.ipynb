{
 "cells": [
  {
   "cell_type": "code",
   "execution_count": 23,
   "id": "a8e0b63d-5881-4953-8c2f-1ce2b713ffb1",
   "metadata": {},
   "outputs": [],
   "source": [
    "from IPython.core.interactiveshell import InteractiveShell\n",
    "InteractiveShell.ast_node_interactivity = 'all'"
   ]
  },
  {
   "cell_type": "markdown",
   "id": "1fb2ab00-4a1d-4140-8cdf-b3161564f8ba",
   "metadata": {},
   "source": [
    "- the time module\n",
    "    - time.time()\n",
    "    - time.sleep()\n",
    "- The datetime module\n",
    "- Multithreading\n",
    "- Practice projects "
   ]
  },
  {
   "cell_type": "code",
   "execution_count": 6,
   "id": "86833e73-4f59-4852-a98a-8c66398f805c",
   "metadata": {},
   "outputs": [],
   "source": [
    "import time\n",
    "\n",
    "def print_hello():\n",
    "    print('Hello world')\n",
    "    \n",
    "# while True:\n",
    "#     print_hello()\n",
    "#     time.sleep(1)\n",
    "    "
   ]
  },
  {
   "cell_type": "code",
   "execution_count": 4,
   "id": "31920a19-eb58-46ea-b475-2a061d6faeb3",
   "metadata": {},
   "outputs": [
    {
     "data": {
      "text/plain": [
       "1662798721.6386533"
      ]
     },
     "execution_count": 4,
     "metadata": {},
     "output_type": "execute_result"
    }
   ],
   "source": [
    "time.time()"
   ]
  },
  {
   "cell_type": "code",
   "execution_count": 18,
   "id": "8a6600b0-e5cf-43c9-87b6-c9d74b42b360",
   "metadata": {},
   "outputs": [
    {
     "name": "stdout",
     "output_type": "stream",
     "text": [
      "The result is 456569 digits long.\n",
      "Took 1.8392751216888428 seconds to calculate.\n"
     ]
    }
   ],
   "source": [
    "def calcProd():\n",
    "    # calculate the product of the first 10000 numbers\n",
    "    product = 1\n",
    "    for i in range(1, 100000):\n",
    "        product = product * i\n",
    "    return product\n",
    "\n",
    "startTime = time.time()\n",
    "prod = calcProd()\n",
    "endTime = time.time()\n",
    "print('The result is %s digits long.' % (len(str(prod))))\n",
    "print('Took %s seconds to calculate.' % (endTime - startTime))"
   ]
  },
  {
   "cell_type": "code",
   "execution_count": 24,
   "id": "b60af1fd-93b6-42b4-825e-857aa859efc3",
   "metadata": {},
   "outputs": [
    {
     "name": "stdout",
     "output_type": "stream",
     "text": [
      "Tick\n",
      "Tock\n",
      "Tick\n",
      "Tock\n",
      "Tick\n",
      "Tock\n"
     ]
    }
   ],
   "source": [
    "# time.sleep()\n",
    "for i in range(3):\n",
    "    print('Tick')\n",
    "    time.sleep(1)\n",
    "    print('Tock')\n",
    "    time.sleep(1)"
   ]
  },
  {
   "cell_type": "code",
   "execution_count": 25,
   "id": "4481cc1e-704b-4d91-847e-3a90af8b051b",
   "metadata": {},
   "outputs": [
    {
     "data": {
      "text/plain": [
       "1662800888.770305"
      ]
     },
     "execution_count": 25,
     "metadata": {},
     "output_type": "execute_result"
    },
    {
     "data": {
      "text/plain": [
       "1662800888.77"
      ]
     },
     "execution_count": 25,
     "metadata": {},
     "output_type": "execute_result"
    },
    {
     "data": {
      "text/plain": [
       "1662800888.7703"
      ]
     },
     "execution_count": 25,
     "metadata": {},
     "output_type": "execute_result"
    },
    {
     "data": {
      "text/plain": [
       "1662800889"
      ]
     },
     "execution_count": 25,
     "metadata": {},
     "output_type": "execute_result"
    }
   ],
   "source": [
    "# Rounding numbers\n",
    "now = time.time()\n",
    "now\n",
    "\n",
    "round(now, 2)\n",
    "round(now, 4)\n",
    "round(now)"
   ]
  },
  {
   "cell_type": "code",
   "execution_count": 27,
   "id": "f77efb5e-b7a2-4b7f-a1a3-ba9986aed313",
   "metadata": {},
   "outputs": [
    {
     "name": "stdout",
     "output_type": "stream",
     "text": [
      "Press ENTER to begin. Afterwards, press ENTER to \"click\" the stopwatch. Press Ctrl-C to quit.\n"
     ]
    },
    {
     "name": "stdin",
     "output_type": "stream",
     "text": [
      " \n"
     ]
    },
    {
     "data": {
      "text/plain": [
       "''"
      ]
     },
     "execution_count": 27,
     "metadata": {},
     "output_type": "execute_result"
    },
    {
     "name": "stdout",
     "output_type": "stream",
     "text": [
      "Started.\n"
     ]
    }
   ],
   "source": [
    "# stopwatch.py\n",
    "# Display the program's instructions.\n",
    "print('Press ENTER to begin. Afterwards, press ENTER to \"click\" the stopwatch. Press Ctrl-C to quit.')\n",
    "input()\n",
    "# press Enter to begin\n",
    "print('Started.')\n",
    "startTime = time.time()\n",
    "# get the first lap's start time\n",
    "lastTime = startTime\n",
    "lapNum = 1"
   ]
  },
  {
   "cell_type": "code",
   "execution_count": 2,
   "id": "a6ea6b5d-f562-486e-ad9e-bfb0b244034d",
   "metadata": {},
   "outputs": [],
   "source": [
    "from datetime import datetime\n",
    "import time\n",
    "\n",
    "def func():\n",
    "    print('Hello everyone')\n",
    "    \n",
    "current_second = datetime.now().second\n",
    "next_call = current_second + 5\n",
    "# while True:\n",
    "#     current_second = datetime.now().second\n",
    "#     time.sleep(5)\n",
    "#     if current_second >= next_call:\n",
    "#         next_call = current_second + 5\n",
    "#         func()\n",
    "        "
   ]
  },
  {
   "cell_type": "code",
   "execution_count": 4,
   "id": "4ee40359-4584-4ba8-8a8c-41872786b270",
   "metadata": {},
   "outputs": [],
   "source": [
    "# Pausing until a specific time\n",
    "import datetime\n",
    "import time\n",
    "halloween2016 = datetime.datetime(2016, 10, 31, 0, 0, 0)\n",
    "while datetime.datetime.now() < halloween2016:\n",
    "    time.sleep(1)"
   ]
  },
  {
   "cell_type": "code",
   "execution_count": 5,
   "id": "5db615bc-8416-4ecd-8760-f21957cfdac4",
   "metadata": {},
   "outputs": [
    {
     "data": {
      "text/plain": [
       "\"October of '15\""
      ]
     },
     "execution_count": 5,
     "metadata": {},
     "output_type": "execute_result"
    }
   ],
   "source": [
    "# Converting datetime objects into strings\n",
    "oct21st = datetime.datetime(2015, 10, 21, 16, 29, 0)\n",
    "oct21st.strftime('%Y/%m/%d %H:%M:%S')\n",
    "oct21st.strftime('%I:%M %p')\n",
    "oct21st.strftime(\"%B of '%y\")"
   ]
  },
  {
   "cell_type": "code",
   "execution_count": 6,
   "id": "33bfc454-acd1-4467-bea1-4a6fc527fb97",
   "metadata": {},
   "outputs": [
    {
     "data": {
      "text/plain": [
       "datetime.datetime(2063, 11, 1, 0, 0)"
      ]
     },
     "execution_count": 6,
     "metadata": {},
     "output_type": "execute_result"
    }
   ],
   "source": [
    "# Converting strings into datetime objects\n",
    "datetime.datetime.strptime('October 21, 2015', '%B %d, %Y')\n",
    "datetime.datetime.strptime('2015/10/21 16:29:00', '%Y/%m/%d %H:%M:%S')\n",
    "datetime.datetime.strptime(\"October of '15\", \"%B of '%y\")\n",
    "datetime.datetime.strptime(\"November of '63\", \"%B of '%y\")"
   ]
  },
  {
   "cell_type": "code",
   "execution_count": 3,
   "id": "9f7d7f41-0ab7-42e8-adb5-606470882af0",
   "metadata": {},
   "outputs": [
    {
     "name": "stdout",
     "output_type": "stream",
     "text": [
      "Start of program.\n",
      "End of program.\n"
     ]
    }
   ],
   "source": [
    "# Multithreading\n",
    "# by default python programs have a \n",
    "# single thread of excution.\n",
    "import threading, time\n",
    "print('Start of program.')\n",
    "def takeANap():\n",
    "# while True:\n",
    "    time.sleep(2)\n",
    "    print('Wake up!')\n",
    "    takeANap()\n",
    "    \n",
    "def takeANap2():\n",
    "# while True:\n",
    "    time.sleep(2)\n",
    "    print('Wake up again!')\n",
    "    takeANap2()\n",
    "    \n",
    "# threadObj = threading.Thread(target=takeANap)\n",
    "# threadObj2 = threading.Thread(target=takeANap2)\n",
    "# threadObj.start()\n",
    "# threadObj2.start()\n",
    "print('End of program.')"
   ]
  },
  {
   "cell_type": "code",
   "execution_count": 4,
   "id": "94845856-831b-4afc-a29f-8d5977307c97",
   "metadata": {},
   "outputs": [
    {
     "name": "stdout",
     "output_type": "stream",
     "text": [
      "Cats & Dogs & Frogs\n"
     ]
    }
   ],
   "source": [
    "# Passing arguments to the Thread's Target function\n",
    "import threading\n",
    "threadObj = threading.Thread(target=print, args=['Cats', 'Dogs', 'Frogs'], kwargs={'sep': ' & '})\n",
    "threadObj.start()"
   ]
  }
 ],
 "metadata": {
  "kernelspec": {
   "display_name": "Python 3 (ipykernel)",
   "language": "python",
   "name": "python3"
  },
  "language_info": {
   "codemirror_mode": {
    "name": "ipython",
    "version": 3
   },
   "file_extension": ".py",
   "mimetype": "text/x-python",
   "name": "python",
   "nbconvert_exporter": "python",
   "pygments_lexer": "ipython3",
   "version": "3.8.10"
  }
 },
 "nbformat": 4,
 "nbformat_minor": 5
}
