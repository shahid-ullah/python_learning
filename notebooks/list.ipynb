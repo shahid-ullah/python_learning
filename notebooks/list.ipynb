{
 "cells": [
  {
   "cell_type": "code",
   "execution_count": 2,
   "id": "789c9b2c-9e46-434e-a14f-d76c770a6d7b",
   "metadata": {},
   "outputs": [],
   "source": [
    "# from IPython.core.interactiveshell import InteractiveShell\n",
    "# InteractiveShell.ast_node_interactivity = \"all\""
   ]
  },
  {
   "cell_type": "markdown",
   "id": "0f68b5d1-7bc1-4593-a224-da260b819c9d",
   "metadata": {},
   "source": [
    "- A list is a sequence\n",
    "    - Nested list\n",
    "- List are mutable\n",
    "- Traversing a list\n",
    "- List operations\n",
    "- List slices\n",
    "- List methods\n",
    "- Map, filter and Reduce\n",
    "- Deleting elements\n",
    "- List and Strings\n",
    "- Objects and values\n",
    "- List arguments"
   ]
  },
  {
   "cell_type": "markdown",
   "id": "698834ba-f665-4cd1-a645-2f3a8ba1a187",
   "metadata": {},
   "source": [
    "List is a sequence of values/elements/items.\n",
    "list element can be anything."
   ]
  },
  {
   "cell_type": "code",
   "execution_count": 5,
   "id": "93465bbf-f4f1-482c-a4c0-e0504779f722",
   "metadata": {
    "jupyter": {
     "source_hidden": true
    }
   },
   "outputs": [
    {
     "data": {
      "text/plain": [
       "['Apple', 2, 'Mango', 4.5]"
      ]
     },
     "execution_count": 5,
     "metadata": {},
     "output_type": "execute_result"
    }
   ],
   "source": [
    "# list generate literals\n",
    "# [] or list constructor\n",
    "lst = [1, 2, 3, 4]\n",
    "lst\n",
    "\n",
    "lst = ['Apple', 2, 'Mango', 4.5]\n",
    "lst\n",
    "\n",
    "# empty list\n",
    "lst = [] "
   ]
  },
  {
   "cell_type": "code",
   "execution_count": null,
   "id": "b587fd8b-0967-4de3-bd95-61e8fdaeff28",
   "metadata": {
    "jupyter": {
     "source_hidden": true
    }
   },
   "outputs": [],
   "source": [
    "# Accessing list element"
   ]
  },
  {
   "cell_type": "code",
   "execution_count": 6,
   "id": "a4114ca7-6c57-4e65-9ae0-2e34a1e4f4f4",
   "metadata": {
    "jupyter": {
     "source_hidden": true
    }
   },
   "outputs": [
    {
     "data": {
      "text/plain": [
       "['wheat', 2, 'Mango', 4.5]"
      ]
     },
     "execution_count": 6,
     "metadata": {},
     "output_type": "execute_result"
    }
   ],
   "source": [
    "# list is mutable\n",
    "lst = ['Apple', 2, 'Mango', 4.5]\n",
    "lst[0] = 'wheat'\n",
    "lst"
   ]
  },
  {
   "cell_type": "code",
   "execution_count": 7,
   "id": "94d79570-a0b7-4d15-9cab-d4a977ba0d24",
   "metadata": {
    "jupyter": {
     "source_hidden": true
    },
    "tags": []
   },
   "outputs": [
    {
     "name": "stdout",
     "output_type": "stream",
     "text": [
      "1\n",
      "2\n",
      "3\n",
      "[2, 4, 6]\n"
     ]
    }
   ],
   "source": [
    "# Traversing a list\n",
    "numbers = [1, 2, 3]\n",
    "\n",
    "for num in numbers:\n",
    "    print(num)\n",
    "\n",
    "\n",
    "for i in range(len(numbers)):\n",
    "    numbers[i] = numbers[i] * 2\n",
    "print(numbers)"
   ]
  },
  {
   "cell_type": "code",
   "execution_count": 11,
   "id": "8a6be65e-7915-4cfd-9475-272a163d4b11",
   "metadata": {
    "jupyter": {
     "source_hidden": true
    }
   },
   "outputs": [
    {
     "name": "stdout",
     "output_type": "stream",
     "text": [
      "[1, 2, 3, [4, 5], 6]\n",
      "[4, 5]\n"
     ]
    }
   ],
   "source": [
    "# nested list\n",
    "nested_number_list = [1, 2, 3, [4, 5], 6]\n",
    "print(nested_number_list)\n",
    "\n",
    "# counts nested element as a single element\n",
    "print(nested_number_list[3])"
   ]
  },
  {
   "cell_type": "code",
   "execution_count": 14,
   "id": "60efcbec-aad3-47fd-85ee-88c35dfa5b91",
   "metadata": {
    "jupyter": {
     "source_hidden": true
    }
   },
   "outputs": [
    {
     "name": "stdout",
     "output_type": "stream",
     "text": [
      "[1, 2, 3, 4, 5, 6]\n"
     ]
    },
    {
     "data": {
      "text/plain": [
       "[1, 2, 3, 1, 2, 3, 1, 2, 3, 1, 2, 3]"
      ]
     },
     "execution_count": 14,
     "metadata": {},
     "output_type": "execute_result"
    }
   ],
   "source": [
    "# List operations\n",
    "# +  operator\n",
    "a = [1, 2, 3]\n",
    "b = [4, 5, 6]\n",
    "\n",
    "c = a + b\n",
    "print(c)\n",
    "# *  operator\n",
    "a = [1, 2, 3]\n",
    "a * 4\n",
    "\n"
   ]
  },
  {
   "cell_type": "code",
   "execution_count": 18,
   "id": "73d6f167-4663-4567-b64e-369f72b455a4",
   "metadata": {
    "jupyter": {
     "source_hidden": true
    }
   },
   "outputs": [
    {
     "name": "stdout",
     "output_type": "stream",
     "text": [
      "['a', 'x', 'y', 'd', 'e', 'f']\n"
     ]
    }
   ],
   "source": [
    "# List slicing\n",
    "t = ['a', 'b', 'c', 'd', 'e', 'f']\n",
    "# t[1:3]\n",
    "# t[:4]\n",
    "# t[3:]\n",
    "\n",
    "# update elements\n",
    "t = ['a', 'b', 'c', 'd', 'e', 'f']\n",
    "t[1:3] = ['x', 'y']\n",
    "print(t)"
   ]
  },
  {
   "cell_type": "code",
   "execution_count": 24,
   "id": "8449d389-d3d1-42d4-8a7a-fdd1b20a4f42",
   "metadata": {
    "jupyter": {
     "source_hidden": true
    }
   },
   "outputs": [
    {
     "data": {
      "text/plain": [
       "[1, 2, 2, 3, 5]"
      ]
     },
     "execution_count": 24,
     "metadata": {},
     "output_type": "execute_result"
    }
   ],
   "source": [
    "# List methods\n",
    "t = ['a', 'b', 'c']\n",
    "t\n",
    "t.append('d')\n",
    "t\n",
    "\n",
    "\n",
    "t1 = ['a', 'b', 'c']\n",
    "t2 = ['d', 'e']\n",
    "t1.extend(t2)\n",
    "t1\n",
    "\n",
    "\n",
    "# Most List operations modify the list inline\n",
    "\n",
    "numbers = [1, 3, 2, 5, 2]\n",
    "numbers.sort()\n",
    "numbers"
   ]
  },
  {
   "cell_type": "code",
   "execution_count": 34,
   "id": "f4881a8c-4144-45a3-869e-472fc026d147",
   "metadata": {
    "jupyter": {
     "source_hidden": true
    }
   },
   "outputs": [
    {
     "data": {
      "text/plain": [
       "['a', 'f']"
      ]
     },
     "execution_count": 34,
     "metadata": {},
     "output_type": "execute_result"
    }
   ],
   "source": [
    "# Deleting elements\n",
    "\n",
    "# 1. using pop method\n",
    "t = ['a', 'b', 'c']\n",
    "# x = t.pop(0)\n",
    "# t\n",
    "# x = t.pop()\n",
    "# t\n",
    "\n",
    "# using del keyword\n",
    "# del t[1]\n",
    "\n",
    "# using remove method\n",
    "t.remove('b')\n",
    "t\n",
    "\n",
    "# using slice and del keyword\n",
    "t = ['a', 'b', 'c', 'd', 'e', 'f']\n",
    "del t[1:5]\n",
    "t"
   ]
  },
  {
   "cell_type": "code",
   "execution_count": 35,
   "id": "066acfde-5cbc-4e42-9bdd-cb5e4146f0c3",
   "metadata": {
    "jupyter": {
     "source_hidden": true
    }
   },
   "outputs": [
    {
     "data": {
      "text/plain": [
       "['s', 'p', 'a', 'm']"
      ]
     },
     "execution_count": 35,
     "metadata": {},
     "output_type": "execute_result"
    }
   ],
   "source": [
    "# List and strings\n",
    "\n",
    "# string to list of character\n",
    "s = 'spam'\n",
    "t = list(s)\n",
    "t"
   ]
  }
 ],
 "metadata": {
  "kernelspec": {
   "display_name": "Python 3 (ipykernel)",
   "language": "python",
   "name": "python3"
  },
  "language_info": {
   "codemirror_mode": {
    "name": "ipython",
    "version": 3
   },
   "file_extension": ".py",
   "mimetype": "text/x-python",
   "name": "python",
   "nbconvert_exporter": "python",
   "pygments_lexer": "ipython3",
   "version": "3.8.10"
  }
 },
 "nbformat": 4,
 "nbformat_minor": 5
}
