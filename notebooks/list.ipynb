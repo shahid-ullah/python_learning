{
 "cells": [
  {
   "cell_type": "code",
   "execution_count": 60,
   "id": "789c9b2c-9e46-434e-a14f-d76c770a6d7b",
   "metadata": {},
   "outputs": [],
   "source": [
    "from IPython.core.interactiveshell import InteractiveShell\n",
    "InteractiveShell.ast_node_interactivity = \"all\""
   ]
  },
  {
   "cell_type": "markdown",
   "id": "0f68b5d1-7bc1-4593-a224-da260b819c9d",
   "metadata": {},
   "source": [
    "- A list is a sequence\n",
    "    - Nested list\n",
    "- List are mutable\n",
    "- Traversing a list\n",
    "- List operations\n",
    "- List slices\n",
    "- List methods\n",
    "- Map, filter and Reduce\n",
    "- Deleting elements\n",
    "- List and Strings\n",
    "- Objects and values\n",
    "- List arguments"
   ]
  },
  {
   "cell_type": "markdown",
   "id": "698834ba-f665-4cd1-a645-2f3a8ba1a187",
   "metadata": {},
   "source": [
    "List is a sequence of values/elements/items.\n",
    "list element can be anything."
   ]
  },
  {
   "cell_type": "code",
   "execution_count": 3,
   "id": "3a7e803a-4a5f-4c6c-8aa8-c45e7d8f139a",
   "metadata": {
    "tags": []
   },
   "outputs": [
    {
     "data": {
      "text/plain": [
       "[1, 2, 3, 4]"
      ]
     },
     "execution_count": 3,
     "metadata": {},
     "output_type": "execute_result"
    },
    {
     "data": {
      "text/plain": [
       "['Apple', 2, 'Mango', 4.5]"
      ]
     },
     "execution_count": 3,
     "metadata": {},
     "output_type": "execute_result"
    }
   ],
   "source": [
    "# list generate literals\n",
    "\n",
    "# [] or list constructor\n",
    "lst = [1, 2, 3, 4]\n",
    "lst\n",
    "\n",
    "lst = ['Apple', 2, 'Mango', 4.5] # list can contain any datatype\n",
    "lst\n",
    "\n",
    "# empty list\n",
    "lst = [] "
   ]
  },
  {
   "cell_type": "code",
   "execution_count": 12,
   "id": "b587fd8b-0967-4de3-bd95-61e8fdaeff28",
   "metadata": {},
   "outputs": [
    {
     "data": {
      "text/plain": [
       "5"
      ]
     },
     "execution_count": 12,
     "metadata": {},
     "output_type": "execute_result"
    },
    {
     "data": {
      "text/plain": [
       "3"
      ]
     },
     "execution_count": 12,
     "metadata": {},
     "output_type": "execute_result"
    },
    {
     "data": {
      "text/plain": [
       "[1, 3, 5]"
      ]
     },
     "execution_count": 12,
     "metadata": {},
     "output_type": "execute_result"
    },
    {
     "data": {
      "text/plain": [
       "[5, 3, 1]"
      ]
     },
     "execution_count": 12,
     "metadata": {},
     "output_type": "execute_result"
    }
   ],
   "source": [
    "# Accessing list element\n",
    "# [] bracket operator/indexing\n",
    "\n",
    "lst = [1, 3, 5]\n",
    "lst[2]\n",
    "# in operator\n",
    "# for item in lst:\n",
    "#     item\n",
    "    \n",
    "    \n",
    "# slice operator [start:end:step]\n",
    "\n",
    "lst[-2]\n",
    "lst[::1]\n",
    "lst[::-1]\n"
   ]
  },
  {
   "cell_type": "code",
   "execution_count": 17,
   "id": "a4114ca7-6c57-4e65-9ae0-2e34a1e4f4f4",
   "metadata": {},
   "outputs": [
    {
     "data": {
      "text/plain": [
       "['Apple', 2, 'Mango', 4.5]"
      ]
     },
     "execution_count": 17,
     "metadata": {},
     "output_type": "execute_result"
    }
   ],
   "source": [
    "# list is mutable\n",
    "lst = ['Apple', 2, 'Mango', 4.5]\n",
    "lst\n",
    "# lst[2] = 'something'\n",
    "# lst[2] = lst[3]\n",
    "# lst\n",
    "\n",
    "# When the bracket operator appears on the left side of \n",
    "# an assignment, it identifies the element of the list \n",
    "# that will be assigned.\n",
    "# lst[0] = 'wheat'\n",
    "# lst\n",
    "\n",
    "# a = 'abc'\n",
    "# b = 'def'\n",
    "# a + b"
   ]
  },
  {
   "cell_type": "code",
   "execution_count": 25,
   "id": "94d79570-a0b7-4d15-9cab-d4a977ba0d24",
   "metadata": {
    "tags": []
   },
   "outputs": [
    {
     "data": {
      "text/plain": [
       "1"
      ]
     },
     "execution_count": 25,
     "metadata": {},
     "output_type": "execute_result"
    },
    {
     "data": {
      "text/plain": [
       "2"
      ]
     },
     "execution_count": 25,
     "metadata": {},
     "output_type": "execute_result"
    },
    {
     "data": {
      "text/plain": [
       "3"
      ]
     },
     "execution_count": 25,
     "metadata": {},
     "output_type": "execute_result"
    }
   ],
   "source": [
    "# Traversing a list\n",
    "numbers = [1, 2, 3]\n",
    "\n",
    "# for num in numbers:\n",
    "#     print(num)\n",
    "\n",
    "# if we need to write or update the elements\n",
    "# we need indices\n",
    "\n",
    "number_of_items = len(numbers)\n",
    "\n",
    "for i in range(number_of_items):\n",
    "    # numbers[i] = numbers[i] * 2\n",
    "    numbers[i]\n",
    "# print(numbers)\n",
    "# len(numbers)\n",
    "\n",
    "# for i in range(5):\n",
    "#     i\n",
    "\n",
    "# range(5)"
   ]
  },
  {
   "cell_type": "code",
   "execution_count": 28,
   "id": "8a6be65e-7915-4cfd-9475-272a163d4b11",
   "metadata": {},
   "outputs": [
    {
     "name": "stdout",
     "output_type": "stream",
     "text": [
      "[4, 5]\n",
      "4\n"
     ]
    }
   ],
   "source": [
    "# nested list\n",
    "nested_number_list = [1, 2, 3, [4, 5], 6]\n",
    "# print(nested_number_list)\n",
    "\n",
    "# counts nested list as a single element\n",
    "print(nested_number_list[3])\n",
    "print(nested_number_list[3][0])\n"
   ]
  },
  {
   "cell_type": "code",
   "execution_count": 31,
   "id": "60efcbec-aad3-47fd-85ee-88c35dfa5b91",
   "metadata": {},
   "outputs": [
    {
     "name": "stdout",
     "output_type": "stream",
     "text": [
      "[1, 2, 3, 4, 5, 6]\n"
     ]
    },
    {
     "data": {
      "text/plain": [
       "[1, 2, 3, 1, 2, 3, 1, 2, 3, 1, 2, 3]"
      ]
     },
     "execution_count": 31,
     "metadata": {},
     "output_type": "execute_result"
    }
   ],
   "source": [
    "# List operations\n",
    "# +  operator\n",
    "a = [1, 2, 3]\n",
    "b = [4, 5, 6]\n",
    "\n",
    "c = a + b\n",
    "print(c)\n",
    "# *  operator\n",
    "a = [1, 2, 3]\n",
    "a * 4\n",
    "\n"
   ]
  },
  {
   "cell_type": "code",
   "execution_count": 39,
   "id": "73d6f167-4663-4567-b64e-369f72b455a4",
   "metadata": {},
   "outputs": [
    {
     "name": "stdout",
     "output_type": "stream",
     "text": [
      "['a', 'something1', 'd', 'e', 'f']\n"
     ]
    }
   ],
   "source": [
    "# List slicing\n",
    "t = ['a', 'b', 'c', 'd', 'e', 'f']\n",
    "# t[1:3]\n",
    "# t[:4]\n",
    "# t[3:]\n",
    "\n",
    "# update elements\n",
    "t = ['a', 'b', 'c', 'd', 'e', 'f']\n",
    "# t[1:3] = ['something1', 'something2', 'something3']\n",
    "t[1:3] = ['something1']\n",
    "# t[1:3]\n",
    "print(t)"
   ]
  },
  {
   "cell_type": "code",
   "execution_count": 62,
   "id": "8449d389-d3d1-42d4-8a7a-fdd1b20a4f42",
   "metadata": {},
   "outputs": [
    {
     "data": {
      "text/plain": [
       "['a', 'b', 'c', 'd', 'e']"
      ]
     },
     "execution_count": 62,
     "metadata": {},
     "output_type": "execute_result"
    },
    {
     "data": {
      "text/plain": [
       "[1, 2, 2, 3, 5]"
      ]
     },
     "execution_count": 62,
     "metadata": {},
     "output_type": "execute_result"
    }
   ],
   "source": [
    "# List methods\n",
    "t = ['a', 'b', 'c']\n",
    "# t\n",
    "t = t.append('d')\n",
    "t\n",
    "# print(r)\n",
    "\n",
    "\n",
    "\n",
    "t1 = ['a', 'b', 'c']\n",
    "t2 = ['d', 'e']\n",
    "\n",
    "\n",
    "t1.extend(t2)\n",
    "t1\n",
    "\n",
    "\n",
    "# Most List operations modify the list inline\n",
    "\n",
    "numbers = [1, 3, 2, 5, 2]\n",
    "numbers.sort()\n",
    "numbers"
   ]
  },
  {
   "cell_type": "code",
   "execution_count": 66,
   "id": "cabb8b2f-eee7-4627-83f9-41aa18bba827",
   "metadata": {},
   "outputs": [
    {
     "data": {
      "text/plain": [
       "5"
      ]
     },
     "execution_count": 66,
     "metadata": {},
     "output_type": "execute_result"
    }
   ],
   "source": [
    "# Map, Filter and Reduce\n",
    "\n",
    "\n",
    "def add_all(t): # this type of method is sometimes called reduce\n",
    "    total = 0 # accumulator\n",
    "    for x in t:\n",
    "        total += x # += augmented assignment statement.\n",
    "    return total\n",
    "\n",
    "t = [1, 2, 3, 4, 5]\n",
    "# add_all(t[1:3])\n",
    "sum(t[1:3])\n",
    "\n",
    "# t[1:5]\n"
   ]
  },
  {
   "cell_type": "code",
   "execution_count": 68,
   "id": "db525bd1-9621-4fbd-a545-7b8d361ebc40",
   "metadata": {},
   "outputs": [
    {
     "data": {
      "text/plain": [
       "'SHAHID'"
      ]
     },
     "execution_count": 68,
     "metadata": {},
     "output_type": "execute_result"
    }
   ],
   "source": [
    "# this type of method is called map\n",
    "def capitalize_all(t):\n",
    "    # res = []\n",
    "    res = ''\n",
    "    for s in t:\n",
    "        # res.append(s.capitalize())\n",
    "        res = res + s.capitalize()\n",
    "    return res\n",
    "\n",
    "st = 'shahid'\n",
    "\n",
    "capitalize_all(st)"
   ]
  },
  {
   "cell_type": "code",
   "execution_count": 69,
   "id": "5576a88b-ee8c-4b5b-8653-efcb06f57ee5",
   "metadata": {},
   "outputs": [
    {
     "data": {
      "text/plain": [
       "['B', 'L']"
      ]
     },
     "execution_count": 69,
     "metadata": {},
     "output_type": "execute_result"
    }
   ],
   "source": [
    "# this type of method is called filter\n",
    "\n",
    "def only_upper(t):\n",
    "    res = []\n",
    "    for s in t:\n",
    "        if s.isupper():\n",
    "            res.append(s);\n",
    "    return res\n",
    "\n",
    "st = 'BangLadesh'\n",
    "\n",
    "only_upper(st)"
   ]
  },
  {
   "cell_type": "code",
   "execution_count": 85,
   "id": "f4881a8c-4144-45a3-869e-472fc026d147",
   "metadata": {
    "tags": []
   },
   "outputs": [
    {
     "data": {
      "text/plain": [
       "['b', 'c']"
      ]
     },
     "execution_count": 85,
     "metadata": {},
     "output_type": "execute_result"
    },
    {
     "data": {
      "text/plain": [
       "['a', 'f']"
      ]
     },
     "execution_count": 85,
     "metadata": {},
     "output_type": "execute_result"
    }
   ],
   "source": [
    "# Deleting elements\n",
    "\n",
    "# 1. using pop method\n",
    "t = ['a', 'b', 'c']\n",
    "# t.pop(0)\n",
    "# t\n",
    "# x = t.pop()\n",
    "# t\n",
    "\n",
    "# using del keyword\n",
    "del t[0]\n",
    "\n",
    "# using remove method\n",
    "# t.remove('b')\n",
    "t\n",
    "\n",
    "# # using slice and del keyword\n",
    "t = ['a', 'b', 'c', 'd', 'e', 'f']\n",
    "del t[1:5]\n",
    "t"
   ]
  },
  {
   "cell_type": "code",
   "execution_count": 90,
   "id": "066acfde-5cbc-4e42-9bdd-cb5e4146f0c3",
   "metadata": {},
   "outputs": [
    {
     "data": {
      "text/plain": [
       "['s', 'p', 'a', 'm', ' ', 's', 'o', 'm', 'e']"
      ]
     },
     "execution_count": 90,
     "metadata": {},
     "output_type": "execute_result"
    },
    {
     "data": {
      "text/plain": [
       "['Bangladesh', 'is', 'a', 'small', 'country']"
      ]
     },
     "execution_count": 90,
     "metadata": {},
     "output_type": "execute_result"
    },
    {
     "data": {
      "text/plain": [
       "'Bangladesh is a small country'"
      ]
     },
     "execution_count": 90,
     "metadata": {},
     "output_type": "execute_result"
    }
   ],
   "source": [
    "# List and strings\n",
    "\n",
    "# string to list of character\n",
    "s = 'spam some'\n",
    "t = list(s) # breaks a string into individual letters\n",
    "t\n",
    "\n",
    "st = 'Bangladesh is a small country'\n",
    "st.split() # Breaks string into words\n",
    "\n",
    "\n",
    "lst = ['Bangladesh', 'is', 'a', 'small', 'country']\n",
    "\n",
    "' '.join(lst)"
   ]
  },
  {
   "cell_type": "code",
   "execution_count": 11,
   "id": "0aeaf6af-8ab2-4c6c-8cf8-02a725f9b0d5",
   "metadata": {},
   "outputs": [
    {
     "data": {
      "text/plain": [
       "['b', 'c']"
      ]
     },
     "execution_count": 11,
     "metadata": {},
     "output_type": "execute_result"
    }
   ],
   "source": [
    "# List as arguments\n",
    "# Be careful when pass mutable object as parameter/parameters\n",
    "\n",
    "def delete_head(t):\n",
    "    del t[0]\n",
    "\n",
    "letters = ['a', 'b', 'c']\n",
    "\n",
    "delete_head(letters)\n",
    "letters\n"
   ]
  },
  {
   "cell_type": "code",
   "execution_count": 91,
   "id": "9280ca73-6ece-4889-a32e-2111ca7cdb83",
   "metadata": {},
   "outputs": [],
   "source": [
    "\n",
    "t1 = [1, 2, 3]\n",
    "# t2 = t1.append(4)\n",
    "# t1, t2\n",
    "t4 = [4]\n",
    "\n",
    "t3 = t1 + t4\n",
    "# t1, t3\n",
    "\n",
    "# append method modifies a list, but the \n",
    "# + operator creates a new list."
   ]
  },
  {
   "cell_type": "code",
   "execution_count": 19,
   "id": "77021330-98d7-4a71-8438-e611c237902d",
   "metadata": {},
   "outputs": [
    {
     "data": {
      "text/plain": [
       "[1, 3, 4]"
      ]
     },
     "execution_count": 19,
     "metadata": {},
     "output_type": "execute_result"
    }
   ],
   "source": [
    "\n",
    "def bad_delete_head(t):\n",
    "    t = t[:1] # wrong because slice operator creates new list\n",
    "t = [1, 3, 4]\n",
    "\n",
    "bad_delete_head(t)\n",
    "t\n",
    "    "
   ]
  },
  {
   "cell_type": "code",
   "execution_count": 102,
   "id": "551c5959-0b19-4cc4-8d8c-42e6b94f8edd",
   "metadata": {
    "tags": []
   },
   "outputs": [
    {
     "data": {
      "text/plain": [
       "[1, 2, [10]]"
      ]
     },
     "execution_count": 102,
     "metadata": {},
     "output_type": "execute_result"
    }
   ],
   "source": [
    "# Be careful\n",
    "t = [1, 2,]\n",
    "# x = [10, 34]\n",
    "x = 10\n",
    "# t.append(x)\n",
    "# t = t + [x]\n",
    "# t += [x]\n",
    "# t\n",
    "\n",
    "\n",
    "t.append([x]) # Wrong\n",
    "t\n",
    "# t = t.append(x) # Wrong\n",
    "t + [x] # Wrong\n",
    "# t = t + x # Wrong"
   ]
  },
  {
   "cell_type": "markdown",
   "id": "f11d9eec-ddc7-4f3a-a57e-96f34c8f3f2e",
   "metadata": {},
   "source": [
    "##  Practice problems"
   ]
  },
  {
   "cell_type": "markdown",
   "id": "1b045122-7062-4143-b497-f3f484772f3f",
   "metadata": {},
   "source": [
    "Write a function called nested_sum that takes a list of lists of integers and adds up the\n",
    "elements from all of the nested lists. For example:\n",
    "\n",
    "```python\n",
    ">>> t = [[1, 2], [3], [4, 5, 6]]\n",
    ">>> nested_sum(t)\n",
    "21\n",
    "```"
   ]
  },
  {
   "cell_type": "code",
   "execution_count": 108,
   "id": "fe1475e6-1858-4ce9-a769-0e65eb783219",
   "metadata": {},
   "outputs": [
    {
     "name": "stdout",
     "output_type": "stream",
     "text": [
      "21\n"
     ]
    }
   ],
   "source": [
    "\n",
    "t = [[1, 2], [3], [4, 5, 6]]\n",
    "\n",
    "def nested_sum(t):\n",
    "    summation = 0\n",
    "    for lst in t:\n",
    "        # lst\n",
    "        for item in lst:\n",
    "            # item\n",
    "            summation = summation + item\n",
    "    return summation\n",
    "        \n",
    "        \n",
    "print(nested_sum(t))"
   ]
  }
 ],
 "metadata": {
  "kernelspec": {
   "display_name": "Python 3 (ipykernel)",
   "language": "python",
   "name": "python3"
  },
  "language_info": {
   "codemirror_mode": {
    "name": "ipython",
    "version": 3
   },
   "file_extension": ".py",
   "mimetype": "text/x-python",
   "name": "python",
   "nbconvert_exporter": "python",
   "pygments_lexer": "ipython3",
   "version": "3.8.10"
  }
 },
 "nbformat": 4,
 "nbformat_minor": 5
}
