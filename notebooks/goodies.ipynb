{
 "cells": [
  {
   "cell_type": "markdown",
   "id": "1a22670b-ee87-484e-845d-39d0841a3388",
   "metadata": {},
   "source": [
    "- Conditional expressions\n",
    "- List comprehensions\n",
    "- Generator Expressions\n",
    "- any and all\n",
    "- sets\n",
    "- counters\n",
    "- defaultdict\n",
    "- Named tuples\n",
    "- Gatheing keyboard args"
   ]
  },
  {
   "cell_type": "code",
   "execution_count": 1,
   "id": "53fa16e9-e1c5-41e7-b39b-281d3fce4c4b",
   "metadata": {},
   "outputs": [
    {
     "data": {
      "text/plain": [
       "['__and__',\n",
       " '__class__',\n",
       " '__contains__',\n",
       " '__delattr__',\n",
       " '__dir__',\n",
       " '__doc__',\n",
       " '__eq__',\n",
       " '__format__',\n",
       " '__ge__',\n",
       " '__getattribute__',\n",
       " '__gt__',\n",
       " '__hash__',\n",
       " '__iand__',\n",
       " '__init__',\n",
       " '__init_subclass__',\n",
       " '__ior__',\n",
       " '__isub__',\n",
       " '__iter__',\n",
       " '__ixor__',\n",
       " '__le__',\n",
       " '__len__',\n",
       " '__lt__',\n",
       " '__ne__',\n",
       " '__new__',\n",
       " '__or__',\n",
       " '__rand__',\n",
       " '__reduce__',\n",
       " '__reduce_ex__',\n",
       " '__repr__',\n",
       " '__ror__',\n",
       " '__rsub__',\n",
       " '__rxor__',\n",
       " '__setattr__',\n",
       " '__sizeof__',\n",
       " '__str__',\n",
       " '__sub__',\n",
       " '__subclasshook__',\n",
       " '__xor__',\n",
       " 'add',\n",
       " 'clear',\n",
       " 'copy',\n",
       " 'difference',\n",
       " 'difference_update',\n",
       " 'discard',\n",
       " 'intersection',\n",
       " 'intersection_update',\n",
       " 'isdisjoint',\n",
       " 'issubset',\n",
       " 'issuperset',\n",
       " 'pop',\n",
       " 'remove',\n",
       " 'symmetric_difference',\n",
       " 'symmetric_difference_update',\n",
       " 'union',\n",
       " 'update']"
      ]
     },
     "execution_count": 1,
     "metadata": {},
     "output_type": "execute_result"
    }
   ],
   "source": [
    "st = set()\n",
    "dir(st)"
   ]
  },
  {
   "cell_type": "code",
   "execution_count": null,
   "id": "7992b352-a729-47c9-b291-30ea4388a9e8",
   "metadata": {},
   "outputs": [],
   "source": [
    "# conditional statement vs conditional expression"
   ]
  },
  {
   "cell_type": "code",
   "execution_count": 2,
   "id": "fc43b988-d520-4f4f-aba8-edbd0b223e42",
   "metadata": {},
   "outputs": [
    {
     "name": "stdout",
     "output_type": "stream",
     "text": [
      "Help on built-in function union:\n",
      "\n",
      "union(...) method of builtins.set instance\n",
      "    Return the union of sets as a new set.\n",
      "    \n",
      "    (i.e. all elements that are in either set.)\n",
      "\n"
     ]
    }
   ],
   "source": [
    "help(st.union)"
   ]
  },
  {
   "cell_type": "code",
   "execution_count": null,
   "id": "58e4fa88-5af0-4858-98e2-36dadea8b385",
   "metadata": {},
   "outputs": [],
   "source": []
  },
  {
   "cell_type": "code",
   "execution_count": 5,
   "id": "38491ee8-7893-47b1-8535-08f36cbd3cf8",
   "metadata": {},
   "outputs": [
    {
     "data": {
      "text/plain": [
       "2.302585092994046"
      ]
     },
     "execution_count": 5,
     "metadata": {},
     "output_type": "execute_result"
    }
   ],
   "source": [
    "# conditional expressions\n",
    "import math\n",
    "\n",
    "#  \n",
    "x = 10\n",
    "# x = -5\n",
    "if x > 0:\n",
    "    y = math.log(x)\n",
    "else:\n",
    "    y = float('nan')\n",
    "y\n",
    "\n",
    "y = math.log(x) if x > 0 else float('nan')\n",
    "y\n"
   ]
  },
  {
   "cell_type": "code",
   "execution_count": 7,
   "id": "59936e95-ee96-4665-ae62-58c8bf2a9174",
   "metadata": {},
   "outputs": [
    {
     "data": {
      "text/plain": [
       "120"
      ]
     },
     "execution_count": 7,
     "metadata": {},
     "output_type": "execute_result"
    }
   ],
   "source": [
    "def factorial(n):\n",
    "    if n == 0:\n",
    "        return 1\n",
    "    else:\n",
    "        return n * factorial(n-1)\n",
    "factorial(5)\n",
    "\n",
    "\n",
    "def factorial(n):\n",
    "    return 1 if n ==0 else n * factorial(n-1)\n",
    "\n",
    "factorial(5)"
   ]
  },
  {
   "cell_type": "code",
   "execution_count": 8,
   "id": "2d5a739b-9b1a-493b-85dc-778558791d2e",
   "metadata": {},
   "outputs": [],
   "source": [
    "#     def __init__(self, name, contents=None):\n",
    "#         self.name = name\n",
    "#         if contents == None:\n",
    "#             contents = []\n",
    "#         self.pounch_contents = contents\n",
    "\n",
    "\n",
    "#     def __init__(self, name, contents=None):\n",
    "#         self.name = name\n",
    "#         self.punch_contents = [] if contents == None else contents"
   ]
  },
  {
   "cell_type": "code",
   "execution_count": 5,
   "id": "8a8e48fe-3a3a-4c99-a23a-1c2de58f843a",
   "metadata": {},
   "outputs": [
    {
     "data": {
      "text/plain": [
       "[0, 2, 4, 6, 8]"
      ]
     },
     "execution_count": 5,
     "metadata": {},
     "output_type": "execute_result"
    }
   ],
   "source": [
    "lst = []\n",
    "\n",
    "for i in range(10):\n",
    "    lst.append(i)\n",
    "lst\n",
    "\n",
    "\n",
    "# lst = [output iterator condition]\n",
    "\n",
    "lst = [i for i in range(10) if i%2 == 0]\n",
    "lst"
   ]
  },
  {
   "cell_type": "code",
   "execution_count": 8,
   "id": "15b1416e-0d3a-4e42-b9ec-2e6442445f72",
   "metadata": {
    "tags": []
   },
   "outputs": [],
   "source": [
    "# List comprehensions\n",
    "\n",
    "\n",
    "def capitalize_all(t):\n",
    "    res = []\n",
    "    for s in t:\n",
    "        res.append(s.capitalize())\n",
    "    return res\n",
    "\n",
    "\n",
    "def capitalize_all(t):\n",
    "    return [s.capitalize() for s in t]\n",
    "\n",
    "string = 'Bangladesh is a small country'\n",
    "\n",
    "# capitalize_all(string)"
   ]
  },
  {
   "cell_type": "code",
   "execution_count": 15,
   "id": "d97c720e-6b93-4b5d-9cae-eea2cc2accfd",
   "metadata": {},
   "outputs": [
    {
     "data": {
      "text/plain": [
       "['B', 'H']"
      ]
     },
     "execution_count": 15,
     "metadata": {},
     "output_type": "execute_result"
    }
   ],
   "source": [
    "\n",
    "def only_upper(t):\n",
    "    res = []\n",
    "    for s in t:\n",
    "        if s.isupper():\n",
    "            res.append(s)\n",
    "    return res\n",
    "\n",
    "\n",
    "def only_upper(t):\n",
    "    return [s for s in t if s.isupper()]\n",
    "\n",
    "st = 'BangladesH'\n",
    "only_upper(st)"
   ]
  },
  {
   "cell_type": "code",
   "execution_count": 9,
   "id": "6ef9b5f8-f12d-458d-8ab9-5567a94c7791",
   "metadata": {},
   "outputs": [
    {
     "data": {
      "text/plain": [
       "<generator object <genexpr> at 0x7efcf9d9d820>"
      ]
     },
     "execution_count": 9,
     "metadata": {},
     "output_type": "execute_result"
    }
   ],
   "source": [
    "# Generator expressions\n",
    "\n",
    "g = (x**2 for x in range(5))\n",
    "g\n",
    "# next(g)\n",
    "# next(g)\n",
    "# next(g)\n",
    "\n",
    "\n",
    "# iterating using for loop\n",
    "# for val in g:\n",
    "#     print(val)"
   ]
  },
  {
   "cell_type": "code",
   "execution_count": 26,
   "id": "cf04c62d-7b1b-41d4-97b8-7a48b31f21c1",
   "metadata": {},
   "outputs": [
    {
     "data": {
      "text/plain": [
       "True"
      ]
     },
     "execution_count": 26,
     "metadata": {},
     "output_type": "execute_result"
    }
   ],
   "source": [
    "# any and all\n",
    "\n",
    "any([False, False, True])\n",
    "\n",
    "any(letter == 't' for letter in 'monty')\n",
    "\n",
    "\n",
    "def avoids(word, forbidden):\n",
    "    return any(letter in forbidden for letter in word)\n",
    "\n",
    "forbidden = 'cm'\n",
    "\n",
    "avoids('shahid', forbidden)\n",
    "\n",
    "\n",
    "all(letter == 't' for letter in 'ttt')"
   ]
  },
  {
   "cell_type": "code",
   "execution_count": 10,
   "id": "ed2da3e1-27e5-4c4e-903d-e857d0af1436",
   "metadata": {},
   "outputs": [
    {
     "data": {
      "text/plain": [
       "{'c'}"
      ]
     },
     "execution_count": 10,
     "metadata": {},
     "output_type": "execute_result"
    }
   ],
   "source": [
    "# sets\n",
    "\n",
    "def subtract(d1, d2):\n",
    "    res = dict()\n",
    "    for key in d1:\n",
    "        if key not in d2:\n",
    "            res[key] = None\n",
    "    return res\n",
    "\n",
    "d1 = {'a': 1, 'b': 1, 'c': 1}\n",
    "d2 = {'a': 1, 'b': 1, 'd': 1}\n",
    "\n",
    "subtract(d1, d2)\n",
    "\n",
    "\n",
    "def subtract(d1, d2):\n",
    "    return set(d1) - set(d2)\n",
    "subtract(d1, d2)"
   ]
  },
  {
   "cell_type": "code",
   "execution_count": 31,
   "id": "5b2d39e5-1202-44f9-b9e1-67e01284ca3a",
   "metadata": {},
   "outputs": [
    {
     "data": {
      "text/plain": [
       "False"
      ]
     },
     "execution_count": 31,
     "metadata": {},
     "output_type": "execute_result"
    }
   ],
   "source": [
    "def has_duplicates(t):\n",
    "    d = {}\n",
    "    for x in t:\n",
    "        if x in d:\n",
    "            return True\n",
    "        d[x] = True\n",
    "    return False\n",
    "\n",
    "st = 'shahid'\n",
    "has_duplicates(st)\n",
    "            \n",
    "    \n",
    "def has_duplicates(t):\n",
    "    return len(set(t)) < len(t)\n",
    "\n",
    "st = 'sh'\n",
    "has_duplicates(st)\n",
    "    "
   ]
  },
  {
   "cell_type": "code",
   "execution_count": 11,
   "id": "111a5dbf-91c0-47f7-8b36-c9edeb9a1852",
   "metadata": {},
   "outputs": [
    {
     "data": {
      "text/plain": [
       "{'a', 'd', 'h', 'i', 's'}"
      ]
     },
     "execution_count": 11,
     "metadata": {},
     "output_type": "execute_result"
    }
   ],
   "source": [
    "st1 = 'shahid'\n",
    "st2 = 'abcd3f'\n",
    "\n",
    "set(st1)"
   ]
  },
  {
   "cell_type": "code",
   "execution_count": 35,
   "id": "0171227c-a381-4408-a682-7a254b931a81",
   "metadata": {},
   "outputs": [
    {
     "data": {
      "text/plain": [
       "False"
      ]
     },
     "execution_count": 35,
     "metadata": {},
     "output_type": "execute_result"
    }
   ],
   "source": [
    "def uses_only(word, available):\n",
    "    for letter in word:\n",
    "        if letter not in available:\n",
    "            return False\n",
    "    return True\n",
    "\n",
    "def use_only(word, available):\n",
    "    return set(word) <= set(available)\n",
    "\n",
    "# <= operator checks whether one set is a subset or another\n",
    "# including the possiblity that they are equal, which is true\n",
    "# if all the letters in word appear in available.\n",
    "\n",
    "available = 'abc'\n",
    "word = 'dm'\n",
    "\n",
    "use_only(word, available)"
   ]
  },
  {
   "cell_type": "code",
   "execution_count": 15,
   "id": "4f02303b-e79b-4fc8-8aba-d2225ebd866e",
   "metadata": {},
   "outputs": [
    {
     "data": {
      "text/plain": [
       "Counter({'s': 1, 'h': 2, 'a': 1, 'i': 1, 'd': 1})"
      ]
     },
     "execution_count": 15,
     "metadata": {},
     "output_type": "execute_result"
    }
   ],
   "source": [
    "# counters (like multiset)\n",
    "\n",
    "from collections import Counter\n",
    "count = Counter('shahid')\n",
    "count\n",
    "\n",
    "\n",
    "# def is_anagram(word1, word2):\n",
    "#     return Counter(word1) == Counter(word2)\n",
    "\n",
    "# is_anagram('shahid', 'shahid')\n",
    "\n",
    "\n",
    "# count = Counter('parrot')\n",
    "# count\n",
    "\n",
    "# for val, freq in count.most_common(3):\n",
    "#     print(val, freq)\n"
   ]
  },
  {
   "cell_type": "code",
   "execution_count": 53,
   "id": "629b0b63-f115-42ef-8308-3f9261c95603",
   "metadata": {},
   "outputs": [
    {
     "data": {
      "text/plain": [
       "(['new_value'], defaultdict(list, {'new_key': ['new_value']}))"
      ]
     },
     "execution_count": 53,
     "metadata": {},
     "output_type": "execute_result"
    }
   ],
   "source": [
    "# defaultdict\n",
    "\n",
    "from collections import defaultdict\n",
    "d = defaultdict(list)\n",
    "d\n",
    "t = d['new_key']\n",
    "t, d\n",
    "t.append('new_value')\n",
    "t, d\n",
    "\n",
    "# A function used to create objects is sometimes\n",
    "# called a factory. e.g: list()"
   ]
  },
  {
   "cell_type": "code",
   "execution_count": null,
   "id": "5b5e0ea8-4f85-43ee-8473-9f1b005f4cfb",
   "metadata": {},
   "outputs": [],
   "source": [
    "# incompleted example\n",
    "def all_anagrams(filename):\n",
    "    d {}\n",
    "    for line in open(filename):\n",
    "        word = line.strip().lower()\n",
    "        t = signature(word)\n",
    "        if t not in d:\n",
    "            d[t] = [word]\n",
    "        else:\n",
    "            d[t].append(word)\n",
    "    return d\n",
    "\n",
    "\n",
    "def all_anagrams(filename):\n",
    "    d = {}\n",
    "    for line in open(filename):\n",
    "        word = line.strip().lower()\n",
    "        t = signature(word)\n",
    "        d.setdefault(t, []).append(word)\n",
    "    return d\n",
    "        \n",
    "    \n",
    "def all_anagrams(filename):\n",
    "    d = defaultdict(list)\n",
    "    for line in open(filename):\n",
    "        word = line.strip().lower()\n",
    "        t = signature(word)\n",
    "        d[t].append(word)\n",
    "    return d"
   ]
  },
  {
   "cell_type": "code",
   "execution_count": 61,
   "id": "96273d3f-b888-4b52-ae9e-c15567ec7f46",
   "metadata": {},
   "outputs": [
    {
     "data": {
      "text/plain": [
       "(1, 2)"
      ]
     },
     "execution_count": 61,
     "metadata": {},
     "output_type": "execute_result"
    }
   ],
   "source": [
    "# Named tuples\n",
    "\n",
    "class Point:\n",
    "    def __init__(self, x=0, y=0):\n",
    "        self.x = x\n",
    "        self.y = y\n",
    "        \n",
    "    def __str__(self):\n",
    "        return '(%g, %g)' %(self.x, self.y)\n",
    "    \n",
    "from collections import namedtuple\n",
    "Point = namedtuple('Point', ['x', 'y'])\n",
    "\n",
    "p = Point(1, 2)\n",
    "p\n",
    "\n",
    "p.x, p.y\n",
    "\n",
    "p[0], p[1] \n",
    "\n",
    "# Inheritence\n",
    "\n",
    "class Pointier(Point):\n",
    "    # add more methods here\n"
   ]
  },
  {
   "cell_type": "code",
   "execution_count": 70,
   "id": "9dad4df0-a0bb-43a3-af26-1abc6fa936f5",
   "metadata": {},
   "outputs": [
    {
     "name": "stdout",
     "output_type": "stream",
     "text": [
      "(1, 3, 3, 5)\n",
      "(1, 3, 3, 5) {'x': 10}\n"
     ]
    },
    {
     "data": {
      "text/plain": [
       "Point(x=1, y=2)"
      ]
     },
     "execution_count": 70,
     "metadata": {},
     "output_type": "execute_result"
    }
   ],
   "source": [
    "# Gathering keyword agrs\n",
    "\n",
    "def printall(*args):\n",
    "    print(args)\n",
    "    \n",
    "printall(1, 3, 3, 5)\n",
    "\n",
    "# * operator does not gather keyword arguments\n",
    "def printall(*args):\n",
    "    print(args)\n",
    "    \n",
    "# printall(1, 3, 3, 5, x=10)\n",
    "\n",
    "def printall(*args, **kwargs):\n",
    "    print(args, kwargs)\n",
    "    \n",
    "printall(1, 3, 3, 5, x=10)\n",
    "\n",
    "# ** scatter operator\n",
    "d = dict(x=1, y=2)\n",
    "d\n",
    "\n",
    "Point(**d)"
   ]
  },
  {
   "cell_type": "code",
   "execution_count": null,
   "id": "31a47197-8072-48d9-85bc-889e70126fa1",
   "metadata": {},
   "outputs": [],
   "source": []
  },
  {
   "cell_type": "code",
   "execution_count": 9,
   "id": "7d1ffb06-f9c8-4668-93fe-867bbbcd9b37",
   "metadata": {},
   "outputs": [
    {
     "data": {
      "text/plain": [
       "[2, 3, 4, 5]"
      ]
     },
     "execution_count": 9,
     "metadata": {},
     "output_type": "execute_result"
    }
   ],
   "source": [
    "def func(lst):\n",
    "    lst.sort()\n",
    "    \n",
    "lst = [4, 2, 3, 5]\n",
    "func(lst)\n",
    "lst"
   ]
  }
 ],
 "metadata": {
  "kernelspec": {
   "display_name": "Python 3 (ipykernel)",
   "language": "python",
   "name": "python3"
  },
  "language_info": {
   "codemirror_mode": {
    "name": "ipython",
    "version": 3
   },
   "file_extension": ".py",
   "mimetype": "text/x-python",
   "name": "python",
   "nbconvert_exporter": "python",
   "pygments_lexer": "ipython3",
   "version": "3.8.10"
  }
 },
 "nbformat": 4,
 "nbformat_minor": 5
}
