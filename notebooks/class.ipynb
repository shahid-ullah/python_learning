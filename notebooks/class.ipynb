{
 "cells": [
  {
   "cell_type": "code",
   "execution_count": 3,
   "id": "4b8dcc9f-7d3f-419a-acf0-35c5ebf667e0",
   "metadata": {},
   "outputs": [],
   "source": [
    "from IPython.core.interactiveshell import InteractiveShell\n",
    "InteractiveShell.ast_node_interactivity = 'all'"
   ]
  },
  {
   "cell_type": "code",
   "execution_count": 9,
   "id": "54be76bc-0e24-4cc0-b99a-591bf87449ae",
   "metadata": {},
   "outputs": [
    {
     "name": "stdout",
     "output_type": "stream",
     "text": [
      "205\n",
      "80\n"
     ]
    }
   ],
   "source": [
    "class Rectangle(object):\n",
    "    # x = 10\n",
    "    # y = 10\n",
    "    c = 5\n",
    "    def __init__(self, a, b):\n",
    "        self.x = a\n",
    "        self.y = b\n",
    "        \n",
    "    def area(self):\n",
    "        return self.x * self.y + self.c\n",
    "\n",
    "\n",
    "# obj1 = Rectangle()\n",
    "# obj2 = Rectangle()\n",
    "# print(obj1.area())\n",
    "# print(obj2.area())\n",
    "\n",
    "obj1 = Rectangle(10, 20)\n",
    "obj2 = Rectangle(5, 15)\n",
    "print(obj1.area())\n",
    "print(obj2.area())\n",
    "\n",
    "\n",
    "# obj2 = Rectangle(5, 15)"
   ]
  },
  {
   "cell_type": "code",
   "execution_count": 22,
   "id": "1c7b22cc-c5c6-4a40-8284-fa8fc697a9cc",
   "metadata": {},
   "outputs": [
    {
     "name": "stdout",
     "output_type": "stream",
     "text": [
      "hello world from something2\n",
      "hello world\n"
     ]
    }
   ],
   "source": [
    "class something:\n",
    "    def hello(self):\n",
    "      print('hello world')  \n",
    "    \n",
    "    def hello2(self):\n",
    "      print('hello world')  \n",
    "    \n",
    "class something2(something):\n",
    "    def hello(self):\n",
    "      print('hello world from something2')  \n",
    "    \n",
    "    \n",
    "# obj1 = something()\n",
    "# obj1.hello()\n",
    "\n",
    "obj2 = something2()\n",
    "# help(obj2)\n",
    "obj2.hello()\n",
    "obj2.hello2()"
   ]
  },
  {
   "cell_type": "code",
   "execution_count": null,
   "id": "adaffdd6-3235-4c36-95b7-b5680c1ad628",
   "metadata": {},
   "outputs": [],
   "source": [
    "class className:\n",
    "    pass\n"
   ]
  },
  {
   "cell_type": "code",
   "execution_count": 1,
   "id": "81538ecd-6884-4372-ae04-ce401a1a5cd9",
   "metadata": {},
   "outputs": [
    {
     "name": "stdout",
     "output_type": "stream",
     "text": [
      "90\n",
      "27\n",
      "171\n",
      "80.0\n",
      "It is impossible to divide by zero.\n"
     ]
    }
   ],
   "source": [
    "class Calculator:\n",
    "    \"\"\"Do addition, subtraction, multiplication and division.\"\"\"\n",
    "\n",
    "    def addition(self, a, b):\n",
    "        return a+b\n",
    "\n",
    "    def subtraction(self, a, b):\n",
    "        return a-b\n",
    "\n",
    "    def multiplication(self, a, b):\n",
    "        return a*b\n",
    "\n",
    "    def division(self, a, b):\n",
    "        try:\n",
    "            return a/b\n",
    "        except ZeroDivisionError:\n",
    "            return 'It is impossible to divide by zero.'\n",
    "\n",
    "my_calculator = Calculator()\n",
    "\n",
    "temp = my_calculator.addition(12, 78)\n",
    "print(temp)\n",
    "\n",
    "temp = my_calculator.subtraction(50, 23)\n",
    "print(temp)\n",
    "\n",
    "temp = my_calculator.multiplication(9, 19)\n",
    "print(temp)\n",
    "\n",
    "temp = my_calculator.division(400, 5)\n",
    "print(temp)\n",
    "\n",
    "temp = my_calculator.division(43, 0)\n",
    "print(temp)"
   ]
  },
  {
   "cell_type": "code",
   "execution_count": 2,
   "id": "0fee83fa-db74-4d71-b11f-949947401a19",
   "metadata": {},
   "outputs": [
    {
     "name": "stdout",
     "output_type": "stream",
     "text": [
      "48\n",
      "42\n",
      "135\n",
      "15.0\n"
     ]
    }
   ],
   "source": [
    "class Calculator:\n",
    "    \"\"\"Do addition, subtraction, multiplication and division.\"\"\"\n",
    "\n",
    "    def __init__(self, a, b):\n",
    "        self.a = a\n",
    "        self.b = b\n",
    "\n",
    "    def addition(self):\n",
    "        return self.a + self.b\n",
    "\n",
    "    def subtraction(self):\n",
    "        return self.a - self.b\n",
    "\n",
    "    def multiplication(self):\n",
    "        return self.a * self.b\n",
    "\n",
    "    def division(self):\n",
    "        try:\n",
    "            return self.a / self.b\n",
    "        except ZeroDivisionError:\n",
    "            return 'It is impossible to divide by zero.'\n",
    "\n",
    "my_calculator = Calculator(45, 3)\n",
    "\n",
    "temp = my_calculator.addition()\n",
    "print(temp)\n",
    "\n",
    "temp = my_calculator.subtraction()\n",
    "print(temp)\n",
    "\n",
    "temp = my_calculator.multiplication()\n",
    "print(temp)\n",
    "\n",
    "temp = my_calculator.division()\n",
    "print(temp)"
   ]
  },
  {
   "cell_type": "markdown",
   "id": "894ae573-ae33-4322-a656-30efdbb21640",
   "metadata": {},
   "source": [
    "An object is simply a collection of data (variables) and methods (functions) that act on those data. Similarly, a class is a blueprint for that object."
   ]
  },
  {
   "cell_type": "code",
   "execution_count": null,
   "id": "71212f3b-36b5-4476-99a1-603b1589b7ed",
   "metadata": {},
   "outputs": [],
   "source": [
    "class Rectangle:"
   ]
  }
 ],
 "metadata": {
  "kernelspec": {
   "display_name": "Python 3 (ipykernel)",
   "language": "python",
   "name": "python3"
  },
  "language_info": {
   "codemirror_mode": {
    "name": "ipython",
    "version": 3
   },
   "file_extension": ".py",
   "mimetype": "text/x-python",
   "name": "python",
   "nbconvert_exporter": "python",
   "pygments_lexer": "ipython3",
   "version": "3.8.10"
  }
 },
 "nbformat": 4,
 "nbformat_minor": 5
}
