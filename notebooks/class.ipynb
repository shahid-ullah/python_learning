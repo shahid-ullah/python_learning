{
 "cells": [
  {
   "cell_type": "code",
   "execution_count": 3,
   "id": "4b8dcc9f-7d3f-419a-acf0-35c5ebf667e0",
   "metadata": {},
   "outputs": [],
   "source": [
    "from IPython.core.interactiveshell import InteractiveShell\n",
    "InteractiveShell.ast_node_interactivity = 'all'"
   ]
  },
  {
   "cell_type": "code",
   "execution_count": 25,
   "id": "9b0b198f-1764-40cd-8119-de3eed45be13",
   "metadata": {},
   "outputs": [
    {
     "name": "stdout",
     "output_type": "stream",
     "text": [
      "10 20 200\n",
      "5 15 75\n"
     ]
    }
   ],
   "source": [
    "class Rectangle:\n",
    "    def __init__(self, a, b):\n",
    "        self.x = a\n",
    "        self.y = b\n",
    "        \n",
    "    def area(self):\n",
    "        return self.x * self.y\n",
    "\n",
    "\n",
    "obj1 = Rectangle(10, 20)\n",
    "obj2 = Rectangle(5, 15)\n",
    "\n",
    "# print(obj1)\n",
    "# print(obj2)\n",
    "\n",
    "print(obj1.x, obj1.y, obj1.area())\n",
    "print(obj2.x, obj2.y, obj2.area())\n",
    "\n",
    "# type(Rectangle)\n",
    "\n",
    "\n",
    "\n",
    "\n"
   ]
  },
  {
   "cell_type": "code",
   "execution_count": 1,
   "id": "81538ecd-6884-4372-ae04-ce401a1a5cd9",
   "metadata": {},
   "outputs": [
    {
     "name": "stdout",
     "output_type": "stream",
     "text": [
      "90\n",
      "27\n",
      "171\n",
      "80.0\n",
      "It is impossible to divide by zero.\n"
     ]
    }
   ],
   "source": [
    "class Calculator:\n",
    "    \"\"\"Do addition, subtraction, multiplication and division.\"\"\"\n",
    "\n",
    "    def addition(self, a, b):\n",
    "        return a+b\n",
    "\n",
    "    def subtraction(self, a, b):\n",
    "        return a-b\n",
    "\n",
    "    def multiplication(self, a, b):\n",
    "        return a*b\n",
    "\n",
    "    def division(self, a, b):\n",
    "        try:\n",
    "            return a/b\n",
    "        except ZeroDivisionError:\n",
    "            return 'It is impossible to divide by zero.'\n",
    "\n",
    "my_calculator = Calculator()\n",
    "\n",
    "temp = my_calculator.addition(12, 78)\n",
    "print(temp)\n",
    "\n",
    "temp = my_calculator.subtraction(50, 23)\n",
    "print(temp)\n",
    "\n",
    "temp = my_calculator.multiplication(9, 19)\n",
    "print(temp)\n",
    "\n",
    "temp = my_calculator.division(400, 5)\n",
    "print(temp)\n",
    "\n",
    "temp = my_calculator.division(43, 0)\n",
    "print(temp)"
   ]
  },
  {
   "cell_type": "code",
   "execution_count": 2,
   "id": "0fee83fa-db74-4d71-b11f-949947401a19",
   "metadata": {},
   "outputs": [
    {
     "name": "stdout",
     "output_type": "stream",
     "text": [
      "48\n",
      "42\n",
      "135\n",
      "15.0\n"
     ]
    }
   ],
   "source": [
    "class Calculator:\n",
    "    \"\"\"Do addition, subtraction, multiplication and division.\"\"\"\n",
    "\n",
    "    def __init__(self, a, b):\n",
    "        self.a = a\n",
    "        self.b = b\n",
    "\n",
    "    def addition(self):\n",
    "        return self.a + self.b\n",
    "\n",
    "    def subtraction(self):\n",
    "        return self.a - self.b\n",
    "\n",
    "    def multiplication(self):\n",
    "        return self.a * self.b\n",
    "\n",
    "    def division(self):\n",
    "        try:\n",
    "            return self.a / self.b\n",
    "        except ZeroDivisionError:\n",
    "            return 'It is impossible to divide by zero.'\n",
    "\n",
    "my_calculator = Calculator(45, 3)\n",
    "\n",
    "temp = my_calculator.addition()\n",
    "print(temp)\n",
    "\n",
    "temp = my_calculator.subtraction()\n",
    "print(temp)\n",
    "\n",
    "temp = my_calculator.multiplication()\n",
    "print(temp)\n",
    "\n",
    "temp = my_calculator.division()\n",
    "print(temp)"
   ]
  },
  {
   "cell_type": "markdown",
   "id": "894ae573-ae33-4322-a656-30efdbb21640",
   "metadata": {},
   "source": [
    "An object is simply a collection of data (variables) and methods (functions) that act on those data. Similarly, a class is a blueprint for that object."
   ]
  },
  {
   "cell_type": "code",
   "execution_count": null,
   "id": "71212f3b-36b5-4476-99a1-603b1589b7ed",
   "metadata": {},
   "outputs": [],
   "source": [
    "class Rectangle:"
   ]
  }
 ],
 "metadata": {
  "kernelspec": {
   "display_name": "Python 3 (ipykernel)",
   "language": "python",
   "name": "python3"
  },
  "language_info": {
   "codemirror_mode": {
    "name": "ipython",
    "version": 3
   },
   "file_extension": ".py",
   "mimetype": "text/x-python",
   "name": "python",
   "nbconvert_exporter": "python",
   "pygments_lexer": "ipython3",
   "version": "3.8.10"
  }
 },
 "nbformat": 4,
 "nbformat_minor": 5
}
