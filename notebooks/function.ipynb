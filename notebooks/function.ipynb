{
 "cells": [
  {
   "cell_type": "markdown",
   "id": "9e6c9de6-99dd-48da-beac-f1be2d9d1d8d",
   "metadata": {},
   "source": [
    "- built-in function\n",
    "- user defined function"
   ]
  },
  {
   "cell_type": "markdown",
   "id": "b0504c83-7a43-486d-b4c1-a24f463b51e0",
   "metadata": {},
   "source": [
    "- what is function?\n",
    "- why we use function?\n",
    "- How to define function?\n",
    "- what is function parameter?\n",
    "- what is function argument?\n",
    "- what is function return value?\n",
    "- what is function calling?"
   ]
  },
  {
   "cell_type": "markdown",
   "id": "17a37939-a3b5-43fe-9c5d-516644a9f7a7",
   "metadata": {},
   "source": [
    "- reusuable code\n",
    "Functions are used to reuse a bit of code as many as we\n",
    "want.\n",
    "\n",
    "- function definition\n",
    "- parameters\n",
    "- arguments\n",
    "- return statement"
   ]
  },
  {
   "cell_type": "markdown",
   "id": "82566d17-cfcd-4cf7-9357-59c54ec77068",
   "metadata": {},
   "source": [
    "# function definition\n",
    "```python\n",
    "def function_name(parameters):\n",
    "\t\"\"\"docstring\"\"\"\n",
    "\tstatement(s)/instructions\n",
    "```"
   ]
  },
  {
   "cell_type": "code",
   "execution_count": 5,
   "id": "d8c1f99a-9f3a-43a3-a227-c712d4a5ffa5",
   "metadata": {},
   "outputs": [],
   "source": [
    "st = {1, 2, 3}"
   ]
  },
  {
   "cell_type": "code",
   "execution_count": null,
   "id": "c13866e9-f5aa-4ded-bfd2-bffaba83f1f6",
   "metadata": {},
   "outputs": [],
   "source": []
  },
  {
   "cell_type": "code",
   "execution_count": 10,
   "id": "f00efc05-ff02-48a0-9893-f4c7cc32eb5e",
   "metadata": {},
   "outputs": [],
   "source": [
    "# st.pop()"
   ]
  },
  {
   "cell_type": "code",
   "execution_count": null,
   "id": "af7591d6-a266-42b1-b341-430f50bd8647",
   "metadata": {},
   "outputs": [],
   "source": []
  },
  {
   "cell_type": "code",
   "execution_count": null,
   "id": "fe74b664-ac49-4d8d-a63d-18f69cb2e22f",
   "metadata": {},
   "outputs": [],
   "source": []
  },
  {
   "cell_type": "code",
   "execution_count": 3,
   "id": "db422db7-80a8-45c0-a007-64073c3f5062",
   "metadata": {},
   "outputs": [
    {
     "name": "stdout",
     "output_type": "stream",
     "text": [
      "1663729960.9801116\n",
      "Asad\n"
     ]
    }
   ],
   "source": [
    "import time\n",
    "print(time.time())\n",
    "\n",
    "st = 'asad'\n",
    "print(st.capitalize())\n",
    "\n"
   ]
  },
  {
   "cell_type": "code",
   "execution_count": 2,
   "id": "0433556a-b6fe-434f-bca3-fac27ba199a3",
   "metadata": {},
   "outputs": [],
   "source": [
    "# define a function\n",
    "\n",
    "def function_name():\n",
    "    return None"
   ]
  },
  {
   "cell_type": "code",
   "execution_count": 10,
   "id": "bb5e1c7d-daef-40b6-b959-8829226b4b69",
   "metadata": {},
   "outputs": [
    {
     "name": "stdout",
     "output_type": "stream",
     "text": [
      "12\n"
     ]
    }
   ],
   "source": [
    "def get_sum(a, b):\n",
    "    sum_ = a + b\n",
    "    return sum_\n",
    "    \n",
    "print(get_sum(5,7 ))"
   ]
  },
  {
   "cell_type": "code",
   "execution_count": null,
   "id": "8bbfeb44-72b7-4962-8c4f-f3c4939ccfa3",
   "metadata": {},
   "outputs": [],
   "source": [
    "def print_my_name(myname):\n",
    "    # This will print the given name\n",
    "    print('The given name is', myname)\n",
    "    return"
   ]
  },
  {
   "cell_type": "code",
   "execution_count": null,
   "id": "a5501d45-5334-4964-8536-86120d95c5c2",
   "metadata": {},
   "outputs": [],
   "source": [
    "def add(a, b, c):\n",
    "    return a+b+c\n",
    "\n",
    "temp = add(1, 2, 3)\n",
    "print(temp)"
   ]
  },
  {
   "cell_type": "code",
   "execution_count": null,
   "id": "83e7c09e-4fec-4391-915a-0c1c72464cf7",
   "metadata": {},
   "outputs": [],
   "source": []
  },
  {
   "cell_type": "code",
   "execution_count": 40,
   "id": "22321a0f-ea55-466c-ae0c-7b2f0313dec1",
   "metadata": {},
   "outputs": [
    {
     "ename": "SyntaxError",
     "evalue": "positional argument follows keyword argument (4154668925.py, line 13)",
     "output_type": "error",
     "traceback": [
      "\u001b[0;36m  Input \u001b[0;32mIn [40]\u001b[0;36m\u001b[0m\n\u001b[0;31m    get_sum(5, 7, 10, c=20, 20)\u001b[0m\n\u001b[0m                            ^\u001b[0m\n\u001b[0;31mSyntaxError\u001b[0m\u001b[0;31m:\u001b[0m positional argument follows keyword argument\n"
     ]
    }
   ],
   "source": [
    "def get_sum(a, b, *args, **kwargs):\n",
    "    d = args[0]\n",
    "    e = args[1]\n",
    "    c = kwargs['c']\n",
    "    \n",
    "    print(args)\n",
    "    print(kwargs)\n",
    "    sum_ = a + b \n",
    "    print('a :', a, 'b :', b, 'd :', d, 'e :', e, 'c :', c)\n",
    "    # return sum_\n",
    "    \n",
    "# print(get_sum(5, 7, 10, 20))\n",
    "get_sum(5, 7, 10, c=20, 20)"
   ]
  },
  {
   "cell_type": "markdown",
   "id": "f05ae068-820a-49b0-bd35-cb63554e0324",
   "metadata": {},
   "source": [
    "## function parameter or argument\n",
    "- Required argument\n",
    "- Keyword argument\n",
    "- Default argument\n",
    "- Variable-length argument"
   ]
  },
  {
   "cell_type": "code",
   "execution_count": 5,
   "id": "e7900271-267a-4483-8837-db136bbf57b7",
   "metadata": {},
   "outputs": [],
   "source": [
    "# Required argument\n",
    "def add(a, b, c):\n",
    "    return a+b+c\n",
    "# temp = add(1, 2)\n",
    "# print(temp)"
   ]
  },
  {
   "cell_type": "code",
   "execution_count": null,
   "id": "f91b5970-fe71-49cc-8f02-55c55fccb9d5",
   "metadata": {},
   "outputs": [],
   "source": [
    "# Keyword argument\n",
    "def add(a, b, c):\n",
    "    return a+b+c\n",
    "temp = add(b=2, c=3, a=1)\n",
    "print(temp)"
   ]
  },
  {
   "cell_type": "code",
   "execution_count": null,
   "id": "ca5b3afd-c63f-4414-9ce6-647571dd1ab3",
   "metadata": {},
   "outputs": [],
   "source": [
    "# default argument\n",
    "def add(a, b, c=3):\n",
    "    return a+b+c\n",
    "temp = add(1, 2)\n",
    "print(temp)"
   ]
  },
  {
   "cell_type": "code",
   "execution_count": null,
   "id": "947f492d-0e1d-416f-821e-f0b9b3553d8b",
   "metadata": {},
   "outputs": [],
   "source": [
    "# variable length argument\n",
    "\n",
    "# Non keyword variable length argument\n",
    "def add(*args):\n",
    "    print(type(args))\n",
    "    tmp = 0\n",
    "    for number in args:\n",
    "        tmp = tmp + number\n",
    "    return tmp\n",
    "temp = add(1, 2, 22, 12, 17, 21, 98)\n",
    "print(temp)"
   ]
  },
  {
   "cell_type": "code",
   "execution_count": null,
   "id": "2167a971-0be5-4543-99c5-f55802f3ad7e",
   "metadata": {},
   "outputs": [],
   "source": [
    "# keyword variable length argument\n",
    "def add(**kwargs):\n",
    "    print(type(kwargs))\n",
    "    tmp = 0\n",
    "    for key in kwargs:\n",
    "        tmp = tmp + kwargs[key]\n",
    "    return tmp\n",
    "temp = add(a=1, b=2, c=3, d=4)\n",
    "print(temp)"
   ]
  },
  {
   "cell_type": "code",
   "execution_count": null,
   "id": "83f6ab90-ecb3-4737-aa1c-0e965ade87f5",
   "metadata": {},
   "outputs": [],
   "source": [
    "# area of circle\n",
    "def area(radius):\n",
    "    a = math.pi * radius**2\n",
    "    return a"
   ]
  },
  {
   "cell_type": "code",
   "execution_count": 3,
   "id": "6325fba0-ba9c-44b7-86a1-ebd183a81453",
   "metadata": {},
   "outputs": [
    {
     "name": "stdout",
     "output_type": "stream",
     "text": [
      "a is less than b\n",
      "a is greater than b\n"
     ]
    }
   ],
   "source": [
    "def compare_number(a,b):\n",
    "    if a>b:\n",
    "        print(\"a is greater than b\")\n",
    "    elif a<b:\n",
    "        print(\"a is less than b\")\n",
    "    elif a==b:\n",
    "        print(\"a is equal to b\")\n",
    "    else:\n",
    "        print(\"invalid input\")\n",
    "\n",
    "compare_number(5, 6)\n",
    "compare_number(6, 4)"
   ]
  },
  {
   "cell_type": "markdown",
   "id": "171d5b61-9754-4f1b-b796-7eba8633039e",
   "metadata": {},
   "source": [
    "### https://www.programiz.com/python-programming/function"
   ]
  }
 ],
 "metadata": {
  "kernelspec": {
   "display_name": "Python 3 (ipykernel)",
   "language": "python",
   "name": "python3"
  },
  "language_info": {
   "codemirror_mode": {
    "name": "ipython",
    "version": 3
   },
   "file_extension": ".py",
   "mimetype": "text/x-python",
   "name": "python",
   "nbconvert_exporter": "python",
   "pygments_lexer": "ipython3",
   "version": "3.8.10"
  }
 },
 "nbformat": 4,
 "nbformat_minor": 5
}
